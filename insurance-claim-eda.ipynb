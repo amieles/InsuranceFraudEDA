{
 "cells": [
  {
   "cell_type": "markdown",
   "id": "c04e5d6e",
   "metadata": {
    "papermill": {
     "duration": 0.043711,
     "end_time": "2022-05-27T01:49:11.010173",
     "exception": false,
     "start_time": "2022-05-27T01:49:10.966462",
     "status": "completed"
    },
    "tags": []
   },
   "source": [
    "# Vehicle Insurance Claim EDA\n",
    "This is an exploratory analysis of vehicle insurance claim data. Each row in this dataset represents an individual insurace claim.\n",
    "In this analysis, I will look for interesting patterns and insights in the data set. Ultimately, the goal is to predict whether a claim is fraud (FraudFound_P) or not based on other variables, but in this analysis, I will only be taking the beginning steps of data exploaration. Some questions that I would like to explore in this analysis are: \n",
    "* Who files vehicle insurance claims?\n",
    "* When are these claims most likely to be filed?\n",
    "<br /> The first step is to import the appropriate packages for this analysis."
   ]
  },
  {
   "cell_type": "code",
   "execution_count": 1,
   "id": "0ccc9a85",
   "metadata": {
    "_cell_guid": "b1076dfc-b9ad-4769-8c92-a6c4dae69d19",
    "_uuid": "8f2839f25d086af736a60e9eeb907d3b93b6e0e5",
    "execution": {
     "iopub.execute_input": "2022-05-27T01:49:11.086930Z",
     "iopub.status.busy": "2022-05-27T01:49:11.086367Z",
     "iopub.status.idle": "2022-05-27T01:49:12.011852Z",
     "shell.execute_reply": "2022-05-27T01:49:12.011183Z",
     "shell.execute_reply.started": "2022-05-26T23:02:10.936441Z"
    },
    "papermill": {
     "duration": 0.967694,
     "end_time": "2022-05-27T01:49:12.011993",
     "exception": false,
     "start_time": "2022-05-27T01:49:11.044299",
     "status": "completed"
    },
    "tags": []
   },
   "outputs": [],
   "source": [
    "import pandas as pd #\n",
    "pd.plotting.register_matplotlib_converters()\n",
    "import numpy as np  #linear algebra and transformations\n",
    "import seaborn as sns  #visualization\n",
    "import matplotlib.pyplot as plt #visualization\n",
    "%matplotlib inline"
   ]
  },
  {
   "cell_type": "markdown",
   "id": "4892b8a3",
   "metadata": {
    "papermill": {
     "duration": 0.032225,
     "end_time": "2022-05-27T01:49:12.077768",
     "exception": false,
     "start_time": "2022-05-27T01:49:12.045543",
     "status": "completed"
    },
    "tags": []
   },
   "source": [
    "Read in the data using pandas."
   ]
  },
  {
   "cell_type": "code",
   "execution_count": 2,
   "id": "2c268553",
   "metadata": {
    "execution": {
     "iopub.execute_input": "2022-05-27T01:49:12.145364Z",
     "iopub.status.busy": "2022-05-27T01:49:12.144785Z",
     "iopub.status.idle": "2022-05-27T01:49:12.263307Z",
     "shell.execute_reply": "2022-05-27T01:49:12.262873Z",
     "shell.execute_reply.started": "2022-05-26T23:02:12.249554Z"
    },
    "papermill": {
     "duration": 0.153748,
     "end_time": "2022-05-27T01:49:12.263425",
     "exception": false,
     "start_time": "2022-05-27T01:49:12.109677",
     "status": "completed"
    },
    "tags": []
   },
   "outputs": [],
   "source": [
    "file_path = \"../input/vehicle-claim-fraud-detection/fraud_oracle.csv\"\n",
    "ICD = pd.read_csv(file_path)"
   ]
  },
  {
   "cell_type": "markdown",
   "id": "186be408",
   "metadata": {
    "papermill": {
     "duration": 0.030986,
     "end_time": "2022-05-27T01:49:12.327301",
     "exception": false,
     "start_time": "2022-05-27T01:49:12.296315",
     "status": "completed"
    },
    "tags": []
   },
   "source": [
    "Get an idea of the size of the dataset. In this case it has 15420 rows and 33 columns."
   ]
  },
  {
   "cell_type": "code",
   "execution_count": 3,
   "id": "04483b4a",
   "metadata": {
    "execution": {
     "iopub.execute_input": "2022-05-27T01:49:12.398069Z",
     "iopub.status.busy": "2022-05-27T01:49:12.397557Z",
     "iopub.status.idle": "2022-05-27T01:49:12.400003Z",
     "shell.execute_reply": "2022-05-27T01:49:12.400403Z",
     "shell.execute_reply.started": "2022-05-26T23:02:12.379249Z"
    },
    "papermill": {
     "duration": 0.04101,
     "end_time": "2022-05-27T01:49:12.400554",
     "exception": false,
     "start_time": "2022-05-27T01:49:12.359544",
     "status": "completed"
    },
    "tags": []
   },
   "outputs": [
    {
     "data": {
      "text/plain": [
       "(15420, 33)"
      ]
     },
     "execution_count": 3,
     "metadata": {},
     "output_type": "execute_result"
    }
   ],
   "source": [
    "ICD.shape"
   ]
  },
  {
   "cell_type": "markdown",
   "id": "409c25f5",
   "metadata": {
    "papermill": {
     "duration": 0.031112,
     "end_time": "2022-05-27T01:49:12.464063",
     "exception": false,
     "start_time": "2022-05-27T01:49:12.432951",
     "status": "completed"
    },
    "tags": []
   },
   "source": [
    "Take a look at the first 5 rows of the dataset. In this case, we can see that some columns are left out."
   ]
  },
  {
   "cell_type": "code",
   "execution_count": 4,
   "id": "73753da3",
   "metadata": {
    "execution": {
     "iopub.execute_input": "2022-05-27T01:49:12.540098Z",
     "iopub.status.busy": "2022-05-27T01:49:12.532620Z",
     "iopub.status.idle": "2022-05-27T01:49:12.559470Z",
     "shell.execute_reply": "2022-05-27T01:49:12.559050Z",
     "shell.execute_reply.started": "2022-05-26T23:02:12.387015Z"
    },
    "papermill": {
     "duration": 0.063716,
     "end_time": "2022-05-27T01:49:12.559601",
     "exception": false,
     "start_time": "2022-05-27T01:49:12.495885",
     "status": "completed"
    },
    "tags": []
   },
   "outputs": [
    {
     "data": {
      "text/html": [
       "<div>\n",
       "<style scoped>\n",
       "    .dataframe tbody tr th:only-of-type {\n",
       "        vertical-align: middle;\n",
       "    }\n",
       "\n",
       "    .dataframe tbody tr th {\n",
       "        vertical-align: top;\n",
       "    }\n",
       "\n",
       "    .dataframe thead th {\n",
       "        text-align: right;\n",
       "    }\n",
       "</style>\n",
       "<table border=\"1\" class=\"dataframe\">\n",
       "  <thead>\n",
       "    <tr style=\"text-align: right;\">\n",
       "      <th></th>\n",
       "      <th>Month</th>\n",
       "      <th>WeekOfMonth</th>\n",
       "      <th>DayOfWeek</th>\n",
       "      <th>Make</th>\n",
       "      <th>AccidentArea</th>\n",
       "      <th>DayOfWeekClaimed</th>\n",
       "      <th>MonthClaimed</th>\n",
       "      <th>WeekOfMonthClaimed</th>\n",
       "      <th>Sex</th>\n",
       "      <th>MaritalStatus</th>\n",
       "      <th>...</th>\n",
       "      <th>AgeOfVehicle</th>\n",
       "      <th>AgeOfPolicyHolder</th>\n",
       "      <th>PoliceReportFiled</th>\n",
       "      <th>WitnessPresent</th>\n",
       "      <th>AgentType</th>\n",
       "      <th>NumberOfSuppliments</th>\n",
       "      <th>AddressChange_Claim</th>\n",
       "      <th>NumberOfCars</th>\n",
       "      <th>Year</th>\n",
       "      <th>BasePolicy</th>\n",
       "    </tr>\n",
       "  </thead>\n",
       "  <tbody>\n",
       "    <tr>\n",
       "      <th>0</th>\n",
       "      <td>Dec</td>\n",
       "      <td>5</td>\n",
       "      <td>Wednesday</td>\n",
       "      <td>Honda</td>\n",
       "      <td>Urban</td>\n",
       "      <td>Tuesday</td>\n",
       "      <td>Jan</td>\n",
       "      <td>1</td>\n",
       "      <td>Female</td>\n",
       "      <td>Single</td>\n",
       "      <td>...</td>\n",
       "      <td>3 years</td>\n",
       "      <td>26 to 30</td>\n",
       "      <td>No</td>\n",
       "      <td>No</td>\n",
       "      <td>External</td>\n",
       "      <td>none</td>\n",
       "      <td>1 year</td>\n",
       "      <td>3 to 4</td>\n",
       "      <td>1994</td>\n",
       "      <td>Liability</td>\n",
       "    </tr>\n",
       "    <tr>\n",
       "      <th>1</th>\n",
       "      <td>Jan</td>\n",
       "      <td>3</td>\n",
       "      <td>Wednesday</td>\n",
       "      <td>Honda</td>\n",
       "      <td>Urban</td>\n",
       "      <td>Monday</td>\n",
       "      <td>Jan</td>\n",
       "      <td>4</td>\n",
       "      <td>Male</td>\n",
       "      <td>Single</td>\n",
       "      <td>...</td>\n",
       "      <td>6 years</td>\n",
       "      <td>31 to 35</td>\n",
       "      <td>Yes</td>\n",
       "      <td>No</td>\n",
       "      <td>External</td>\n",
       "      <td>none</td>\n",
       "      <td>no change</td>\n",
       "      <td>1 vehicle</td>\n",
       "      <td>1994</td>\n",
       "      <td>Collision</td>\n",
       "    </tr>\n",
       "    <tr>\n",
       "      <th>2</th>\n",
       "      <td>Oct</td>\n",
       "      <td>5</td>\n",
       "      <td>Friday</td>\n",
       "      <td>Honda</td>\n",
       "      <td>Urban</td>\n",
       "      <td>Thursday</td>\n",
       "      <td>Nov</td>\n",
       "      <td>2</td>\n",
       "      <td>Male</td>\n",
       "      <td>Married</td>\n",
       "      <td>...</td>\n",
       "      <td>7 years</td>\n",
       "      <td>41 to 50</td>\n",
       "      <td>No</td>\n",
       "      <td>No</td>\n",
       "      <td>External</td>\n",
       "      <td>none</td>\n",
       "      <td>no change</td>\n",
       "      <td>1 vehicle</td>\n",
       "      <td>1994</td>\n",
       "      <td>Collision</td>\n",
       "    </tr>\n",
       "    <tr>\n",
       "      <th>3</th>\n",
       "      <td>Jun</td>\n",
       "      <td>2</td>\n",
       "      <td>Saturday</td>\n",
       "      <td>Toyota</td>\n",
       "      <td>Rural</td>\n",
       "      <td>Friday</td>\n",
       "      <td>Jul</td>\n",
       "      <td>1</td>\n",
       "      <td>Male</td>\n",
       "      <td>Married</td>\n",
       "      <td>...</td>\n",
       "      <td>more than 7</td>\n",
       "      <td>51 to 65</td>\n",
       "      <td>Yes</td>\n",
       "      <td>No</td>\n",
       "      <td>External</td>\n",
       "      <td>more than 5</td>\n",
       "      <td>no change</td>\n",
       "      <td>1 vehicle</td>\n",
       "      <td>1994</td>\n",
       "      <td>Liability</td>\n",
       "    </tr>\n",
       "    <tr>\n",
       "      <th>4</th>\n",
       "      <td>Jan</td>\n",
       "      <td>5</td>\n",
       "      <td>Monday</td>\n",
       "      <td>Honda</td>\n",
       "      <td>Urban</td>\n",
       "      <td>Tuesday</td>\n",
       "      <td>Feb</td>\n",
       "      <td>2</td>\n",
       "      <td>Female</td>\n",
       "      <td>Single</td>\n",
       "      <td>...</td>\n",
       "      <td>5 years</td>\n",
       "      <td>31 to 35</td>\n",
       "      <td>No</td>\n",
       "      <td>No</td>\n",
       "      <td>External</td>\n",
       "      <td>none</td>\n",
       "      <td>no change</td>\n",
       "      <td>1 vehicle</td>\n",
       "      <td>1994</td>\n",
       "      <td>Collision</td>\n",
       "    </tr>\n",
       "  </tbody>\n",
       "</table>\n",
       "<p>5 rows × 33 columns</p>\n",
       "</div>"
      ],
      "text/plain": [
       "  Month  WeekOfMonth  DayOfWeek    Make AccidentArea DayOfWeekClaimed  \\\n",
       "0   Dec            5  Wednesday   Honda        Urban          Tuesday   \n",
       "1   Jan            3  Wednesday   Honda        Urban           Monday   \n",
       "2   Oct            5     Friday   Honda        Urban         Thursday   \n",
       "3   Jun            2   Saturday  Toyota        Rural           Friday   \n",
       "4   Jan            5     Monday   Honda        Urban          Tuesday   \n",
       "\n",
       "  MonthClaimed  WeekOfMonthClaimed     Sex MaritalStatus  ...  AgeOfVehicle  \\\n",
       "0          Jan                   1  Female        Single  ...       3 years   \n",
       "1          Jan                   4    Male        Single  ...       6 years   \n",
       "2          Nov                   2    Male       Married  ...       7 years   \n",
       "3          Jul                   1    Male       Married  ...   more than 7   \n",
       "4          Feb                   2  Female        Single  ...       5 years   \n",
       "\n",
       "  AgeOfPolicyHolder PoliceReportFiled WitnessPresent AgentType  \\\n",
       "0          26 to 30                No             No  External   \n",
       "1          31 to 35               Yes             No  External   \n",
       "2          41 to 50                No             No  External   \n",
       "3          51 to 65               Yes             No  External   \n",
       "4          31 to 35                No             No  External   \n",
       "\n",
       "   NumberOfSuppliments  AddressChange_Claim  NumberOfCars  Year  BasePolicy  \n",
       "0                 none               1 year        3 to 4  1994   Liability  \n",
       "1                 none            no change     1 vehicle  1994   Collision  \n",
       "2                 none            no change     1 vehicle  1994   Collision  \n",
       "3          more than 5            no change     1 vehicle  1994   Liability  \n",
       "4                 none            no change     1 vehicle  1994   Collision  \n",
       "\n",
       "[5 rows x 33 columns]"
      ]
     },
     "execution_count": 4,
     "metadata": {},
     "output_type": "execute_result"
    }
   ],
   "source": [
    "ICD.head()"
   ]
  },
  {
   "cell_type": "markdown",
   "id": "093c8f83",
   "metadata": {
    "papermill": {
     "duration": 0.032533,
     "end_time": "2022-05-27T01:49:12.625484",
     "exception": false,
     "start_time": "2022-05-27T01:49:12.592951",
     "status": "completed"
    },
    "tags": []
   },
   "source": [
    "List the names of all columns and see what types they are."
   ]
  },
  {
   "cell_type": "code",
   "execution_count": 5,
   "id": "a60ac4ea",
   "metadata": {
    "execution": {
     "iopub.execute_input": "2022-05-27T01:49:12.702309Z",
     "iopub.status.busy": "2022-05-27T01:49:12.699434Z",
     "iopub.status.idle": "2022-05-27T01:49:12.764676Z",
     "shell.execute_reply": "2022-05-27T01:49:12.765262Z",
     "shell.execute_reply.started": "2022-05-26T23:02:12.438027Z"
    },
    "papermill": {
     "duration": 0.107847,
     "end_time": "2022-05-27T01:49:12.765453",
     "exception": false,
     "start_time": "2022-05-27T01:49:12.657606",
     "status": "completed"
    },
    "tags": []
   },
   "outputs": [
    {
     "name": "stdout",
     "output_type": "stream",
     "text": [
      "<class 'pandas.core.frame.DataFrame'>\n",
      "RangeIndex: 15420 entries, 0 to 15419\n",
      "Data columns (total 33 columns):\n",
      " #   Column                Non-Null Count  Dtype \n",
      "---  ------                --------------  ----- \n",
      " 0   Month                 15420 non-null  object\n",
      " 1   WeekOfMonth           15420 non-null  int64 \n",
      " 2   DayOfWeek             15420 non-null  object\n",
      " 3   Make                  15420 non-null  object\n",
      " 4   AccidentArea          15420 non-null  object\n",
      " 5   DayOfWeekClaimed      15420 non-null  object\n",
      " 6   MonthClaimed          15420 non-null  object\n",
      " 7   WeekOfMonthClaimed    15420 non-null  int64 \n",
      " 8   Sex                   15420 non-null  object\n",
      " 9   MaritalStatus         15420 non-null  object\n",
      " 10  Age                   15420 non-null  int64 \n",
      " 11  Fault                 15420 non-null  object\n",
      " 12  PolicyType            15420 non-null  object\n",
      " 13  VehicleCategory       15420 non-null  object\n",
      " 14  VehiclePrice          15420 non-null  object\n",
      " 15  FraudFound_P          15420 non-null  int64 \n",
      " 16  PolicyNumber          15420 non-null  int64 \n",
      " 17  RepNumber             15420 non-null  int64 \n",
      " 18  Deductible            15420 non-null  int64 \n",
      " 19  DriverRating          15420 non-null  int64 \n",
      " 20  Days_Policy_Accident  15420 non-null  object\n",
      " 21  Days_Policy_Claim     15420 non-null  object\n",
      " 22  PastNumberOfClaims    15420 non-null  object\n",
      " 23  AgeOfVehicle          15420 non-null  object\n",
      " 24  AgeOfPolicyHolder     15420 non-null  object\n",
      " 25  PoliceReportFiled     15420 non-null  object\n",
      " 26  WitnessPresent        15420 non-null  object\n",
      " 27  AgentType             15420 non-null  object\n",
      " 28  NumberOfSuppliments   15420 non-null  object\n",
      " 29  AddressChange_Claim   15420 non-null  object\n",
      " 30  NumberOfCars          15420 non-null  object\n",
      " 31  Year                  15420 non-null  int64 \n",
      " 32  BasePolicy            15420 non-null  object\n",
      "dtypes: int64(9), object(24)\n",
      "memory usage: 3.9+ MB\n"
     ]
    }
   ],
   "source": [
    "ICD.info()"
   ]
  },
  {
   "cell_type": "markdown",
   "id": "0fce9c38",
   "metadata": {
    "papermill": {
     "duration": 0.03296,
     "end_time": "2022-05-27T01:49:12.832094",
     "exception": false,
     "start_time": "2022-05-27T01:49:12.799134",
     "status": "completed"
    },
    "tags": []
   },
   "source": [
    "It is unlikely that I will use all of these columns to answer my questions, but it is good to have an idea of what information is available to use.\n",
    "<br /> I will begin by answering the question of who files insurance claims, which may also answer who is likely to get into accidents.\n",
    "For the numeric variables, we can get some quick summary statistics."
   ]
  },
  {
   "cell_type": "code",
   "execution_count": 6,
   "id": "d1be9405",
   "metadata": {
    "execution": {
     "iopub.execute_input": "2022-05-27T01:49:12.900518Z",
     "iopub.status.busy": "2022-05-27T01:49:12.899980Z",
     "iopub.status.idle": "2022-05-27T01:49:12.913038Z",
     "shell.execute_reply": "2022-05-27T01:49:12.913448Z",
     "shell.execute_reply.started": "2022-05-26T23:02:12.508598Z"
    },
    "papermill": {
     "duration": 0.04883,
     "end_time": "2022-05-27T01:49:12.913599",
     "exception": false,
     "start_time": "2022-05-27T01:49:12.864769",
     "status": "completed"
    },
    "tags": []
   },
   "outputs": [
    {
     "data": {
      "text/html": [
       "<div>\n",
       "<style scoped>\n",
       "    .dataframe tbody tr th:only-of-type {\n",
       "        vertical-align: middle;\n",
       "    }\n",
       "\n",
       "    .dataframe tbody tr th {\n",
       "        vertical-align: top;\n",
       "    }\n",
       "\n",
       "    .dataframe thead th {\n",
       "        text-align: right;\n",
       "    }\n",
       "</style>\n",
       "<table border=\"1\" class=\"dataframe\">\n",
       "  <thead>\n",
       "    <tr style=\"text-align: right;\">\n",
       "      <th></th>\n",
       "      <th>Age</th>\n",
       "      <th>Deductible</th>\n",
       "      <th>DriverRating</th>\n",
       "    </tr>\n",
       "  </thead>\n",
       "  <tbody>\n",
       "    <tr>\n",
       "      <th>min</th>\n",
       "      <td>0.000000</td>\n",
       "      <td>300.00000</td>\n",
       "      <td>1.000000</td>\n",
       "    </tr>\n",
       "    <tr>\n",
       "      <th>max</th>\n",
       "      <td>80.000000</td>\n",
       "      <td>700.00000</td>\n",
       "      <td>4.000000</td>\n",
       "    </tr>\n",
       "    <tr>\n",
       "      <th>median</th>\n",
       "      <td>38.000000</td>\n",
       "      <td>400.00000</td>\n",
       "      <td>2.000000</td>\n",
       "    </tr>\n",
       "    <tr>\n",
       "      <th>mean</th>\n",
       "      <td>39.855707</td>\n",
       "      <td>407.70428</td>\n",
       "      <td>2.487808</td>\n",
       "    </tr>\n",
       "  </tbody>\n",
       "</table>\n",
       "</div>"
      ],
      "text/plain": [
       "              Age  Deductible  DriverRating\n",
       "min      0.000000   300.00000      1.000000\n",
       "max     80.000000   700.00000      4.000000\n",
       "median  38.000000   400.00000      2.000000\n",
       "mean    39.855707   407.70428      2.487808"
      ]
     },
     "execution_count": 6,
     "metadata": {},
     "output_type": "execute_result"
    }
   ],
   "source": [
    "ICD.agg(\n",
    "    {\n",
    "        'Age': [\"min\", \"max\", \"median\", \"mean\"],\n",
    "        'Deductible': [\"min\", \"max\", \"median\", \"mean\"],\n",
    "        'DriverRating': [\"min\", \"max\", \"median\", \"mean\"],\n",
    "    }\n",
    ")\n"
   ]
  },
  {
   "cell_type": "markdown",
   "id": "37d47341",
   "metadata": {
    "papermill": {
     "duration": 0.033575,
     "end_time": "2022-05-27T01:49:12.980929",
     "exception": false,
     "start_time": "2022-05-27T01:49:12.947354",
     "status": "completed"
    },
    "tags": []
   },
   "source": [
    "This table gives a good quick glance at the averages and range of these three variables. At first glance, seeing a recorded age of 0 seems like an error. I am going to check how many records have an age of 0."
   ]
  },
  {
   "cell_type": "code",
   "execution_count": 7,
   "id": "d02ba2b1",
   "metadata": {
    "execution": {
     "iopub.execute_input": "2022-05-27T01:49:13.051768Z",
     "iopub.status.busy": "2022-05-27T01:49:13.051252Z",
     "iopub.status.idle": "2022-05-27T01:49:13.055665Z",
     "shell.execute_reply": "2022-05-27T01:49:13.056063Z",
     "shell.execute_reply.started": "2022-05-26T23:02:12.528763Z"
    },
    "papermill": {
     "duration": 0.04029,
     "end_time": "2022-05-27T01:49:13.056190",
     "exception": false,
     "start_time": "2022-05-27T01:49:13.015900",
     "status": "completed"
    },
    "tags": []
   },
   "outputs": [
    {
     "data": {
      "text/plain": [
       "320"
      ]
     },
     "execution_count": 7,
     "metadata": {},
     "output_type": "execute_result"
    }
   ],
   "source": [
    "(ICD[\"Age\"] == 0).sum()"
   ]
  },
  {
   "cell_type": "markdown",
   "id": "027e675b",
   "metadata": {
    "papermill": {
     "duration": 0.03296,
     "end_time": "2022-05-27T01:49:13.122265",
     "exception": false,
     "start_time": "2022-05-27T01:49:13.089305",
     "status": "completed"
    },
    "tags": []
   },
   "source": [
    "For predictive modeling, it would make sense to deal with these cases (maybe imputation). However, in this case we will remove them so they don't affect graphs."
   ]
  },
  {
   "cell_type": "code",
   "execution_count": 8,
   "id": "86ae0961",
   "metadata": {
    "execution": {
     "iopub.execute_input": "2022-05-27T01:49:13.191874Z",
     "iopub.status.busy": "2022-05-27T01:49:13.191324Z",
     "iopub.status.idle": "2022-05-27T01:49:13.196831Z",
     "shell.execute_reply": "2022-05-27T01:49:13.197234Z",
     "shell.execute_reply.started": "2022-05-26T23:02:12.538592Z"
    },
    "papermill": {
     "duration": 0.041091,
     "end_time": "2022-05-27T01:49:13.197360",
     "exception": false,
     "start_time": "2022-05-27T01:49:13.156269",
     "status": "completed"
    },
    "tags": []
   },
   "outputs": [],
   "source": [
    "ICD_filtered = ICD[ICD['Age'] != 0]"
   ]
  },
  {
   "cell_type": "code",
   "execution_count": 9,
   "id": "e10f05e0",
   "metadata": {
    "execution": {
     "iopub.execute_input": "2022-05-27T01:49:13.266417Z",
     "iopub.status.busy": "2022-05-27T01:49:13.265918Z",
     "iopub.status.idle": "2022-05-27T01:49:13.716769Z",
     "shell.execute_reply": "2022-05-27T01:49:13.716212Z",
     "shell.execute_reply.started": "2022-05-26T23:02:12.557963Z"
    },
    "papermill": {
     "duration": 0.485517,
     "end_time": "2022-05-27T01:49:13.716894",
     "exception": false,
     "start_time": "2022-05-27T01:49:13.231377",
     "status": "completed"
    },
    "tags": []
   },
   "outputs": [
    {
     "data": {
      "text/plain": [
       "Text(0.5, 1.0, 'Age Distribution')"
      ]
     },
     "execution_count": 9,
     "metadata": {},
     "output_type": "execute_result"
    },
    {
     "data": {
      "image/png": "[encoded data removed]",
      "text/plain": [
       "<Figure size 360x360 with 1 Axes>"
      ]
     },
     "metadata": {
      "needs_background": "light"
     },
     "output_type": "display_data"
    }
   ],
   "source": [
    "sns.displot(ICD_filtered['Age'], kde = True)\n",
    "plt.title(\"Age Distribution\")"
   ]
  },
  {
   "cell_type": "markdown",
   "id": "5d918e69",
   "metadata": {
    "papermill": {
     "duration": 0.033645,
     "end_time": "2022-05-27T01:49:13.785395",
     "exception": false,
     "start_time": "2022-05-27T01:49:13.751750",
     "status": "completed"
    },
    "tags": []
   },
   "source": [
    "The age distribution appears to be slightly skewed to the right."
   ]
  },
  {
   "cell_type": "code",
   "execution_count": 10,
   "id": "c9e71141",
   "metadata": {
    "execution": {
     "iopub.execute_input": "2022-05-27T01:49:13.869602Z",
     "iopub.status.busy": "2022-05-27T01:49:13.868992Z",
     "iopub.status.idle": "2022-05-27T01:49:14.176815Z",
     "shell.execute_reply": "2022-05-27T01:49:14.177279Z",
     "shell.execute_reply.started": "2022-05-26T23:02:13.003832Z"
    },
    "papermill": {
     "duration": 0.35734,
     "end_time": "2022-05-27T01:49:14.177438",
     "exception": false,
     "start_time": "2022-05-27T01:49:13.820098",
     "status": "completed"
    },
    "tags": []
   },
   "outputs": [
    {
     "data": {
      "text/plain": [
       "Text(0.5, 1.0, 'Deductible Distribution')"
      ]
     },
     "execution_count": 10,
     "metadata": {},
     "output_type": "execute_result"
    },
    {
     "data": {
      "image/png": "[encoded data removed]",
      "text/plain": [
       "<Figure size 360x360 with 1 Axes>"
      ]
     },
     "metadata": {
      "needs_background": "light"
     },
     "output_type": "display_data"
    }
   ],
   "source": [
    "sns.displot(ICD['Deductible'], kde = False)\n",
    "plt.title(\"Deductible Distribution\")"
   ]
  },
  {
   "cell_type": "markdown",
   "id": "a2f67b1e",
   "metadata": {
    "papermill": {
     "duration": 0.035085,
     "end_time": "2022-05-27T01:49:14.251753",
     "exception": false,
     "start_time": "2022-05-27T01:49:14.216668",
     "status": "completed"
    },
    "tags": []
   },
   "source": [
    "Note: The vast majority of deductibles are 400 with more rare cases of 500 and 675."
   ]
  },
  {
   "cell_type": "code",
   "execution_count": 11,
   "id": "ab5f9532",
   "metadata": {
    "execution": {
     "iopub.execute_input": "2022-05-27T01:49:14.325307Z",
     "iopub.status.busy": "2022-05-27T01:49:14.324776Z",
     "iopub.status.idle": "2022-05-27T01:49:14.640808Z",
     "shell.execute_reply": "2022-05-27T01:49:14.640327Z",
     "shell.execute_reply.started": "2022-05-26T23:02:13.276490Z"
    },
    "papermill": {
     "duration": 0.354215,
     "end_time": "2022-05-27T01:49:14.640930",
     "exception": false,
     "start_time": "2022-05-27T01:49:14.286715",
     "status": "completed"
    },
    "tags": []
   },
   "outputs": [
    {
     "data": {
      "text/plain": [
       "Text(0.5, 1.0, 'DriverRating Distribution')"
      ]
     },
     "execution_count": 11,
     "metadata": {},
     "output_type": "execute_result"
    },
    {
     "data": {
      "image/png": "[encoded data removed]",
      "text/plain": [
       "<Figure size 360x360 with 1 Axes>"
      ]
     },
     "metadata": {
      "needs_background": "light"
     },
     "output_type": "display_data"
    }
   ],
   "source": [
    "sns.displot(ICD['DriverRating'], kde = False)\n",
    "plt.title(\"DriverRating Distribution\")\n"
   ]
  },
  {
   "cell_type": "markdown",
   "id": "21b9e54b",
   "metadata": {
    "papermill": {
     "duration": 0.036385,
     "end_time": "2022-05-27T01:49:14.714176",
     "exception": false,
     "start_time": "2022-05-27T01:49:14.677791",
     "status": "completed"
    },
    "tags": []
   },
   "source": [
    "It appears that driver ratings follow a fairly uniform distribution. This is interesting, as you would think that drivers with a higher rating would be in less accidents and file less claims, which is only the case by a close margin. Below are the exact counts for each rating."
   ]
  },
  {
   "cell_type": "code",
   "execution_count": 12,
   "id": "d953fab7",
   "metadata": {
    "execution": {
     "iopub.execute_input": "2022-05-27T01:49:14.788918Z",
     "iopub.status.busy": "2022-05-27T01:49:14.788305Z",
     "iopub.status.idle": "2022-05-27T01:49:14.793805Z",
     "shell.execute_reply": "2022-05-27T01:49:14.794198Z",
     "shell.execute_reply.started": "2022-05-26T23:02:13.550248Z"
    },
    "papermill": {
     "duration": 0.043981,
     "end_time": "2022-05-27T01:49:14.794340",
     "exception": false,
     "start_time": "2022-05-27T01:49:14.750359",
     "status": "completed"
    },
    "tags": []
   },
   "outputs": [
    {
     "data": {
      "text/plain": [
       "DriverRating\n",
       "1    3944\n",
       "2    3801\n",
       "3    3884\n",
       "4    3791\n",
       "Name: DriverRating, dtype: int64"
      ]
     },
     "execution_count": 12,
     "metadata": {},
     "output_type": "execute_result"
    }
   ],
   "source": [
    "ICD.groupby(\"DriverRating\").DriverRating.count()"
   ]
  },
  {
   "cell_type": "code",
   "execution_count": 13,
   "id": "1b500b3f",
   "metadata": {
    "execution": {
     "iopub.execute_input": "2022-05-27T01:49:14.881029Z",
     "iopub.status.busy": "2022-05-27T01:49:14.880532Z",
     "iopub.status.idle": "2022-05-27T01:49:15.182460Z",
     "shell.execute_reply": "2022-05-27T01:49:15.182862Z",
     "shell.execute_reply.started": "2022-05-26T23:02:13.558963Z"
    },
    "papermill": {
     "duration": 0.351988,
     "end_time": "2022-05-27T01:49:15.183013",
     "exception": false,
     "start_time": "2022-05-27T01:49:14.831025",
     "status": "completed"
    },
    "tags": []
   },
   "outputs": [
    {
     "data": {
      "text/plain": [
       "<seaborn.axisgrid.FacetGrid at 0x7f3ad8cad050>"
      ]
     },
     "execution_count": 13,
     "metadata": {},
     "output_type": "execute_result"
    },
    {
     "data": {
      "image/png": "[encoded data removed]",
      "text/plain": [
       "<Figure size 360x360 with 1 Axes>"
      ]
     },
     "metadata": {
      "needs_background": "light"
     },
     "output_type": "display_data"
    }
   ],
   "source": [
    "sns.displot(data = ICD['Month'])"
   ]
  },
  {
   "cell_type": "markdown",
   "id": "a4c96bcf",
   "metadata": {
    "papermill": {
     "duration": 0.037599,
     "end_time": "2022-05-27T01:49:15.257953",
     "exception": false,
     "start_time": "2022-05-27T01:49:15.220354",
     "status": "completed"
    },
    "tags": []
   },
   "source": [
    "The most accidents occur in January, May, and March, respectively. This distribution is almost uniform."
   ]
  },
  {
   "cell_type": "code",
   "execution_count": 14,
   "id": "0fcfc486",
   "metadata": {
    "execution": {
     "iopub.execute_input": "2022-05-27T01:49:15.335934Z",
     "iopub.status.busy": "2022-05-27T01:49:15.335381Z",
     "iopub.status.idle": "2022-05-27T01:49:15.615334Z",
     "shell.execute_reply": "2022-05-27T01:49:15.615759Z",
     "shell.execute_reply.started": "2022-05-26T23:02:13.850260Z"
    },
    "papermill": {
     "duration": 0.320322,
     "end_time": "2022-05-27T01:49:15.615906",
     "exception": false,
     "start_time": "2022-05-27T01:49:15.295584",
     "status": "completed"
    },
    "tags": []
   },
   "outputs": [
    {
     "data": {
      "text/plain": [
       "<seaborn.axisgrid.FacetGrid at 0x7f3ad8d70f50>"
      ]
     },
     "execution_count": 14,
     "metadata": {},
     "output_type": "execute_result"
    },
    {
     "data": {
      "image/png": "[encoded data removed]",
      "text/plain": [
       "<Figure size 360x360 with 1 Axes>"
      ]
     },
     "metadata": {
      "needs_background": "light"
     },
     "output_type": "display_data"
    }
   ],
   "source": [
    "sns.displot(y = ICD['DayOfWeekClaimed'])"
   ]
  },
  {
   "cell_type": "markdown",
   "id": "72cbdf2d",
   "metadata": {
    "papermill": {
     "duration": 0.038942,
     "end_time": "2022-05-27T01:49:15.694024",
     "exception": false,
     "start_time": "2022-05-27T01:49:15.655082",
     "status": "completed"
    },
    "tags": []
   },
   "source": [
    "Most claims are made on Monday, followed by Tuesday."
   ]
  },
  {
   "cell_type": "code",
   "execution_count": 15,
   "id": "5fadda3e",
   "metadata": {
    "execution": {
     "iopub.execute_input": "2022-05-27T01:49:15.773766Z",
     "iopub.status.busy": "2022-05-27T01:49:15.773247Z",
     "iopub.status.idle": "2022-05-27T01:49:15.980711Z",
     "shell.execute_reply": "2022-05-27T01:49:15.980236Z",
     "shell.execute_reply.started": "2022-05-26T23:02:14.122710Z"
    },
    "papermill": {
     "duration": 0.248054,
     "end_time": "2022-05-27T01:49:15.980841",
     "exception": false,
     "start_time": "2022-05-27T01:49:15.732787",
     "status": "completed"
    },
    "tags": []
   },
   "outputs": [
    {
     "data": {
      "text/plain": [
       "<AxesSubplot:>"
      ]
     },
     "execution_count": 15,
     "metadata": {},
     "output_type": "execute_result"
    },
    {
     "data": {
      "image/png": "[encoded data removed]",
      "text/plain": [
       "<Figure size 432x288 with 1 Axes>"
      ]
     },
     "metadata": {
      "needs_background": "light"
     },
     "output_type": "display_data"
    }
   ],
   "source": [
    "n = 10\n",
    "ICD[\"Make\"].value_counts()[:n].plot(kind = 'barh')"
   ]
  },
  {
   "cell_type": "markdown",
   "id": "29734d1e",
   "metadata": {
    "papermill": {
     "duration": 0.041973,
     "end_time": "2022-05-27T01:49:16.062438",
     "exception": false,
     "start_time": "2022-05-27T01:49:16.020465",
     "status": "completed"
    },
    "tags": []
   },
   "source": [
    "The above list shows the 10 most common car makes that are listed on a claim. There appears to be 5 main makes that are in significantly more accidents than other makes. It may be possible to classify these as high risk makes. However, since these makes are very common they may just be more likely to be involved in accidents. "
   ]
  },
  {
   "cell_type": "code",
   "execution_count": 16,
   "id": "77f5ea80",
   "metadata": {
    "execution": {
     "iopub.execute_input": "2022-05-27T01:49:16.144361Z",
     "iopub.status.busy": "2022-05-27T01:49:16.143544Z",
     "iopub.status.idle": "2022-05-27T01:49:16.149886Z",
     "shell.execute_reply": "2022-05-27T01:49:16.150374Z",
     "shell.execute_reply.started": "2022-05-26T23:02:14.339860Z"
    },
    "papermill": {
     "duration": 0.048783,
     "end_time": "2022-05-27T01:49:16.150521",
     "exception": false,
     "start_time": "2022-05-27T01:49:16.101738",
     "status": "completed"
    },
    "tags": []
   },
   "outputs": [
    {
     "data": {
      "text/plain": [
       "array(['3 years', '6 years', '7 years', 'more than 7', '5 years', 'new',\n",
       "       '4 years', '2 years'], dtype=object)"
      ]
     },
     "execution_count": 16,
     "metadata": {},
     "output_type": "execute_result"
    }
   ],
   "source": [
    "ICD.AgeOfVehicle.unique()"
   ]
  },
  {
   "cell_type": "code",
   "execution_count": 17,
   "id": "a216a698",
   "metadata": {
    "execution": {
     "iopub.execute_input": "2022-05-27T01:49:16.241578Z",
     "iopub.status.busy": "2022-05-27T01:49:16.240752Z",
     "iopub.status.idle": "2022-05-27T01:49:16.504289Z",
     "shell.execute_reply": "2022-05-27T01:49:16.504767Z",
     "shell.execute_reply.started": "2022-05-26T23:02:14.349271Z"
    },
    "papermill": {
     "duration": 0.315478,
     "end_time": "2022-05-27T01:49:16.504920",
     "exception": false,
     "start_time": "2022-05-27T01:49:16.189442",
     "status": "completed"
    },
    "tags": []
   },
   "outputs": [
    {
     "data": {
      "text/plain": [
       "<seaborn.axisgrid.FacetGrid at 0x7f3ad8c6bd50>"
      ]
     },
     "execution_count": 17,
     "metadata": {},
     "output_type": "execute_result"
    },
    {
     "data": {
      "image/png": "[encoded data removed]",
      "text/plain": [
       "<Figure size 360x360 with 1 Axes>"
      ]
     },
     "metadata": {
      "needs_background": "light"
     },
     "output_type": "display_data"
    }
   ],
   "source": [
    "sns.displot(y = ICD[\"AgeOfVehicle\"])"
   ]
  },
  {
   "cell_type": "markdown",
   "id": "b2b50ab4",
   "metadata": {
    "papermill": {
     "duration": 0.040676,
     "end_time": "2022-05-27T01:49:16.587238",
     "exception": false,
     "start_time": "2022-05-27T01:49:16.546562",
     "status": "completed"
    },
    "tags": []
   },
   "source": [
    "Here we see that most vehicles are 6 years or older."
   ]
  },
  {
   "cell_type": "code",
   "execution_count": 18,
   "id": "8ef32265",
   "metadata": {
    "execution": {
     "iopub.execute_input": "2022-05-27T01:49:16.670969Z",
     "iopub.status.busy": "2022-05-27T01:49:16.670181Z",
     "iopub.status.idle": "2022-05-27T01:49:16.870775Z",
     "shell.execute_reply": "2022-05-27T01:49:16.871487Z",
     "shell.execute_reply.started": "2022-05-26T23:02:14.652708Z"
    },
    "papermill": {
     "duration": 0.244249,
     "end_time": "2022-05-27T01:49:16.871655",
     "exception": false,
     "start_time": "2022-05-27T01:49:16.627406",
     "status": "completed"
    },
    "tags": []
   },
   "outputs": [
    {
     "data": {
      "text/plain": [
       "<seaborn.axisgrid.FacetGrid at 0x7f3ad8b94090>"
      ]
     },
     "execution_count": 18,
     "metadata": {},
     "output_type": "execute_result"
    },
    {
     "data": {
      "image/png": "[encoded data removed]",
      "text/plain": [
       "<Figure size 360x360 with 1 Axes>"
      ]
     },
     "metadata": {
      "needs_background": "light"
     },
     "output_type": "display_data"
    }
   ],
   "source": [
    "sns.displot(y = ICD[\"VehiclePrice\"])"
   ]
  },
  {
   "cell_type": "code",
   "execution_count": 19,
   "id": "ec6a1cb3",
   "metadata": {
    "execution": {
     "iopub.execute_input": "2022-05-27T01:49:16.957769Z",
     "iopub.status.busy": "2022-05-27T01:49:16.957002Z",
     "iopub.status.idle": "2022-05-27T01:49:16.961947Z",
     "shell.execute_reply": "2022-05-27T01:49:16.962424Z",
     "shell.execute_reply.started": "2022-05-26T23:02:14.917428Z"
    },
    "papermill": {
     "duration": 0.04934,
     "end_time": "2022-05-27T01:49:16.962597",
     "exception": false,
     "start_time": "2022-05-27T01:49:16.913257",
     "status": "completed"
    },
    "tags": []
   },
   "outputs": [
    {
     "data": {
      "text/plain": [
       "0.05985732814526589"
      ]
     },
     "execution_count": 19,
     "metadata": {},
     "output_type": "execute_result"
    }
   ],
   "source": [
    "ICD['FraudFound_P'].mean()"
   ]
  },
  {
   "cell_type": "markdown",
   "id": "50485e44",
   "metadata": {
    "papermill": {
     "duration": 0.042882,
     "end_time": "2022-05-27T01:49:17.047296",
     "exception": false,
     "start_time": "2022-05-27T01:49:17.004414",
     "status": "completed"
    },
    "tags": []
   },
   "source": [
    "In this dataset, about 6% of rows are classified as fraudulent claims."
   ]
  },
  {
   "cell_type": "code",
   "execution_count": 20,
   "id": "01883733",
   "metadata": {
    "execution": {
     "iopub.execute_input": "2022-05-27T01:49:17.134570Z",
     "iopub.status.busy": "2022-05-27T01:49:17.133774Z",
     "iopub.status.idle": "2022-05-27T01:49:17.138446Z",
     "shell.execute_reply": "2022-05-27T01:49:17.138936Z",
     "shell.execute_reply.started": "2022-05-26T23:02:14.927648Z"
    },
    "papermill": {
     "duration": 0.049789,
     "end_time": "2022-05-27T01:49:17.139064",
     "exception": false,
     "start_time": "2022-05-27T01:49:17.089275",
     "status": "completed"
    },
    "tags": []
   },
   "outputs": [],
   "source": [
    "ICD['FraudFound_P'] = pd.Categorical(ICD.FraudFound_P)"
   ]
  },
  {
   "cell_type": "code",
   "execution_count": 21,
   "id": "36b6e20c",
   "metadata": {
    "execution": {
     "iopub.execute_input": "2022-05-27T01:49:17.225632Z",
     "iopub.status.busy": "2022-05-27T01:49:17.224831Z",
     "iopub.status.idle": "2022-05-27T01:49:18.264096Z",
     "shell.execute_reply": "2022-05-27T01:49:18.264513Z",
     "shell.execute_reply.started": "2022-05-26T23:04:53.423137Z"
    },
    "papermill": {
     "duration": 1.083875,
     "end_time": "2022-05-27T01:49:18.264660",
     "exception": false,
     "start_time": "2022-05-27T01:49:17.180785",
     "status": "completed"
    },
    "tags": []
   },
   "outputs": [
    {
     "data": {
      "text/plain": [
       "<AxesSubplot:xlabel='DriverRating', ylabel='Age'>"
      ]
     },
     "execution_count": 21,
     "metadata": {},
     "output_type": "execute_result"
    },
    {
     "data": {
      "image/png": "[encoded data removed]",
      "text/plain": [
       "<Figure size 432x288 with 1 Axes>"
      ]
     },
     "metadata": {
      "needs_background": "light"
     },
     "output_type": "display_data"
    }
   ],
   "source": [
    "sns.stripplot(x='DriverRating', y= 'Age', hue = 'FraudFound_P', data = ICD_filtered, size = 3.5)"
   ]
  },
  {
   "cell_type": "markdown",
   "id": "24257333",
   "metadata": {
    "papermill": {
     "duration": 0.043837,
     "end_time": "2022-05-27T01:49:18.352467",
     "exception": false,
     "start_time": "2022-05-27T01:49:18.308630",
     "status": "completed"
    },
    "tags": []
   },
   "source": [
    "This plot shows that fraud usually appears to be spread throughout all ages and driver ratings. There are some areas where younger ages may have clusters of fraudulent claims. "
   ]
  },
  {
   "cell_type": "markdown",
   "id": "5b9e4646",
   "metadata": {
    "papermill": {
     "duration": 0.044563,
     "end_time": "2022-05-27T01:49:18.441633",
     "exception": false,
     "start_time": "2022-05-27T01:49:18.397070",
     "status": "completed"
    },
    "tags": []
   },
   "source": [
    "### Dimesionality Reduction\n",
    "\n",
    "We want to reduce the amount of features we use. First, we will see which attributes share a relationship with the target using mutual information."
   ]
  },
  {
   "cell_type": "code",
   "execution_count": 22,
   "id": "e8472c70",
   "metadata": {
    "execution": {
     "iopub.execute_input": "2022-05-27T01:49:18.535279Z",
     "iopub.status.busy": "2022-05-27T01:49:18.534428Z",
     "iopub.status.idle": "2022-05-27T01:49:18.608781Z",
     "shell.execute_reply": "2022-05-27T01:49:18.608208Z",
     "shell.execute_reply.started": "2022-05-27T00:30:27.274837Z"
    },
    "papermill": {
     "duration": 0.123385,
     "end_time": "2022-05-27T01:49:18.608927",
     "exception": false,
     "start_time": "2022-05-27T01:49:18.485542",
     "status": "completed"
    },
    "tags": []
   },
   "outputs": [],
   "source": [
    "X = ICD_filtered.copy()\n",
    "y = X.pop(\"FraudFound_P\")\n",
    "\n",
    "\n",
    "# Label encoding for categoricals\n",
    "for colname in X.select_dtypes(\"object\"):\n",
    "    X[colname], _ = X[colname].factorize()\n",
    "\n",
    "# All discrete features should now have integer dtypes\n",
    "discrete_features = X.dtypes == int"
   ]
  },
  {
   "cell_type": "code",
   "execution_count": 23,
   "id": "66cbd987",
   "metadata": {
    "execution": {
     "iopub.execute_input": "2022-05-27T01:49:18.702941Z",
     "iopub.status.busy": "2022-05-27T01:49:18.702106Z",
     "iopub.status.idle": "2022-05-27T01:49:18.715553Z",
     "shell.execute_reply": "2022-05-27T01:49:18.716187Z",
     "shell.execute_reply.started": "2022-05-27T00:29:36.945077Z"
    },
    "papermill": {
     "duration": 0.063587,
     "end_time": "2022-05-27T01:49:18.716332",
     "exception": false,
     "start_time": "2022-05-27T01:49:18.652745",
     "status": "completed"
    },
    "tags": []
   },
   "outputs": [
    {
     "name": "stdout",
     "output_type": "stream",
     "text": [
      "<class 'pandas.core.frame.DataFrame'>\n",
      "Int64Index: 15100 entries, 0 to 15419\n",
      "Data columns (total 32 columns):\n",
      " #   Column                Non-Null Count  Dtype\n",
      "---  ------                --------------  -----\n",
      " 0   Month                 15100 non-null  int64\n",
      " 1   WeekOfMonth           15100 non-null  int64\n",
      " 2   DayOfWeek             15100 non-null  int64\n",
      " 3   Make                  15100 non-null  int64\n",
      " 4   AccidentArea          15100 non-null  int64\n",
      " 5   DayOfWeekClaimed      15100 non-null  int64\n",
      " 6   MonthClaimed          15100 non-null  int64\n",
      " 7   WeekOfMonthClaimed    15100 non-null  int64\n",
      " 8   Sex                   15100 non-null  int64\n",
      " 9   MaritalStatus         15100 non-null  int64\n",
      " 10  Age                   15100 non-null  int64\n",
      " 11  Fault                 15100 non-null  int64\n",
      " 12  PolicyType            15100 non-null  int64\n",
      " 13  VehicleCategory       15100 non-null  int64\n",
      " 14  VehiclePrice          15100 non-null  int64\n",
      " 15  PolicyNumber          15100 non-null  int64\n",
      " 16  RepNumber             15100 non-null  int64\n",
      " 17  Deductible            15100 non-null  int64\n",
      " 18  DriverRating          15100 non-null  int64\n",
      " 19  Days_Policy_Accident  15100 non-null  int64\n",
      " 20  Days_Policy_Claim     15100 non-null  int64\n",
      " 21  PastNumberOfClaims    15100 non-null  int64\n",
      " 22  AgeOfVehicle          15100 non-null  int64\n",
      " 23  AgeOfPolicyHolder     15100 non-null  int64\n",
      " 24  PoliceReportFiled     15100 non-null  int64\n",
      " 25  WitnessPresent        15100 non-null  int64\n",
      " 26  AgentType             15100 non-null  int64\n",
      " 27  NumberOfSuppliments   15100 non-null  int64\n",
      " 28  AddressChange_Claim   15100 non-null  int64\n",
      " 29  NumberOfCars          15100 non-null  int64\n",
      " 30  Year                  15100 non-null  int64\n",
      " 31  BasePolicy            15100 non-null  int64\n",
      "dtypes: int64(32)\n",
      "memory usage: 4.3 MB\n"
     ]
    }
   ],
   "source": [
    "X.info()"
   ]
  },
  {
   "cell_type": "code",
   "execution_count": 24,
   "id": "87879712",
   "metadata": {
    "execution": {
     "iopub.execute_input": "2022-05-27T01:49:18.806678Z",
     "iopub.status.busy": "2022-05-27T01:49:18.806158Z",
     "iopub.status.idle": "2022-05-27T01:49:19.287325Z",
     "shell.execute_reply": "2022-05-27T01:49:19.286900Z",
     "shell.execute_reply.started": "2022-05-26T23:53:42.823453Z"
    },
    "papermill": {
     "duration": 0.527091,
     "end_time": "2022-05-27T01:49:19.287443",
     "exception": false,
     "start_time": "2022-05-27T01:49:18.760352",
     "status": "completed"
    },
    "tags": []
   },
   "outputs": [
    {
     "data": {
      "text/plain": [
       "PolicyType             0.017125\n",
       "BasePolicy             0.016314\n",
       "Fault                  0.011655\n",
       "VehicleCategory        0.010871\n",
       "Age                    0.003415\n",
       "AddressChange_Claim    0.002028\n",
       "VehiclePrice           0.001839\n",
       "Make                   0.001724\n",
       "Deductible             0.001662\n",
       "PastNumberOfClaims     0.001612\n",
       "MonthClaimed           0.001347\n",
       "Name: MI Scores, dtype: float64"
      ]
     },
     "execution_count": 24,
     "metadata": {},
     "output_type": "execute_result"
    }
   ],
   "source": [
    "from sklearn.feature_selection import mutual_info_classif\n",
    "\n",
    "def make_mi_scores(X, y, discrete_features):\n",
    "    mi_scores = mutual_info_classif(X, y, discrete_features=discrete_features)\n",
    "    mi_scores = pd.Series(mi_scores, name=\"MI Scores\", index=X.columns)\n",
    "    mi_scores = mi_scores.sort_values(ascending=False)\n",
    "    return mi_scores\n",
    "\n",
    "mi_scores = make_mi_scores(X, y, discrete_features)\n",
    "mi_scores[1:12]  # show a few features with their MI scores"
   ]
  },
  {
   "cell_type": "markdown",
   "id": "c7eb4973",
   "metadata": {
    "papermill": {
     "duration": 0.044898,
     "end_time": "2022-05-27T01:49:19.376624",
     "exception": false,
     "start_time": "2022-05-27T01:49:19.331726",
     "status": "completed"
    },
    "tags": []
   },
   "source": [
    "These scores are all quite low, which shows a weak relationship between these variables and the target. "
   ]
  },
  {
   "cell_type": "code",
   "execution_count": 25,
   "id": "56caa771",
   "metadata": {
    "execution": {
     "iopub.execute_input": "2022-05-27T01:49:19.468384Z",
     "iopub.status.busy": "2022-05-27T01:49:19.467559Z",
     "iopub.status.idle": "2022-05-27T01:49:19.656182Z",
     "shell.execute_reply": "2022-05-27T01:49:19.656617Z",
     "shell.execute_reply.started": "2022-05-26T23:02:17.089139Z"
    },
    "papermill": {
     "duration": 0.235776,
     "end_time": "2022-05-27T01:49:19.656813",
     "exception": false,
     "start_time": "2022-05-27T01:49:19.421037",
     "status": "completed"
    },
    "tags": []
   },
   "outputs": [
    {
     "data": {
      "image/png": "[encoded data removed]",
      "text/plain": [
       "<Figure size 800x500 with 1 Axes>"
      ]
     },
     "metadata": {
      "needs_background": "light"
     },
     "output_type": "display_data"
    }
   ],
   "source": [
    "def plot_mi_scores(scores):\n",
    "    scores = scores.sort_values(ascending=True)\n",
    "    width = np.arange(len(scores))\n",
    "    ticks = list(scores.index)\n",
    "    plt.barh(width, scores)\n",
    "    plt.yticks(width, ticks)\n",
    "    plt.title(\"Mutual Information Scores\")\n",
    "\n",
    "\n",
    "plt.figure(dpi=100, figsize=(8, 5))\n",
    "plot_mi_scores(mi_scores[1:12])"
   ]
  },
  {
   "cell_type": "code",
   "execution_count": 26,
   "id": "3ec39d69",
   "metadata": {
    "execution": {
     "iopub.execute_input": "2022-05-27T01:49:19.751081Z",
     "iopub.status.busy": "2022-05-27T01:49:19.748400Z",
     "iopub.status.idle": "2022-05-27T01:49:19.754751Z",
     "shell.execute_reply": "2022-05-27T01:49:19.755164Z",
     "shell.execute_reply.started": "2022-05-26T23:02:17.346705Z"
    },
    "papermill": {
     "duration": 0.054173,
     "end_time": "2022-05-27T01:49:19.755288",
     "exception": false,
     "start_time": "2022-05-27T01:49:19.701115",
     "status": "completed"
    },
    "tags": []
   },
   "outputs": [
    {
     "data": {
      "text/plain": [
       "array(['Sport - Liability', 'Sport - Collision', 'Sedan - Liability',\n",
       "       'Utility - All Perils', 'Sedan - All Perils', 'Sedan - Collision',\n",
       "       'Utility - Collision', 'Utility - Liability', 'Sport - All Perils'],\n",
       "      dtype=object)"
      ]
     },
     "execution_count": 26,
     "metadata": {},
     "output_type": "execute_result"
    }
   ],
   "source": [
    "ICD['PolicyType'].unique()"
   ]
  },
  {
   "cell_type": "code",
   "execution_count": 27,
   "id": "9bf7b5aa",
   "metadata": {
    "execution": {
     "iopub.execute_input": "2022-05-27T01:49:19.850038Z",
     "iopub.status.busy": "2022-05-27T01:49:19.849529Z",
     "iopub.status.idle": "2022-05-27T01:49:19.854695Z",
     "shell.execute_reply": "2022-05-27T01:49:19.855089Z",
     "shell.execute_reply.started": "2022-05-26T23:09:12.927110Z"
    },
    "papermill": {
     "duration": 0.054645,
     "end_time": "2022-05-27T01:49:19.855225",
     "exception": false,
     "start_time": "2022-05-27T01:49:19.800580",
     "status": "completed"
    },
    "tags": []
   },
   "outputs": [
    {
     "data": {
      "text/plain": [
       "array(['Liability', 'Collision', 'All Perils'], dtype=object)"
      ]
     },
     "execution_count": 27,
     "metadata": {},
     "output_type": "execute_result"
    }
   ],
   "source": [
    "ICD['BasePolicy'].unique()"
   ]
  },
  {
   "cell_type": "code",
   "execution_count": 28,
   "id": "83ef1b74",
   "metadata": {
    "execution": {
     "iopub.execute_input": "2022-05-27T01:49:19.950128Z",
     "iopub.status.busy": "2022-05-27T01:49:19.949608Z",
     "iopub.status.idle": "2022-05-27T01:49:19.953591Z",
     "shell.execute_reply": "2022-05-27T01:49:19.953998Z",
     "shell.execute_reply.started": "2022-05-26T23:54:47.934962Z"
    },
    "papermill": {
     "duration": 0.052138,
     "end_time": "2022-05-27T01:49:19.954129",
     "exception": false,
     "start_time": "2022-05-27T01:49:19.901991",
     "status": "completed"
    },
    "tags": []
   },
   "outputs": [],
   "source": [
    "x_features = list(mi_scores[1:12].index)\n",
    "x_fac = X[x_features]"
   ]
  },
  {
   "cell_type": "markdown",
   "id": "8c871983",
   "metadata": {
    "papermill": {
     "duration": 0.051769,
     "end_time": "2022-05-27T01:49:20.056911",
     "exception": false,
     "start_time": "2022-05-27T01:49:20.005142",
     "status": "completed"
    },
    "tags": []
   },
   "source": [
    "Next, we will use a correlation matrix to see correlations between the independent variables "
   ]
  },
  {
   "cell_type": "code",
   "execution_count": 29,
   "id": "740a0ea4",
   "metadata": {
    "execution": {
     "iopub.execute_input": "2022-05-27T01:49:20.150107Z",
     "iopub.status.busy": "2022-05-27T01:49:20.149617Z",
     "iopub.status.idle": "2022-05-27T01:49:20.955841Z",
     "shell.execute_reply": "2022-05-27T01:49:20.956224Z",
     "shell.execute_reply.started": "2022-05-26T23:55:30.933138Z"
    },
    "papermill": {
     "duration": 0.853827,
     "end_time": "2022-05-27T01:49:20.956375",
     "exception": false,
     "start_time": "2022-05-27T01:49:20.102548",
     "status": "completed"
    },
    "tags": []
   },
   "outputs": [
    {
     "data": {
      "text/plain": [
       "<AxesSubplot:>"
      ]
     },
     "execution_count": 29,
     "metadata": {},
     "output_type": "execute_result"
    },
    {
     "data": {
      "image/png": "[encoded data removed]",
      "text/plain": [
       "<Figure size 864x504 with 2 Axes>"
      ]
     },
     "metadata": {
      "needs_background": "light"
     },
     "output_type": "display_data"
    }
   ],
   "source": [
    "plt.figure(figsize=(12,7))\n",
    "sns.heatmap(x_fac.corr(), annot=True)"
   ]
  },
  {
   "cell_type": "markdown",
   "id": "c0f76d7a",
   "metadata": {
    "papermill": {
     "duration": 0.047642,
     "end_time": "2022-05-27T01:49:21.051918",
     "exception": false,
     "start_time": "2022-05-27T01:49:21.004276",
     "status": "completed"
    },
    "tags": []
   },
   "source": [
    "## Data Preprocessing Pipeline\n",
    "\n",
    "Some different steps will be taken to ensure that the data we are using is suitable for the models that will be used. This includes imputation for missing values and other steps. \n",
    "\n",
    "Before we do any of these steps, we want to ensure that we split the data into train and test sections to avoid fitting the test portion using the train section. "
   ]
  },
  {
   "cell_type": "code",
   "execution_count": 30,
   "id": "905c4c97",
   "metadata": {
    "execution": {
     "iopub.execute_input": "2022-05-27T01:49:21.153366Z",
     "iopub.status.busy": "2022-05-27T01:49:21.152857Z",
     "iopub.status.idle": "2022-05-27T01:49:21.180049Z",
     "shell.execute_reply": "2022-05-27T01:49:21.179628Z",
     "shell.execute_reply.started": "2022-05-27T01:07:30.327997Z"
    },
    "papermill": {
     "duration": 0.077073,
     "end_time": "2022-05-27T01:49:21.180166",
     "exception": false,
     "start_time": "2022-05-27T01:49:21.103093",
     "status": "completed"
    },
    "tags": []
   },
   "outputs": [],
   "source": [
    "from sklearn.model_selection import train_test_split\n",
    "\n",
    "y = ICD.FraudFound_P\n",
    "X = ICD.drop(['FraudFound_P'], axis=1)\n",
    "\n",
    "X_train, X_test, y_train, y_test = train_test_split(X, y, test_size=0.33, random_state=42)\n",
    "\n",
    "categorical_cols = [cname for cname in X_train.columns if \n",
    "                        X_train[cname].dtype == \"object\"]\n",
    "\n",
    "numerical_cols = [cname for cname in X_train.columns if X_train[cname].dtype in ['int64', 'float64']]\n",
    "\n",
    "\n",
    "my_cols = categorical_cols + numerical_cols\n",
    "X_train = X_train[my_cols].copy()\n",
    "X_valid = X_test[my_cols].copy()\n"
   ]
  },
  {
   "cell_type": "code",
   "execution_count": 31,
   "id": "1481bf01",
   "metadata": {
    "execution": {
     "iopub.execute_input": "2022-05-27T01:49:21.280716Z",
     "iopub.status.busy": "2022-05-27T01:49:21.280006Z",
     "iopub.status.idle": "2022-05-27T01:49:21.294222Z",
     "shell.execute_reply": "2022-05-27T01:49:21.294744Z",
     "shell.execute_reply.started": "2022-05-27T01:38:51.043093Z"
    },
    "papermill": {
     "duration": 0.067169,
     "end_time": "2022-05-27T01:49:21.294876",
     "exception": false,
     "start_time": "2022-05-27T01:49:21.227707",
     "status": "completed"
    },
    "tags": []
   },
   "outputs": [],
   "source": [
    "from sklearn.compose import ColumnTransformer\n",
    "from sklearn.pipeline import Pipeline\n",
    "from sklearn.impute import SimpleImputer\n",
    "from sklearn.preprocessing import OneHotEncoder\n",
    "\n",
    "\n",
    "# Preprocessing for numerical data\n",
    "numerical_transformer = SimpleImputer(strategy='median')\n",
    "\n",
    "# Preprocessing for categorical data\n",
    "categorical_transformer = Pipeline(steps=[\n",
    "    ('imputer', SimpleImputer(strategy='most_frequent')),\n",
    "    ('onehot', OneHotEncoder(handle_unknown='ignore'))\n",
    "])\n",
    "\n",
    "# Bundle preprocessing for numerical and categorical data\n",
    "preprocessor = ColumnTransformer(\n",
    "    transformers=[\n",
    "        ('num', numerical_transformer, numerical_cols),\n",
    "        ('cat', categorical_transformer, categorical_cols)\n",
    "    ])"
   ]
  },
  {
   "cell_type": "code",
   "execution_count": 32,
   "id": "b43cf658",
   "metadata": {
    "execution": {
     "iopub.execute_input": "2022-05-27T01:49:21.394922Z",
     "iopub.status.busy": "2022-05-27T01:49:21.394319Z",
     "iopub.status.idle": "2022-05-27T01:49:21.436153Z",
     "shell.execute_reply": "2022-05-27T01:49:21.436590Z",
     "shell.execute_reply.started": "2022-05-27T01:38:51.444660Z"
    },
    "papermill": {
     "duration": 0.09425,
     "end_time": "2022-05-27T01:49:21.436729",
     "exception": false,
     "start_time": "2022-05-27T01:49:21.342479",
     "status": "completed"
    },
    "tags": []
   },
   "outputs": [],
   "source": [
    "from sklearn.ensemble import RandomForestClassifier\n",
    "\n",
    "model = RandomForestClassifier(n_estimators=100, random_state=0)"
   ]
  },
  {
   "cell_type": "code",
   "execution_count": 33,
   "id": "e30b5527",
   "metadata": {
    "execution": {
     "iopub.execute_input": "2022-05-27T01:49:21.540898Z",
     "iopub.status.busy": "2022-05-27T01:49:21.540295Z",
     "iopub.status.idle": "2022-05-27T01:49:27.085201Z",
     "shell.execute_reply": "2022-05-27T01:49:27.085724Z",
     "shell.execute_reply.started": "2022-05-27T01:43:12.376860Z"
    },
    "papermill": {
     "duration": 5.601157,
     "end_time": "2022-05-27T01:49:27.085888",
     "exception": false,
     "start_time": "2022-05-27T01:49:21.484731",
     "status": "completed"
    },
    "tags": []
   },
   "outputs": [
    {
     "name": "stdout",
     "output_type": "stream",
     "text": [
      "Accuracy: 0.9398703085085478\n"
     ]
    }
   ],
   "source": [
    "from sklearn.metrics import accuracy_score\n",
    "\n",
    "# Bundle preprocessing and modeling code in a pipeline\n",
    "my_pipeline = Pipeline(steps=[('preprocessor', preprocessor),\n",
    "                              ('model', model)\n",
    "                             ])\n",
    "\n",
    "# Preprocessing of training data, fit model \n",
    "my_pipeline.fit(X_train, y_train)\n",
    "\n",
    "# Preprocessing of validation data, get predictions\n",
    "preds = my_pipeline.predict(X_valid)\n",
    "\n",
    "# Evaluate the model\n",
    "score = accuracy_score(y_test, preds)\n",
    "print('Accuracy:', score)"
   ]
  },
  {
   "cell_type": "code",
   "execution_count": 34,
   "id": "12dc3b85",
   "metadata": {
    "execution": {
     "iopub.execute_input": "2022-05-27T01:49:27.183679Z",
     "iopub.status.busy": "2022-05-27T01:49:27.183179Z",
     "iopub.status.idle": "2022-05-27T01:49:27.280344Z",
     "shell.execute_reply": "2022-05-27T01:49:27.281177Z",
     "shell.execute_reply.started": "2022-05-27T01:33:42.041120Z"
    },
    "papermill": {
     "duration": 0.147635,
     "end_time": "2022-05-27T01:49:27.281406",
     "exception": false,
     "start_time": "2022-05-27T01:49:27.133771",
     "status": "completed"
    },
    "tags": []
   },
   "outputs": [
    {
     "name": "stdout",
     "output_type": "stream",
     "text": [
      "Accuracy: 0.9396738062487718\n"
     ]
    }
   ],
   "source": [
    "from sklearn.linear_model import LogisticRegression\n",
    "\n",
    "\n",
    "clf = LogisticRegression(random_state=0).fit(X_train[numerical_cols], y_train)\n",
    "\n",
    "preds = clf.predict(X_test[numerical_cols])\n",
    "\n",
    "score = accuracy_score(y_test, preds)\n",
    "print('Accuracy:', score)"
   ]
  },
  {
   "cell_type": "code",
   "execution_count": null,
   "id": "9e8f1d44",
   "metadata": {
    "papermill": {
     "duration": 0.058567,
     "end_time": "2022-05-27T01:49:27.432269",
     "exception": false,
     "start_time": "2022-05-27T01:49:27.373702",
     "status": "completed"
    },
    "tags": []
   },
   "outputs": [],
   "source": []
  }
 ],
 "metadata": {
  "kernelspec": {
   "display_name": "Python 3",
   "language": "python",
   "name": "python3"
  },
  "language_info": {
   "codemirror_mode": {
    "name": "ipython",
    "version": 3
   },
   "file_extension": ".py",
   "mimetype": "text/x-python",
   "name": "python",
   "nbconvert_exporter": "python",
   "pygments_lexer": "ipython3",
   "version": "3.7.12"
  },
  "papermill": {
   "default_parameters": {},
   "duration": 25.591685,
   "end_time": "2022-05-27T01:49:28.089391",
   "environment_variables": {},
   "exception": null,
   "input_path": "__notebook__.ipynb",
   "output_path": "__notebook__.ipynb",
   "parameters": {},
   "start_time": "2022-05-27T01:49:02.497706",
   "version": "2.3.3"
  }
 },
 "nbformat": 4,
 "nbformat_minor": 5
}
