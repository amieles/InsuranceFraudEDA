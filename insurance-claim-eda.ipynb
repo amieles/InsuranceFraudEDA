{
 "cells": [
  {
   "cell_type": "markdown",
   "id": "c8bd6e17",
   "metadata": {
    "papermill": {
     "duration": 0.058175,
     "end_time": "2022-06-06T22:03:29.107664",
     "exception": false,
     "start_time": "2022-06-06T22:03:29.049489",
     "status": "completed"
    },
    "tags": []
   },
   "source": [
    "# Vehicle Insurance Claim EDA\n",
    "This is an exploratory analysis of vehicle insurance claim data. Each row in this dataset represents an individual insurace claim.\n",
    "In this analysis, I will look for interesting patterns and insights in the data set. Ultimately, the goal is to predict whether a claim is fraud (FraudFound_P) or not based on other variables, but in this analysis, I will only be taking the beginning steps of data exploaration. Some questions that I would like to explore in this analysis are: \n",
    "* Who files vehicle insurance claims?\n",
    "* When are these claims most likely to be filed?\n",
    "<br /> The first step is to import the appropriate packages for this analysis."
   ]
  },
  {
   "cell_type": "code",
   "execution_count": 1,
   "id": "df2a0672",
   "metadata": {
    "_cell_guid": "b1076dfc-b9ad-4769-8c92-a6c4dae69d19",
    "_uuid": "8f2839f25d086af736a60e9eeb907d3b93b6e0e5",
    "execution": {
     "iopub.execute_input": "2022-06-06T22:03:29.226694Z",
     "iopub.status.busy": "2022-06-06T22:03:29.225473Z",
     "iopub.status.idle": "2022-06-06T22:03:30.850418Z",
     "shell.execute_reply": "2022-06-06T22:03:30.849598Z",
     "shell.execute_reply.started": "2022-06-06T21:10:45.304387Z"
    },
    "papermill": {
     "duration": 1.683457,
     "end_time": "2022-06-06T22:03:30.850612",
     "exception": false,
     "start_time": "2022-06-06T22:03:29.167155",
     "status": "completed"
    },
    "tags": []
   },
   "outputs": [],
   "source": [
    "import pandas as pd #\n",
    "pd.plotting.register_matplotlib_converters()\n",
    "import numpy as np  #linear algebra and transformations\n",
    "import seaborn as sns  #visualization\n",
    "import matplotlib.pyplot as plt #visualization\n",
    "%matplotlib inline\n",
    " \n",
    "    \n",
    "#Models\n",
    "from sklearn.ensemble import RandomForestClassifier\n",
    "from sklearn.linear_model import LogisticRegression\n",
    "from sklearn.neighbors import KNeighborsClassifier\n",
    "\n",
    "#Model Evaluation\n",
    "from sklearn.model_selection import GridSearchCV, RandomizedSearchCV, KFold\n",
    "from sklearn.metrics import plot_roc_curve\n",
    "from sklearn.metrics import confusion_matrix, classification_report\n",
    "from sklearn.model_selection import train_test_split, cross_val_score"
   ]
  },
  {
   "cell_type": "markdown",
   "id": "2d0fd58b",
   "metadata": {
    "papermill": {
     "duration": 0.056807,
     "end_time": "2022-06-06T22:03:30.965245",
     "exception": false,
     "start_time": "2022-06-06T22:03:30.908438",
     "status": "completed"
    },
    "tags": []
   },
   "source": [
    "Read in the data using pandas."
   ]
  },
  {
   "cell_type": "code",
   "execution_count": 2,
   "id": "de4cbeae",
   "metadata": {
    "execution": {
     "iopub.execute_input": "2022-06-06T22:03:31.081806Z",
     "iopub.status.busy": "2022-06-06T22:03:31.081088Z",
     "iopub.status.idle": "2022-06-06T22:03:31.241599Z",
     "shell.execute_reply": "2022-06-06T22:03:31.242205Z",
     "shell.execute_reply.started": "2022-06-06T19:27:36.093804Z"
    },
    "papermill": {
     "duration": 0.220996,
     "end_time": "2022-06-06T22:03:31.242429",
     "exception": false,
     "start_time": "2022-06-06T22:03:31.021433",
     "status": "completed"
    },
    "tags": []
   },
   "outputs": [],
   "source": [
    "file_path = \"../input/vehicle-claim-fraud-detection/fraud_oracle.csv\"\n",
    "ICD = pd.read_csv(file_path)"
   ]
  },
  {
   "cell_type": "markdown",
   "id": "0ef135dc",
   "metadata": {
    "papermill": {
     "duration": 0.054207,
     "end_time": "2022-06-06T22:03:31.352151",
     "exception": false,
     "start_time": "2022-06-06T22:03:31.297944",
     "status": "completed"
    },
    "tags": []
   },
   "source": [
    "Get an idea of the size of the dataset. In this case it has 15420 rows and 33 columns."
   ]
  },
  {
   "cell_type": "code",
   "execution_count": 3,
   "id": "219e6a5f",
   "metadata": {
    "execution": {
     "iopub.execute_input": "2022-06-06T22:03:31.466512Z",
     "iopub.status.busy": "2022-06-06T22:03:31.465437Z",
     "iopub.status.idle": "2022-06-06T22:03:31.473252Z",
     "shell.execute_reply": "2022-06-06T22:03:31.473751Z",
     "shell.execute_reply.started": "2022-06-06T19:27:36.184934Z"
    },
    "papermill": {
     "duration": 0.066463,
     "end_time": "2022-06-06T22:03:31.473933",
     "exception": false,
     "start_time": "2022-06-06T22:03:31.407470",
     "status": "completed"
    },
    "tags": []
   },
   "outputs": [
    {
     "data": {
      "text/plain": [
       "(15420, 33)"
      ]
     },
     "execution_count": 3,
     "metadata": {},
     "output_type": "execute_result"
    }
   ],
   "source": [
    "ICD.shape"
   ]
  },
  {
   "cell_type": "markdown",
   "id": "53299582",
   "metadata": {
    "papermill": {
     "duration": 0.054507,
     "end_time": "2022-06-06T22:03:31.584171",
     "exception": false,
     "start_time": "2022-06-06T22:03:31.529664",
     "status": "completed"
    },
    "tags": []
   },
   "source": [
    "Take a look at the first 5 rows of the dataset. In this case, we can see that some columns are left out."
   ]
  },
  {
   "cell_type": "code",
   "execution_count": 4,
   "id": "362d0548",
   "metadata": {
    "execution": {
     "iopub.execute_input": "2022-06-06T22:03:31.702542Z",
     "iopub.status.busy": "2022-06-06T22:03:31.701649Z",
     "iopub.status.idle": "2022-06-06T22:03:31.732043Z",
     "shell.execute_reply": "2022-06-06T22:03:31.732551Z",
     "shell.execute_reply.started": "2022-06-06T19:27:36.190656Z"
    },
    "papermill": {
     "duration": 0.0924,
     "end_time": "2022-06-06T22:03:31.732723",
     "exception": false,
     "start_time": "2022-06-06T22:03:31.640323",
     "status": "completed"
    },
    "tags": []
   },
   "outputs": [
    {
     "data": {
      "text/html": [
       "<div>\n",
       "<style scoped>\n",
       "    .dataframe tbody tr th:only-of-type {\n",
       "        vertical-align: middle;\n",
       "    }\n",
       "\n",
       "    .dataframe tbody tr th {\n",
       "        vertical-align: top;\n",
       "    }\n",
       "\n",
       "    .dataframe thead th {\n",
       "        text-align: right;\n",
       "    }\n",
       "</style>\n",
       "<table border=\"1\" class=\"dataframe\">\n",
       "  <thead>\n",
       "    <tr style=\"text-align: right;\">\n",
       "      <th></th>\n",
       "      <th>Month</th>\n",
       "      <th>WeekOfMonth</th>\n",
       "      <th>DayOfWeek</th>\n",
       "      <th>Make</th>\n",
       "      <th>AccidentArea</th>\n",
       "      <th>DayOfWeekClaimed</th>\n",
       "      <th>MonthClaimed</th>\n",
       "      <th>WeekOfMonthClaimed</th>\n",
       "      <th>Sex</th>\n",
       "      <th>MaritalStatus</th>\n",
       "      <th>...</th>\n",
       "      <th>AgeOfVehicle</th>\n",
       "      <th>AgeOfPolicyHolder</th>\n",
       "      <th>PoliceReportFiled</th>\n",
       "      <th>WitnessPresent</th>\n",
       "      <th>AgentType</th>\n",
       "      <th>NumberOfSuppliments</th>\n",
       "      <th>AddressChange_Claim</th>\n",
       "      <th>NumberOfCars</th>\n",
       "      <th>Year</th>\n",
       "      <th>BasePolicy</th>\n",
       "    </tr>\n",
       "  </thead>\n",
       "  <tbody>\n",
       "    <tr>\n",
       "      <th>0</th>\n",
       "      <td>Dec</td>\n",
       "      <td>5</td>\n",
       "      <td>Wednesday</td>\n",
       "      <td>Honda</td>\n",
       "      <td>Urban</td>\n",
       "      <td>Tuesday</td>\n",
       "      <td>Jan</td>\n",
       "      <td>1</td>\n",
       "      <td>Female</td>\n",
       "      <td>Single</td>\n",
       "      <td>...</td>\n",
       "      <td>3 years</td>\n",
       "      <td>26 to 30</td>\n",
       "      <td>No</td>\n",
       "      <td>No</td>\n",
       "      <td>External</td>\n",
       "      <td>none</td>\n",
       "      <td>1 year</td>\n",
       "      <td>3 to 4</td>\n",
       "      <td>1994</td>\n",
       "      <td>Liability</td>\n",
       "    </tr>\n",
       "    <tr>\n",
       "      <th>1</th>\n",
       "      <td>Jan</td>\n",
       "      <td>3</td>\n",
       "      <td>Wednesday</td>\n",
       "      <td>Honda</td>\n",
       "      <td>Urban</td>\n",
       "      <td>Monday</td>\n",
       "      <td>Jan</td>\n",
       "      <td>4</td>\n",
       "      <td>Male</td>\n",
       "      <td>Single</td>\n",
       "      <td>...</td>\n",
       "      <td>6 years</td>\n",
       "      <td>31 to 35</td>\n",
       "      <td>Yes</td>\n",
       "      <td>No</td>\n",
       "      <td>External</td>\n",
       "      <td>none</td>\n",
       "      <td>no change</td>\n",
       "      <td>1 vehicle</td>\n",
       "      <td>1994</td>\n",
       "      <td>Collision</td>\n",
       "    </tr>\n",
       "    <tr>\n",
       "      <th>2</th>\n",
       "      <td>Oct</td>\n",
       "      <td>5</td>\n",
       "      <td>Friday</td>\n",
       "      <td>Honda</td>\n",
       "      <td>Urban</td>\n",
       "      <td>Thursday</td>\n",
       "      <td>Nov</td>\n",
       "      <td>2</td>\n",
       "      <td>Male</td>\n",
       "      <td>Married</td>\n",
       "      <td>...</td>\n",
       "      <td>7 years</td>\n",
       "      <td>41 to 50</td>\n",
       "      <td>No</td>\n",
       "      <td>No</td>\n",
       "      <td>External</td>\n",
       "      <td>none</td>\n",
       "      <td>no change</td>\n",
       "      <td>1 vehicle</td>\n",
       "      <td>1994</td>\n",
       "      <td>Collision</td>\n",
       "    </tr>\n",
       "    <tr>\n",
       "      <th>3</th>\n",
       "      <td>Jun</td>\n",
       "      <td>2</td>\n",
       "      <td>Saturday</td>\n",
       "      <td>Toyota</td>\n",
       "      <td>Rural</td>\n",
       "      <td>Friday</td>\n",
       "      <td>Jul</td>\n",
       "      <td>1</td>\n",
       "      <td>Male</td>\n",
       "      <td>Married</td>\n",
       "      <td>...</td>\n",
       "      <td>more than 7</td>\n",
       "      <td>51 to 65</td>\n",
       "      <td>Yes</td>\n",
       "      <td>No</td>\n",
       "      <td>External</td>\n",
       "      <td>more than 5</td>\n",
       "      <td>no change</td>\n",
       "      <td>1 vehicle</td>\n",
       "      <td>1994</td>\n",
       "      <td>Liability</td>\n",
       "    </tr>\n",
       "    <tr>\n",
       "      <th>4</th>\n",
       "      <td>Jan</td>\n",
       "      <td>5</td>\n",
       "      <td>Monday</td>\n",
       "      <td>Honda</td>\n",
       "      <td>Urban</td>\n",
       "      <td>Tuesday</td>\n",
       "      <td>Feb</td>\n",
       "      <td>2</td>\n",
       "      <td>Female</td>\n",
       "      <td>Single</td>\n",
       "      <td>...</td>\n",
       "      <td>5 years</td>\n",
       "      <td>31 to 35</td>\n",
       "      <td>No</td>\n",
       "      <td>No</td>\n",
       "      <td>External</td>\n",
       "      <td>none</td>\n",
       "      <td>no change</td>\n",
       "      <td>1 vehicle</td>\n",
       "      <td>1994</td>\n",
       "      <td>Collision</td>\n",
       "    </tr>\n",
       "  </tbody>\n",
       "</table>\n",
       "<p>5 rows × 33 columns</p>\n",
       "</div>"
      ],
      "text/plain": [
       "  Month  WeekOfMonth  DayOfWeek    Make AccidentArea DayOfWeekClaimed  \\\n",
       "0   Dec            5  Wednesday   Honda        Urban          Tuesday   \n",
       "1   Jan            3  Wednesday   Honda        Urban           Monday   \n",
       "2   Oct            5     Friday   Honda        Urban         Thursday   \n",
       "3   Jun            2   Saturday  Toyota        Rural           Friday   \n",
       "4   Jan            5     Monday   Honda        Urban          Tuesday   \n",
       "\n",
       "  MonthClaimed  WeekOfMonthClaimed     Sex MaritalStatus  ...  AgeOfVehicle  \\\n",
       "0          Jan                   1  Female        Single  ...       3 years   \n",
       "1          Jan                   4    Male        Single  ...       6 years   \n",
       "2          Nov                   2    Male       Married  ...       7 years   \n",
       "3          Jul                   1    Male       Married  ...   more than 7   \n",
       "4          Feb                   2  Female        Single  ...       5 years   \n",
       "\n",
       "  AgeOfPolicyHolder PoliceReportFiled WitnessPresent AgentType  \\\n",
       "0          26 to 30                No             No  External   \n",
       "1          31 to 35               Yes             No  External   \n",
       "2          41 to 50                No             No  External   \n",
       "3          51 to 65               Yes             No  External   \n",
       "4          31 to 35                No             No  External   \n",
       "\n",
       "   NumberOfSuppliments  AddressChange_Claim  NumberOfCars  Year  BasePolicy  \n",
       "0                 none               1 year        3 to 4  1994   Liability  \n",
       "1                 none            no change     1 vehicle  1994   Collision  \n",
       "2                 none            no change     1 vehicle  1994   Collision  \n",
       "3          more than 5            no change     1 vehicle  1994   Liability  \n",
       "4                 none            no change     1 vehicle  1994   Collision  \n",
       "\n",
       "[5 rows x 33 columns]"
      ]
     },
     "execution_count": 4,
     "metadata": {},
     "output_type": "execute_result"
    }
   ],
   "source": [
    "ICD.head()"
   ]
  },
  {
   "cell_type": "markdown",
   "id": "a6d265ec",
   "metadata": {
    "papermill": {
     "duration": 0.056833,
     "end_time": "2022-06-06T22:03:31.845208",
     "exception": false,
     "start_time": "2022-06-06T22:03:31.788375",
     "status": "completed"
    },
    "tags": []
   },
   "source": [
    "List the names of all columns and see what types they are."
   ]
  },
  {
   "cell_type": "code",
   "execution_count": 5,
   "id": "530cbb41",
   "metadata": {
    "execution": {
     "iopub.execute_input": "2022-06-06T22:03:31.960625Z",
     "iopub.status.busy": "2022-06-06T22:03:31.959649Z",
     "iopub.status.idle": "2022-06-06T22:03:32.030549Z",
     "shell.execute_reply": "2022-06-06T22:03:32.029586Z",
     "shell.execute_reply.started": "2022-06-06T19:27:36.224499Z"
    },
    "papermill": {
     "duration": 0.130046,
     "end_time": "2022-06-06T22:03:32.030720",
     "exception": false,
     "start_time": "2022-06-06T22:03:31.900674",
     "status": "completed"
    },
    "tags": []
   },
   "outputs": [
    {
     "name": "stdout",
     "output_type": "stream",
     "text": [
      "<class 'pandas.core.frame.DataFrame'>\n",
      "RangeIndex: 15420 entries, 0 to 15419\n",
      "Data columns (total 33 columns):\n",
      " #   Column                Non-Null Count  Dtype \n",
      "---  ------                --------------  ----- \n",
      " 0   Month                 15420 non-null  object\n",
      " 1   WeekOfMonth           15420 non-null  int64 \n",
      " 2   DayOfWeek             15420 non-null  object\n",
      " 3   Make                  15420 non-null  object\n",
      " 4   AccidentArea          15420 non-null  object\n",
      " 5   DayOfWeekClaimed      15420 non-null  object\n",
      " 6   MonthClaimed          15420 non-null  object\n",
      " 7   WeekOfMonthClaimed    15420 non-null  int64 \n",
      " 8   Sex                   15420 non-null  object\n",
      " 9   MaritalStatus         15420 non-null  object\n",
      " 10  Age                   15420 non-null  int64 \n",
      " 11  Fault                 15420 non-null  object\n",
      " 12  PolicyType            15420 non-null  object\n",
      " 13  VehicleCategory       15420 non-null  object\n",
      " 14  VehiclePrice          15420 non-null  object\n",
      " 15  FraudFound_P          15420 non-null  int64 \n",
      " 16  PolicyNumber          15420 non-null  int64 \n",
      " 17  RepNumber             15420 non-null  int64 \n",
      " 18  Deductible            15420 non-null  int64 \n",
      " 19  DriverRating          15420 non-null  int64 \n",
      " 20  Days_Policy_Accident  15420 non-null  object\n",
      " 21  Days_Policy_Claim     15420 non-null  object\n",
      " 22  PastNumberOfClaims    15420 non-null  object\n",
      " 23  AgeOfVehicle          15420 non-null  object\n",
      " 24  AgeOfPolicyHolder     15420 non-null  object\n",
      " 25  PoliceReportFiled     15420 non-null  object\n",
      " 26  WitnessPresent        15420 non-null  object\n",
      " 27  AgentType             15420 non-null  object\n",
      " 28  NumberOfSuppliments   15420 non-null  object\n",
      " 29  AddressChange_Claim   15420 non-null  object\n",
      " 30  NumberOfCars          15420 non-null  object\n",
      " 31  Year                  15420 non-null  int64 \n",
      " 32  BasePolicy            15420 non-null  object\n",
      "dtypes: int64(9), object(24)\n",
      "memory usage: 3.9+ MB\n"
     ]
    }
   ],
   "source": [
    "ICD.info()"
   ]
  },
  {
   "cell_type": "markdown",
   "id": "69ffe2e0",
   "metadata": {
    "papermill": {
     "duration": 0.057356,
     "end_time": "2022-06-06T22:03:32.144457",
     "exception": false,
     "start_time": "2022-06-06T22:03:32.087101",
     "status": "completed"
    },
    "tags": []
   },
   "source": [
    "It is unlikely that I will use all of these columns to answer my questions, but it is good to have an idea of what information is available to use.\n",
    "<br /> I will begin by answering the question of who files insurance claims, which may also answer who is likely to get into accidents.\n",
    "For the numeric variables, we can get some quick summary statistics."
   ]
  },
  {
   "cell_type": "code",
   "execution_count": 6,
   "id": "aa3df60d",
   "metadata": {
    "execution": {
     "iopub.execute_input": "2022-06-06T22:03:32.265133Z",
     "iopub.status.busy": "2022-06-06T22:03:32.264228Z",
     "iopub.status.idle": "2022-06-06T22:03:32.278027Z",
     "shell.execute_reply": "2022-06-06T22:03:32.277472Z",
     "shell.execute_reply.started": "2022-06-06T19:27:36.259762Z"
    },
    "papermill": {
     "duration": 0.077877,
     "end_time": "2022-06-06T22:03:32.278190",
     "exception": false,
     "start_time": "2022-06-06T22:03:32.200313",
     "status": "completed"
    },
    "tags": []
   },
   "outputs": [
    {
     "data": {
      "text/html": [
       "<div>\n",
       "<style scoped>\n",
       "    .dataframe tbody tr th:only-of-type {\n",
       "        vertical-align: middle;\n",
       "    }\n",
       "\n",
       "    .dataframe tbody tr th {\n",
       "        vertical-align: top;\n",
       "    }\n",
       "\n",
       "    .dataframe thead th {\n",
       "        text-align: right;\n",
       "    }\n",
       "</style>\n",
       "<table border=\"1\" class=\"dataframe\">\n",
       "  <thead>\n",
       "    <tr style=\"text-align: right;\">\n",
       "      <th></th>\n",
       "      <th>Age</th>\n",
       "      <th>Deductible</th>\n",
       "      <th>DriverRating</th>\n",
       "    </tr>\n",
       "  </thead>\n",
       "  <tbody>\n",
       "    <tr>\n",
       "      <th>min</th>\n",
       "      <td>0.000000</td>\n",
       "      <td>300.00000</td>\n",
       "      <td>1.000000</td>\n",
       "    </tr>\n",
       "    <tr>\n",
       "      <th>max</th>\n",
       "      <td>80.000000</td>\n",
       "      <td>700.00000</td>\n",
       "      <td>4.000000</td>\n",
       "    </tr>\n",
       "    <tr>\n",
       "      <th>median</th>\n",
       "      <td>38.000000</td>\n",
       "      <td>400.00000</td>\n",
       "      <td>2.000000</td>\n",
       "    </tr>\n",
       "    <tr>\n",
       "      <th>mean</th>\n",
       "      <td>39.855707</td>\n",
       "      <td>407.70428</td>\n",
       "      <td>2.487808</td>\n",
       "    </tr>\n",
       "  </tbody>\n",
       "</table>\n",
       "</div>"
      ],
      "text/plain": [
       "              Age  Deductible  DriverRating\n",
       "min      0.000000   300.00000      1.000000\n",
       "max     80.000000   700.00000      4.000000\n",
       "median  38.000000   400.00000      2.000000\n",
       "mean    39.855707   407.70428      2.487808"
      ]
     },
     "execution_count": 6,
     "metadata": {},
     "output_type": "execute_result"
    }
   ],
   "source": [
    "ICD.agg(\n",
    "    {\n",
    "        'Age': [\"min\", \"max\", \"median\", \"mean\"],\n",
    "        'Deductible': [\"min\", \"max\", \"median\", \"mean\"],\n",
    "        'DriverRating': [\"min\", \"max\", \"median\", \"mean\"],\n",
    "    }\n",
    ")\n"
   ]
  },
  {
   "cell_type": "markdown",
   "id": "30875619",
   "metadata": {
    "papermill": {
     "duration": 0.056635,
     "end_time": "2022-06-06T22:03:32.391491",
     "exception": false,
     "start_time": "2022-06-06T22:03:32.334856",
     "status": "completed"
    },
    "tags": []
   },
   "source": [
    "This table gives a good quick glance at the averages and range of these three variables. At first glance, seeing a recorded age of 0 seems like an error. I am going to check how many records have an age of 0."
   ]
  },
  {
   "cell_type": "code",
   "execution_count": 7,
   "id": "98f65775",
   "metadata": {
    "execution": {
     "iopub.execute_input": "2022-06-06T22:03:32.510323Z",
     "iopub.status.busy": "2022-06-06T22:03:32.509569Z",
     "iopub.status.idle": "2022-06-06T22:03:32.513417Z",
     "shell.execute_reply": "2022-06-06T22:03:32.513932Z",
     "shell.execute_reply.started": "2022-06-06T19:27:36.277148Z"
    },
    "papermill": {
     "duration": 0.065618,
     "end_time": "2022-06-06T22:03:32.514116",
     "exception": false,
     "start_time": "2022-06-06T22:03:32.448498",
     "status": "completed"
    },
    "tags": []
   },
   "outputs": [
    {
     "data": {
      "text/plain": [
       "320"
      ]
     },
     "execution_count": 7,
     "metadata": {},
     "output_type": "execute_result"
    }
   ],
   "source": [
    "(ICD[\"Age\"] == 0).sum()"
   ]
  },
  {
   "cell_type": "markdown",
   "id": "2ab2a18e",
   "metadata": {
    "papermill": {
     "duration": 0.057585,
     "end_time": "2022-06-06T22:03:32.628262",
     "exception": false,
     "start_time": "2022-06-06T22:03:32.570677",
     "status": "completed"
    },
    "tags": []
   },
   "source": [
    "For predictive modeling, it would make sense to deal with these cases (maybe imputation). However, in this case we will remove them so they don't affect graphs."
   ]
  },
  {
   "cell_type": "code",
   "execution_count": 8,
   "id": "7237e6b0",
   "metadata": {
    "execution": {
     "iopub.execute_input": "2022-06-06T22:03:32.746043Z",
     "iopub.status.busy": "2022-06-06T22:03:32.745332Z",
     "iopub.status.idle": "2022-06-06T22:03:32.753890Z",
     "shell.execute_reply": "2022-06-06T22:03:32.754514Z",
     "shell.execute_reply.started": "2022-06-06T19:27:36.288206Z"
    },
    "papermill": {
     "duration": 0.070067,
     "end_time": "2022-06-06T22:03:32.754696",
     "exception": false,
     "start_time": "2022-06-06T22:03:32.684629",
     "status": "completed"
    },
    "tags": []
   },
   "outputs": [],
   "source": [
    "ICD_filtered = ICD[ICD['Age'] != 0]"
   ]
  },
  {
   "cell_type": "code",
   "execution_count": 9,
   "id": "e898b5f0",
   "metadata": {
    "execution": {
     "iopub.execute_input": "2022-06-06T22:03:32.873007Z",
     "iopub.status.busy": "2022-06-06T22:03:32.872291Z",
     "iopub.status.idle": "2022-06-06T22:03:33.431379Z",
     "shell.execute_reply": "2022-06-06T22:03:33.430693Z",
     "shell.execute_reply.started": "2022-06-06T19:27:36.304302Z"
    },
    "papermill": {
     "duration": 0.620141,
     "end_time": "2022-06-06T22:03:33.431553",
     "exception": false,
     "start_time": "2022-06-06T22:03:32.811412",
     "status": "completed"
    },
    "tags": []
   },
   "outputs": [
    {
     "data": {
      "text/plain": [
       "Text(0.5, 1.0, 'Age Distribution')"
      ]
     },
     "execution_count": 9,
     "metadata": {},
     "output_type": "execute_result"
    },
    {
     "data": {
      "image/png": "[encoded data removed]",
      "text/plain": [
       "<Figure size 360x360 with 1 Axes>"
      ]
     },
     "metadata": {
      "needs_background": "light"
     },
     "output_type": "display_data"
    }
   ],
   "source": [
    "sns.displot(ICD_filtered['Age'], kde = True)\n",
    "plt.title(\"Age Distribution\")"
   ]
  },
  {
   "cell_type": "markdown",
   "id": "f7c30e88",
   "metadata": {
    "papermill": {
     "duration": 0.057954,
     "end_time": "2022-06-06T22:03:33.548296",
     "exception": false,
     "start_time": "2022-06-06T22:03:33.490342",
     "status": "completed"
    },
    "tags": []
   },
   "source": [
    "The age distribution appears to be slightly skewed to the right."
   ]
  },
  {
   "cell_type": "code",
   "execution_count": 10,
   "id": "ca800da7",
   "metadata": {
    "execution": {
     "iopub.execute_input": "2022-06-06T22:03:33.667804Z",
     "iopub.status.busy": "2022-06-06T22:03:33.667131Z",
     "iopub.status.idle": "2022-06-06T22:03:34.044658Z",
     "shell.execute_reply": "2022-06-06T22:03:34.045633Z",
     "shell.execute_reply.started": "2022-06-06T19:27:36.742109Z"
    },
    "papermill": {
     "duration": 0.439649,
     "end_time": "2022-06-06T22:03:34.045928",
     "exception": false,
     "start_time": "2022-06-06T22:03:33.606279",
     "status": "completed"
    },
    "tags": []
   },
   "outputs": [
    {
     "data": {
      "text/plain": [
       "Text(0.5, 1.0, 'Deductible Distribution')"
      ]
     },
     "execution_count": 10,
     "metadata": {},
     "output_type": "execute_result"
    },
    {
     "data": {
      "image/png": "[encoded data removed]",
      "text/plain": [
       "<Figure size 360x360 with 1 Axes>"
      ]
     },
     "metadata": {
      "needs_background": "light"
     },
     "output_type": "display_data"
    }
   ],
   "source": [
    "sns.displot(ICD['Deductible'], kde = False)\n",
    "plt.title(\"Deductible Distribution\")"
   ]
  },
  {
   "cell_type": "markdown",
   "id": "230ca5e2",
   "metadata": {
    "papermill": {
     "duration": 0.059838,
     "end_time": "2022-06-06T22:03:34.171899",
     "exception": false,
     "start_time": "2022-06-06T22:03:34.112061",
     "status": "completed"
    },
    "tags": []
   },
   "source": [
    "Note: The vast majority of deductibles are 400 with more rare cases of 500 and 675."
   ]
  },
  {
   "cell_type": "code",
   "execution_count": 11,
   "id": "963f13df",
   "metadata": {
    "execution": {
     "iopub.execute_input": "2022-06-06T22:03:34.294248Z",
     "iopub.status.busy": "2022-06-06T22:03:34.293530Z",
     "iopub.status.idle": "2022-06-06T22:03:34.676683Z",
     "shell.execute_reply": "2022-06-06T22:03:34.676125Z",
     "shell.execute_reply.started": "2022-06-06T19:27:37.075408Z"
    },
    "papermill": {
     "duration": 0.444983,
     "end_time": "2022-06-06T22:03:34.676825",
     "exception": false,
     "start_time": "2022-06-06T22:03:34.231842",
     "status": "completed"
    },
    "tags": []
   },
   "outputs": [
    {
     "data": {
      "text/plain": [
       "Text(0.5, 1.0, 'DriverRating Distribution')"
      ]
     },
     "execution_count": 11,
     "metadata": {},
     "output_type": "execute_result"
    },
    {
     "data": {
      "image/png": "[encoded data removed]",
      "text/plain": [
       "<Figure size 360x360 with 1 Axes>"
      ]
     },
     "metadata": {
      "needs_background": "light"
     },
     "output_type": "display_data"
    }
   ],
   "source": [
    "sns.displot(ICD['DriverRating'], kde = False)\n",
    "plt.title(\"DriverRating Distribution\")\n"
   ]
  },
  {
   "cell_type": "markdown",
   "id": "7c20475f",
   "metadata": {
    "papermill": {
     "duration": 0.060238,
     "end_time": "2022-06-06T22:03:34.798365",
     "exception": false,
     "start_time": "2022-06-06T22:03:34.738127",
     "status": "completed"
    },
    "tags": []
   },
   "source": [
    "It appears that driver ratings follow a fairly uniform distribution. This is interesting, as you would think that drivers with a higher rating would be in less accidents and file less claims, which is only the case by a close margin. Below are the exact counts for each rating."
   ]
  },
  {
   "cell_type": "code",
   "execution_count": 12,
   "id": "4583e42a",
   "metadata": {
    "execution": {
     "iopub.execute_input": "2022-06-06T22:03:34.926182Z",
     "iopub.status.busy": "2022-06-06T22:03:34.925450Z",
     "iopub.status.idle": "2022-06-06T22:03:34.930563Z",
     "shell.execute_reply": "2022-06-06T22:03:34.931075Z",
     "shell.execute_reply.started": "2022-06-06T19:27:37.412616Z"
    },
    "papermill": {
     "duration": 0.071859,
     "end_time": "2022-06-06T22:03:34.931262",
     "exception": false,
     "start_time": "2022-06-06T22:03:34.859403",
     "status": "completed"
    },
    "tags": []
   },
   "outputs": [
    {
     "data": {
      "text/plain": [
       "DriverRating\n",
       "1    3944\n",
       "2    3801\n",
       "3    3884\n",
       "4    3791\n",
       "Name: DriverRating, dtype: int64"
      ]
     },
     "execution_count": 12,
     "metadata": {},
     "output_type": "execute_result"
    }
   ],
   "source": [
    "ICD.groupby(\"DriverRating\").DriverRating.count()"
   ]
  },
  {
   "cell_type": "code",
   "execution_count": 13,
   "id": "caca182e",
   "metadata": {
    "execution": {
     "iopub.execute_input": "2022-06-06T22:03:35.059655Z",
     "iopub.status.busy": "2022-06-06T22:03:35.058935Z",
     "iopub.status.idle": "2022-06-06T22:03:35.443302Z",
     "shell.execute_reply": "2022-06-06T22:03:35.442454Z",
     "shell.execute_reply.started": "2022-06-06T19:27:37.422568Z"
    },
    "papermill": {
     "duration": 0.449902,
     "end_time": "2022-06-06T22:03:35.443497",
     "exception": false,
     "start_time": "2022-06-06T22:03:34.993595",
     "status": "completed"
    },
    "tags": []
   },
   "outputs": [
    {
     "data": {
      "text/plain": [
       "<seaborn.axisgrid.FacetGrid at 0x7f53dab21550>"
      ]
     },
     "execution_count": 13,
     "metadata": {},
     "output_type": "execute_result"
    },
    {
     "data": {
      "image/png": "[encoded data removed]",
      "text/plain": [
       "<Figure size 360x360 with 1 Axes>"
      ]
     },
     "metadata": {
      "needs_background": "light"
     },
     "output_type": "display_data"
    }
   ],
   "source": [
    "sns.displot(data = ICD['Month'])"
   ]
  },
  {
   "cell_type": "markdown",
   "id": "3adc7dd1",
   "metadata": {
    "papermill": {
     "duration": 0.064938,
     "end_time": "2022-06-06T22:03:35.572253",
     "exception": false,
     "start_time": "2022-06-06T22:03:35.507315",
     "status": "completed"
    },
    "tags": []
   },
   "source": [
    "The most accidents occur in January, May, and March, respectively. This distribution is almost uniform."
   ]
  },
  {
   "cell_type": "code",
   "execution_count": 14,
   "id": "12393c6c",
   "metadata": {
    "execution": {
     "iopub.execute_input": "2022-06-06T22:03:35.715940Z",
     "iopub.status.busy": "2022-06-06T22:03:35.715197Z",
     "iopub.status.idle": "2022-06-06T22:03:36.051442Z",
     "shell.execute_reply": "2022-06-06T22:03:36.050810Z",
     "shell.execute_reply.started": "2022-06-06T19:27:37.768165Z"
    },
    "papermill": {
     "duration": 0.415121,
     "end_time": "2022-06-06T22:03:36.051597",
     "exception": false,
     "start_time": "2022-06-06T22:03:35.636476",
     "status": "completed"
    },
    "tags": []
   },
   "outputs": [
    {
     "data": {
      "text/plain": [
       "<seaborn.axisgrid.FacetGrid at 0x7f53daa48ad0>"
      ]
     },
     "execution_count": 14,
     "metadata": {},
     "output_type": "execute_result"
    },
    {
     "data": {
      "image/png": "[encoded data removed]",
      "text/plain": [
       "<Figure size 360x360 with 1 Axes>"
      ]
     },
     "metadata": {
      "needs_background": "light"
     },
     "output_type": "display_data"
    }
   ],
   "source": [
    "sns.displot(y = ICD['DayOfWeekClaimed'])"
   ]
  },
  {
   "cell_type": "markdown",
   "id": "e96c893c",
   "metadata": {
    "papermill": {
     "duration": 0.062584,
     "end_time": "2022-06-06T22:03:36.177480",
     "exception": false,
     "start_time": "2022-06-06T22:03:36.114896",
     "status": "completed"
    },
    "tags": []
   },
   "source": [
    "Most claims are made on Monday, followed by Tuesday."
   ]
  },
  {
   "cell_type": "code",
   "execution_count": 15,
   "id": "50a63b1d",
   "metadata": {
    "execution": {
     "iopub.execute_input": "2022-06-06T22:03:36.312136Z",
     "iopub.status.busy": "2022-06-06T22:03:36.311397Z",
     "iopub.status.idle": "2022-06-06T22:03:36.687395Z",
     "shell.execute_reply": "2022-06-06T22:03:36.686812Z",
     "shell.execute_reply.started": "2022-06-06T19:27:38.079317Z"
    },
    "papermill": {
     "duration": 0.4431,
     "end_time": "2022-06-06T22:03:36.687574",
     "exception": false,
     "start_time": "2022-06-06T22:03:36.244474",
     "status": "completed"
    },
    "tags": []
   },
   "outputs": [
    {
     "data": {
      "text/plain": [
       "<AxesSubplot:>"
      ]
     },
     "execution_count": 15,
     "metadata": {},
     "output_type": "execute_result"
    },
    {
     "data": {
      "image/png": "[encoded data removed]",
      "text/plain": [
       "<Figure size 432x288 with 1 Axes>"
      ]
     },
     "metadata": {
      "needs_background": "light"
     },
     "output_type": "display_data"
    }
   ],
   "source": [
    "n = 10\n",
    "ICD[\"Make\"].value_counts()[:n].plot(kind = 'barh')"
   ]
  },
  {
   "cell_type": "markdown",
   "id": "422d861d",
   "metadata": {
    "papermill": {
     "duration": 0.064332,
     "end_time": "2022-06-06T22:03:36.817614",
     "exception": false,
     "start_time": "2022-06-06T22:03:36.753282",
     "status": "completed"
    },
    "tags": []
   },
   "source": [
    "The above list shows the 10 most common car makes that are listed on a claim. There appears to be 5 main makes that are in significantly more accidents than other makes. It may be possible to classify these as high risk makes. However, since these makes are very common they may just be more likely to be involved in accidents. "
   ]
  },
  {
   "cell_type": "code",
   "execution_count": 16,
   "id": "1a0f3f00",
   "metadata": {
    "execution": {
     "iopub.execute_input": "2022-06-06T22:03:36.952379Z",
     "iopub.status.busy": "2022-06-06T22:03:36.951649Z",
     "iopub.status.idle": "2022-06-06T22:03:36.955485Z",
     "shell.execute_reply": "2022-06-06T22:03:36.956125Z",
     "shell.execute_reply.started": "2022-06-06T19:27:38.309803Z"
    },
    "papermill": {
     "duration": 0.073956,
     "end_time": "2022-06-06T22:03:36.956303",
     "exception": false,
     "start_time": "2022-06-06T22:03:36.882347",
     "status": "completed"
    },
    "tags": []
   },
   "outputs": [
    {
     "data": {
      "text/plain": [
       "array(['3 years', '6 years', '7 years', 'more than 7', '5 years', 'new',\n",
       "       '4 years', '2 years'], dtype=object)"
      ]
     },
     "execution_count": 16,
     "metadata": {},
     "output_type": "execute_result"
    }
   ],
   "source": [
    "ICD.AgeOfVehicle.unique()"
   ]
  },
  {
   "cell_type": "code",
   "execution_count": 17,
   "id": "0f9408a3",
   "metadata": {
    "execution": {
     "iopub.execute_input": "2022-06-06T22:03:37.108043Z",
     "iopub.status.busy": "2022-06-06T22:03:37.107305Z",
     "iopub.status.idle": "2022-06-06T22:03:37.456827Z",
     "shell.execute_reply": "2022-06-06T22:03:37.456302Z",
     "shell.execute_reply.started": "2022-06-06T19:27:38.317542Z"
    },
    "papermill": {
     "duration": 0.434731,
     "end_time": "2022-06-06T22:03:37.457019",
     "exception": false,
     "start_time": "2022-06-06T22:03:37.022288",
     "status": "completed"
    },
    "tags": []
   },
   "outputs": [
    {
     "data": {
      "text/plain": [
       "<seaborn.axisgrid.FacetGrid at 0x7f53da9b4810>"
      ]
     },
     "execution_count": 17,
     "metadata": {},
     "output_type": "execute_result"
    },
    {
     "data": {
      "image/png": "[encoded data removed]",
      "text/plain": [
       "<Figure size 360x360 with 1 Axes>"
      ]
     },
     "metadata": {
      "needs_background": "light"
     },
     "output_type": "display_data"
    }
   ],
   "source": [
    "sns.displot(y = ICD[\"AgeOfVehicle\"])"
   ]
  },
  {
   "cell_type": "markdown",
   "id": "64b6e995",
   "metadata": {
    "papermill": {
     "duration": 0.064532,
     "end_time": "2022-06-06T22:03:37.586681",
     "exception": false,
     "start_time": "2022-06-06T22:03:37.522149",
     "status": "completed"
    },
    "tags": []
   },
   "source": [
    "Here we see that most vehicles are 6 years or older."
   ]
  },
  {
   "cell_type": "code",
   "execution_count": 18,
   "id": "7c0d382d",
   "metadata": {
    "execution": {
     "iopub.execute_input": "2022-06-06T22:03:37.739286Z",
     "iopub.status.busy": "2022-06-06T22:03:37.738201Z",
     "iopub.status.idle": "2022-06-06T22:03:38.050695Z",
     "shell.execute_reply": "2022-06-06T22:03:38.051203Z",
     "shell.execute_reply.started": "2022-06-06T19:27:38.621216Z"
    },
    "papermill": {
     "duration": 0.398723,
     "end_time": "2022-06-06T22:03:38.051397",
     "exception": false,
     "start_time": "2022-06-06T22:03:37.652674",
     "status": "completed"
    },
    "tags": []
   },
   "outputs": [
    {
     "data": {
      "text/plain": [
       "<seaborn.axisgrid.FacetGrid at 0x7f53da796b50>"
      ]
     },
     "execution_count": 18,
     "metadata": {},
     "output_type": "execute_result"
    },
    {
     "data": {
      "image/png": "[encoded data removed]",
      "text/plain": [
       "<Figure size 360x360 with 1 Axes>"
      ]
     },
     "metadata": {
      "needs_background": "light"
     },
     "output_type": "display_data"
    }
   ],
   "source": [
    "sns.displot(y = ICD[\"VehiclePrice\"])"
   ]
  },
  {
   "cell_type": "code",
   "execution_count": 19,
   "id": "55d330c9",
   "metadata": {
    "execution": {
     "iopub.execute_input": "2022-06-06T22:03:38.189608Z",
     "iopub.status.busy": "2022-06-06T22:03:38.188612Z",
     "iopub.status.idle": "2022-06-06T22:03:38.194039Z",
     "shell.execute_reply": "2022-06-06T22:03:38.194504Z",
     "shell.execute_reply.started": "2022-06-06T19:27:38.916102Z"
    },
    "papermill": {
     "duration": 0.075424,
     "end_time": "2022-06-06T22:03:38.194685",
     "exception": false,
     "start_time": "2022-06-06T22:03:38.119261",
     "status": "completed"
    },
    "tags": []
   },
   "outputs": [
    {
     "data": {
      "text/plain": [
       "0.05985732814526589"
      ]
     },
     "execution_count": 19,
     "metadata": {},
     "output_type": "execute_result"
    }
   ],
   "source": [
    "ICD['FraudFound_P'].mean()"
   ]
  },
  {
   "cell_type": "code",
   "execution_count": 20,
   "id": "f0755952",
   "metadata": {
    "execution": {
     "iopub.execute_input": "2022-06-06T22:03:38.338475Z",
     "iopub.status.busy": "2022-06-06T22:03:38.337558Z",
     "iopub.status.idle": "2022-06-06T22:03:38.341593Z",
     "shell.execute_reply": "2022-06-06T22:03:38.341065Z",
     "shell.execute_reply.started": "2022-06-06T19:27:38.923530Z"
    },
    "papermill": {
     "duration": 0.079176,
     "end_time": "2022-06-06T22:03:38.341748",
     "exception": false,
     "start_time": "2022-06-06T22:03:38.262572",
     "status": "completed"
    },
    "tags": []
   },
   "outputs": [
    {
     "data": {
      "text/plain": [
       "0.9401426718547341"
      ]
     },
     "execution_count": 20,
     "metadata": {},
     "output_type": "execute_result"
    }
   ],
   "source": [
    "1-ICD['FraudFound_P'].mean()"
   ]
  },
  {
   "cell_type": "markdown",
   "id": "912c5342",
   "metadata": {
    "papermill": {
     "duration": 0.067464,
     "end_time": "2022-06-06T22:03:38.478525",
     "exception": false,
     "start_time": "2022-06-06T22:03:38.411061",
     "status": "completed"
    },
    "tags": []
   },
   "source": [
    "This means that a model that predicts all claims as not fraudulent will be correct about 94% of the time. We want to improve on this by considering which factors can help predict fraudulent claims. "
   ]
  },
  {
   "cell_type": "markdown",
   "id": "6d0a547b",
   "metadata": {
    "papermill": {
     "duration": 0.069829,
     "end_time": "2022-06-06T22:03:38.616399",
     "exception": false,
     "start_time": "2022-06-06T22:03:38.546570",
     "status": "completed"
    },
    "tags": []
   },
   "source": [
    "In this dataset, about 6% of rows are classified as fraudulent claims."
   ]
  },
  {
   "cell_type": "code",
   "execution_count": 21,
   "id": "3e1b5baa",
   "metadata": {
    "execution": {
     "iopub.execute_input": "2022-06-06T22:03:38.760007Z",
     "iopub.status.busy": "2022-06-06T22:03:38.759264Z",
     "iopub.status.idle": "2022-06-06T22:03:38.765370Z",
     "shell.execute_reply": "2022-06-06T22:03:38.766024Z",
     "shell.execute_reply.started": "2022-06-06T19:27:38.936104Z"
    },
    "papermill": {
     "duration": 0.08079,
     "end_time": "2022-06-06T22:03:38.766210",
     "exception": false,
     "start_time": "2022-06-06T22:03:38.685420",
     "status": "completed"
    },
    "tags": []
   },
   "outputs": [],
   "source": [
    "ICD['FraudFound_P'] = pd.Categorical(ICD.FraudFound_P)"
   ]
  },
  {
   "cell_type": "code",
   "execution_count": 22,
   "id": "67ef3b88",
   "metadata": {
    "execution": {
     "iopub.execute_input": "2022-06-06T22:03:38.910483Z",
     "iopub.status.busy": "2022-06-06T22:03:38.907634Z",
     "iopub.status.idle": "2022-06-06T22:03:40.280097Z",
     "shell.execute_reply": "2022-06-06T22:03:40.279524Z",
     "shell.execute_reply.started": "2022-06-06T19:27:38.947796Z"
    },
    "papermill": {
     "duration": 1.44584,
     "end_time": "2022-06-06T22:03:40.280257",
     "exception": false,
     "start_time": "2022-06-06T22:03:38.834417",
     "status": "completed"
    },
    "tags": []
   },
   "outputs": [
    {
     "data": {
      "text/plain": [
       "<AxesSubplot:xlabel='DriverRating', ylabel='Age'>"
      ]
     },
     "execution_count": 22,
     "metadata": {},
     "output_type": "execute_result"
    },
    {
     "data": {
      "image/png": "[encoded data removed]",
      "text/plain": [
       "<Figure size 432x288 with 1 Axes>"
      ]
     },
     "metadata": {
      "needs_background": "light"
     },
     "output_type": "display_data"
    }
   ],
   "source": [
    "sns.stripplot(x='DriverRating', y= 'Age', hue = 'FraudFound_P', data = ICD_filtered, size = 3.5)"
   ]
  },
  {
   "cell_type": "markdown",
   "id": "1261abef",
   "metadata": {
    "papermill": {
     "duration": 0.06891,
     "end_time": "2022-06-06T22:03:40.419172",
     "exception": false,
     "start_time": "2022-06-06T22:03:40.350262",
     "status": "completed"
    },
    "tags": []
   },
   "source": [
    "This plot shows that fraud usually appears to be spread throughout all ages and driver ratings. There are some areas where younger ages may have clusters of fraudulent claims. "
   ]
  },
  {
   "cell_type": "markdown",
   "id": "fee881a1",
   "metadata": {
    "papermill": {
     "duration": 0.071687,
     "end_time": "2022-06-06T22:03:40.564241",
     "exception": false,
     "start_time": "2022-06-06T22:03:40.492554",
     "status": "completed"
    },
    "tags": []
   },
   "source": [
    "### Dimesionality Reduction\n",
    "\n",
    "We want to reduce the amount of features we use. First, we will see which attributes share a relationship with the target using mutual information."
   ]
  },
  {
   "cell_type": "code",
   "execution_count": 23,
   "id": "1d6f2afc",
   "metadata": {
    "execution": {
     "iopub.execute_input": "2022-06-06T22:03:40.716117Z",
     "iopub.status.busy": "2022-06-06T22:03:40.710835Z",
     "iopub.status.idle": "2022-06-06T22:03:40.806095Z",
     "shell.execute_reply": "2022-06-06T22:03:40.805419Z",
     "shell.execute_reply.started": "2022-06-06T19:27:39.933732Z"
    },
    "papermill": {
     "duration": 0.171573,
     "end_time": "2022-06-06T22:03:40.806251",
     "exception": false,
     "start_time": "2022-06-06T22:03:40.634678",
     "status": "completed"
    },
    "tags": []
   },
   "outputs": [],
   "source": [
    "X = ICD_filtered.copy()\n",
    "y = X.pop(\"FraudFound_P\")\n",
    "\n",
    "\n",
    "# Label encoding for categoricals\n",
    "for colname in X.select_dtypes(\"object\"):\n",
    "    X[colname], _ = X[colname].factorize()\n",
    "\n",
    "# All discrete features should now have integer dtypes\n",
    "discrete_features = X.dtypes == int"
   ]
  },
  {
   "cell_type": "code",
   "execution_count": 24,
   "id": "68cee964",
   "metadata": {
    "execution": {
     "iopub.execute_input": "2022-06-06T22:03:40.952012Z",
     "iopub.status.busy": "2022-06-06T22:03:40.951309Z",
     "iopub.status.idle": "2022-06-06T22:03:40.968249Z",
     "shell.execute_reply": "2022-06-06T22:03:40.967535Z",
     "shell.execute_reply.started": "2022-06-06T19:27:40.017035Z"
    },
    "papermill": {
     "duration": 0.093142,
     "end_time": "2022-06-06T22:03:40.968398",
     "exception": false,
     "start_time": "2022-06-06T22:03:40.875256",
     "status": "completed"
    },
    "tags": []
   },
   "outputs": [
    {
     "name": "stdout",
     "output_type": "stream",
     "text": [
      "<class 'pandas.core.frame.DataFrame'>\n",
      "Int64Index: 15100 entries, 0 to 15419\n",
      "Data columns (total 32 columns):\n",
      " #   Column                Non-Null Count  Dtype\n",
      "---  ------                --------------  -----\n",
      " 0   Month                 15100 non-null  int64\n",
      " 1   WeekOfMonth           15100 non-null  int64\n",
      " 2   DayOfWeek             15100 non-null  int64\n",
      " 3   Make                  15100 non-null  int64\n",
      " 4   AccidentArea          15100 non-null  int64\n",
      " 5   DayOfWeekClaimed      15100 non-null  int64\n",
      " 6   MonthClaimed          15100 non-null  int64\n",
      " 7   WeekOfMonthClaimed    15100 non-null  int64\n",
      " 8   Sex                   15100 non-null  int64\n",
      " 9   MaritalStatus         15100 non-null  int64\n",
      " 10  Age                   15100 non-null  int64\n",
      " 11  Fault                 15100 non-null  int64\n",
      " 12  PolicyType            15100 non-null  int64\n",
      " 13  VehicleCategory       15100 non-null  int64\n",
      " 14  VehiclePrice          15100 non-null  int64\n",
      " 15  PolicyNumber          15100 non-null  int64\n",
      " 16  RepNumber             15100 non-null  int64\n",
      " 17  Deductible            15100 non-null  int64\n",
      " 18  DriverRating          15100 non-null  int64\n",
      " 19  Days_Policy_Accident  15100 non-null  int64\n",
      " 20  Days_Policy_Claim     15100 non-null  int64\n",
      " 21  PastNumberOfClaims    15100 non-null  int64\n",
      " 22  AgeOfVehicle          15100 non-null  int64\n",
      " 23  AgeOfPolicyHolder     15100 non-null  int64\n",
      " 24  PoliceReportFiled     15100 non-null  int64\n",
      " 25  WitnessPresent        15100 non-null  int64\n",
      " 26  AgentType             15100 non-null  int64\n",
      " 27  NumberOfSuppliments   15100 non-null  int64\n",
      " 28  AddressChange_Claim   15100 non-null  int64\n",
      " 29  NumberOfCars          15100 non-null  int64\n",
      " 30  Year                  15100 non-null  int64\n",
      " 31  BasePolicy            15100 non-null  int64\n",
      "dtypes: int64(32)\n",
      "memory usage: 4.3 MB\n"
     ]
    }
   ],
   "source": [
    "X.info()"
   ]
  },
  {
   "cell_type": "code",
   "execution_count": 25,
   "id": "0534bc2f",
   "metadata": {
    "execution": {
     "iopub.execute_input": "2022-06-06T22:03:41.114491Z",
     "iopub.status.busy": "2022-06-06T22:03:41.113710Z",
     "iopub.status.idle": "2022-06-06T22:03:41.235372Z",
     "shell.execute_reply": "2022-06-06T22:03:41.234532Z",
     "shell.execute_reply.started": "2022-06-06T19:27:40.037765Z"
    },
    "papermill": {
     "duration": 0.196246,
     "end_time": "2022-06-06T22:03:41.235615",
     "exception": false,
     "start_time": "2022-06-06T22:03:41.039369",
     "status": "completed"
    },
    "tags": []
   },
   "outputs": [
    {
     "data": {
      "text/plain": [
       "PolicyType             0.017125\n",
       "BasePolicy             0.016314\n",
       "Fault                  0.011655\n",
       "VehicleCategory        0.010871\n",
       "Age                    0.003415\n",
       "AddressChange_Claim    0.002028\n",
       "VehiclePrice           0.001839\n",
       "Make                   0.001724\n",
       "Deductible             0.001662\n",
       "PastNumberOfClaims     0.001612\n",
       "MonthClaimed           0.001347\n",
       "Name: MI Scores, dtype: float64"
      ]
     },
     "execution_count": 25,
     "metadata": {},
     "output_type": "execute_result"
    }
   ],
   "source": [
    "from sklearn.feature_selection import mutual_info_classif\n",
    "\n",
    "def make_mi_scores(X, y, discrete_features):\n",
    "    mi_scores = mutual_info_classif(X, y, discrete_features=discrete_features)\n",
    "    mi_scores = pd.Series(mi_scores, name=\"MI Scores\", index=X.columns)\n",
    "    mi_scores = mi_scores.sort_values(ascending=False)\n",
    "    return mi_scores\n",
    "\n",
    "mi_scores = make_mi_scores(X, y, discrete_features)\n",
    "mi_scores[1:12]  # show a few features with their MI scores"
   ]
  },
  {
   "cell_type": "markdown",
   "id": "d1a1120c",
   "metadata": {
    "papermill": {
     "duration": 0.069148,
     "end_time": "2022-06-06T22:03:41.375026",
     "exception": false,
     "start_time": "2022-06-06T22:03:41.305878",
     "status": "completed"
    },
    "tags": []
   },
   "source": [
    "These scores are all quite low, which shows a weak relationship between these variables and the target. "
   ]
  },
  {
   "cell_type": "code",
   "execution_count": 26,
   "id": "a03f081c",
   "metadata": {
    "execution": {
     "iopub.execute_input": "2022-06-06T22:03:41.535842Z",
     "iopub.status.busy": "2022-06-06T22:03:41.522952Z",
     "iopub.status.idle": "2022-06-06T22:03:41.806250Z",
     "shell.execute_reply": "2022-06-06T22:03:41.805518Z",
     "shell.execute_reply.started": "2022-06-06T19:27:40.286302Z"
    },
    "papermill": {
     "duration": 0.361962,
     "end_time": "2022-06-06T22:03:41.806409",
     "exception": false,
     "start_time": "2022-06-06T22:03:41.444447",
     "status": "completed"
    },
    "tags": []
   },
   "outputs": [
    {
     "data": {
      "image/png": "[encoded data removed]",
      "text/plain": [
       "<Figure size 800x500 with 1 Axes>"
      ]
     },
     "metadata": {
      "needs_background": "light"
     },
     "output_type": "display_data"
    }
   ],
   "source": [
    "def plot_mi_scores(scores):\n",
    "    scores = scores.sort_values(ascending=True)\n",
    "    width = np.arange(len(scores))\n",
    "    ticks = list(scores.index)\n",
    "    plt.barh(width, scores)\n",
    "    plt.yticks(width, ticks)\n",
    "    plt.title(\"Mutual Information Scores\")\n",
    "\n",
    "\n",
    "plt.figure(dpi=100, figsize=(8, 5))\n",
    "plot_mi_scores(mi_scores[1:12])"
   ]
  },
  {
   "cell_type": "code",
   "execution_count": 27,
   "id": "38b11010",
   "metadata": {
    "execution": {
     "iopub.execute_input": "2022-06-06T22:03:41.957329Z",
     "iopub.status.busy": "2022-06-06T22:03:41.956624Z",
     "iopub.status.idle": "2022-06-06T22:03:41.961803Z",
     "shell.execute_reply": "2022-06-06T22:03:41.961242Z",
     "shell.execute_reply.started": "2022-06-06T19:27:40.545028Z"
    },
    "papermill": {
     "duration": 0.083048,
     "end_time": "2022-06-06T22:03:41.961972",
     "exception": false,
     "start_time": "2022-06-06T22:03:41.878924",
     "status": "completed"
    },
    "tags": []
   },
   "outputs": [
    {
     "data": {
      "text/plain": [
       "array(['Sport - Liability', 'Sport - Collision', 'Sedan - Liability',\n",
       "       'Utility - All Perils', 'Sedan - All Perils', 'Sedan - Collision',\n",
       "       'Utility - Collision', 'Utility - Liability', 'Sport - All Perils'],\n",
       "      dtype=object)"
      ]
     },
     "execution_count": 27,
     "metadata": {},
     "output_type": "execute_result"
    }
   ],
   "source": [
    "ICD['PolicyType'].unique()"
   ]
  },
  {
   "cell_type": "code",
   "execution_count": 28,
   "id": "94c2be15",
   "metadata": {
    "execution": {
     "iopub.execute_input": "2022-06-06T22:03:42.114839Z",
     "iopub.status.busy": "2022-06-06T22:03:42.110530Z",
     "iopub.status.idle": "2022-06-06T22:03:42.117762Z",
     "shell.execute_reply": "2022-06-06T22:03:42.118364Z",
     "shell.execute_reply.started": "2022-06-06T19:27:40.553210Z"
    },
    "papermill": {
     "duration": 0.083257,
     "end_time": "2022-06-06T22:03:42.118544",
     "exception": false,
     "start_time": "2022-06-06T22:03:42.035287",
     "status": "completed"
    },
    "tags": []
   },
   "outputs": [
    {
     "data": {
      "text/plain": [
       "array(['Liability', 'Collision', 'All Perils'], dtype=object)"
      ]
     },
     "execution_count": 28,
     "metadata": {},
     "output_type": "execute_result"
    }
   ],
   "source": [
    "ICD['BasePolicy'].unique()"
   ]
  },
  {
   "cell_type": "code",
   "execution_count": 29,
   "id": "9188b220",
   "metadata": {
    "execution": {
     "iopub.execute_input": "2022-06-06T22:03:42.269315Z",
     "iopub.status.busy": "2022-06-06T22:03:42.268543Z",
     "iopub.status.idle": "2022-06-06T22:03:42.274445Z",
     "shell.execute_reply": "2022-06-06T22:03:42.275006Z",
     "shell.execute_reply.started": "2022-06-06T19:27:40.569785Z"
    },
    "papermill": {
     "duration": 0.084967,
     "end_time": "2022-06-06T22:03:42.275212",
     "exception": false,
     "start_time": "2022-06-06T22:03:42.190245",
     "status": "completed"
    },
    "tags": []
   },
   "outputs": [],
   "source": [
    "x_features = list(mi_scores[1:12].index)\n",
    "x_fac = X[x_features]"
   ]
  },
  {
   "cell_type": "markdown",
   "id": "1978bc61",
   "metadata": {
    "papermill": {
     "duration": 0.071277,
     "end_time": "2022-06-06T22:03:42.420302",
     "exception": false,
     "start_time": "2022-06-06T22:03:42.349025",
     "status": "completed"
    },
    "tags": []
   },
   "source": [
    "Next, we will use a correlation matrix to see correlations between the independent variables "
   ]
  },
  {
   "cell_type": "code",
   "execution_count": 30,
   "id": "54ffd721",
   "metadata": {
    "execution": {
     "iopub.execute_input": "2022-06-06T22:03:42.573438Z",
     "iopub.status.busy": "2022-06-06T22:03:42.572239Z",
     "iopub.status.idle": "2022-06-06T22:03:43.566978Z",
     "shell.execute_reply": "2022-06-06T22:03:43.567471Z",
     "shell.execute_reply.started": "2022-06-06T19:27:40.576725Z"
    },
    "papermill": {
     "duration": 1.074926,
     "end_time": "2022-06-06T22:03:43.567653",
     "exception": false,
     "start_time": "2022-06-06T22:03:42.492727",
     "status": "completed"
    },
    "tags": []
   },
   "outputs": [
    {
     "data": {
      "text/plain": [
       "<AxesSubplot:>"
      ]
     },
     "execution_count": 30,
     "metadata": {},
     "output_type": "execute_result"
    },
    {
     "data": {
      "image/png": "[encoded data removed]",
      "text/plain": [
       "<Figure size 864x504 with 2 Axes>"
      ]
     },
     "metadata": {
      "needs_background": "light"
     },
     "output_type": "display_data"
    }
   ],
   "source": [
    "plt.figure(figsize=(12,7))\n",
    "sns.heatmap(x_fac.corr(), annot=True)"
   ]
  },
  {
   "cell_type": "markdown",
   "id": "a9cee4ed",
   "metadata": {
    "papermill": {
     "duration": 0.0745,
     "end_time": "2022-06-06T22:03:43.719575",
     "exception": false,
     "start_time": "2022-06-06T22:03:43.645075",
     "status": "completed"
    },
    "tags": []
   },
   "source": [
    "## Data Preprocessing Pipeline\n",
    "\n",
    "Some different steps will be taken to ensure that the data we are using is suitable for the models that will be used. This includes imputation for missing values and other steps. \n",
    "\n",
    "Before we do any of these steps, we want to ensure that we split the data into train and test sections to gauge how well our model can generalize on unseen data."
   ]
  },
  {
   "cell_type": "code",
   "execution_count": 31,
   "id": "43431677",
   "metadata": {
    "execution": {
     "iopub.execute_input": "2022-06-06T22:03:43.882771Z",
     "iopub.status.busy": "2022-06-06T22:03:43.882042Z",
     "iopub.status.idle": "2022-06-06T22:03:43.885312Z",
     "shell.execute_reply": "2022-06-06T22:03:43.885972Z",
     "shell.execute_reply.started": "2022-06-06T20:06:29.396859Z"
    },
    "papermill": {
     "duration": 0.09119,
     "end_time": "2022-06-06T22:03:43.886155",
     "exception": false,
     "start_time": "2022-06-06T22:03:43.794965",
     "status": "completed"
    },
    "tags": []
   },
   "outputs": [],
   "source": [
    "df_temp = ICD.copy()\n",
    "\n",
    "#We have to deal with the 0 values in the Age column\n",
    "df_temp[\"Age\"] = df_temp[\"Age\"].replace(0,ICD[\"Age\"].median())\n",
    "\n",
    "\n",
    "# X_train, X_test, y_train, y_test = train_test_split(X, y, test_size=0.33, random_state=42)\n",
    "\n",
    "\n"
   ]
  },
  {
   "cell_type": "code",
   "execution_count": 32,
   "id": "09f50db8",
   "metadata": {
    "execution": {
     "iopub.execute_input": "2022-06-06T22:03:44.047286Z",
     "iopub.status.busy": "2022-06-06T22:03:44.046548Z",
     "iopub.status.idle": "2022-06-06T22:03:44.142031Z",
     "shell.execute_reply": "2022-06-06T22:03:44.141449Z",
     "shell.execute_reply.started": "2022-06-06T20:11:11.639626Z"
    },
    "papermill": {
     "duration": 0.181179,
     "end_time": "2022-06-06T22:03:44.142186",
     "exception": false,
     "start_time": "2022-06-06T22:03:43.961007",
     "status": "completed"
    },
    "tags": []
   },
   "outputs": [],
   "source": [
    "#turn all object columns into categorical columns\n",
    "for labels, content in df_temp.items():\n",
    "    if pd.api.types.is_string_dtype(content):\n",
    "        df_temp[labels] = content.astype(\"category\").cat.as_ordered()\n",
    "        \n",
    "#now turn from categorical to numeric\n",
    "for labels, content in df_temp.items():\n",
    "    if not pd.api.types.is_numeric_dtype(content):\n",
    "        df_temp[labels] = pd.Categorical(content).codes"
   ]
  },
  {
   "cell_type": "code",
   "execution_count": 33,
   "id": "082c7cb9",
   "metadata": {
    "execution": {
     "iopub.execute_input": "2022-06-06T22:03:44.299340Z",
     "iopub.status.busy": "2022-06-06T22:03:44.298637Z",
     "iopub.status.idle": "2022-06-06T22:03:44.315101Z",
     "shell.execute_reply": "2022-06-06T22:03:44.315668Z",
     "shell.execute_reply.started": "2022-06-06T20:11:35.649259Z"
    },
    "papermill": {
     "duration": 0.098274,
     "end_time": "2022-06-06T22:03:44.315846",
     "exception": false,
     "start_time": "2022-06-06T22:03:44.217572",
     "status": "completed"
    },
    "tags": []
   },
   "outputs": [
    {
     "data": {
      "text/html": [
       "<div>\n",
       "<style scoped>\n",
       "    .dataframe tbody tr th:only-of-type {\n",
       "        vertical-align: middle;\n",
       "    }\n",
       "\n",
       "    .dataframe tbody tr th {\n",
       "        vertical-align: top;\n",
       "    }\n",
       "\n",
       "    .dataframe thead th {\n",
       "        text-align: right;\n",
       "    }\n",
       "</style>\n",
       "<table border=\"1\" class=\"dataframe\">\n",
       "  <thead>\n",
       "    <tr style=\"text-align: right;\">\n",
       "      <th></th>\n",
       "      <th>Month</th>\n",
       "      <th>WeekOfMonth</th>\n",
       "      <th>DayOfWeek</th>\n",
       "      <th>Make</th>\n",
       "      <th>AccidentArea</th>\n",
       "      <th>DayOfWeekClaimed</th>\n",
       "      <th>MonthClaimed</th>\n",
       "      <th>WeekOfMonthClaimed</th>\n",
       "      <th>Sex</th>\n",
       "      <th>MaritalStatus</th>\n",
       "      <th>...</th>\n",
       "      <th>AgeOfVehicle</th>\n",
       "      <th>AgeOfPolicyHolder</th>\n",
       "      <th>PoliceReportFiled</th>\n",
       "      <th>WitnessPresent</th>\n",
       "      <th>AgentType</th>\n",
       "      <th>NumberOfSuppliments</th>\n",
       "      <th>AddressChange_Claim</th>\n",
       "      <th>NumberOfCars</th>\n",
       "      <th>Year</th>\n",
       "      <th>BasePolicy</th>\n",
       "    </tr>\n",
       "  </thead>\n",
       "  <tbody>\n",
       "    <tr>\n",
       "      <th>0</th>\n",
       "      <td>2</td>\n",
       "      <td>5</td>\n",
       "      <td>6</td>\n",
       "      <td>6</td>\n",
       "      <td>1</td>\n",
       "      <td>6</td>\n",
       "      <td>5</td>\n",
       "      <td>1</td>\n",
       "      <td>0</td>\n",
       "      <td>2</td>\n",
       "      <td>...</td>\n",
       "      <td>1</td>\n",
       "      <td>3</td>\n",
       "      <td>0</td>\n",
       "      <td>0</td>\n",
       "      <td>0</td>\n",
       "      <td>3</td>\n",
       "      <td>0</td>\n",
       "      <td>2</td>\n",
       "      <td>1994</td>\n",
       "      <td>2</td>\n",
       "    </tr>\n",
       "    <tr>\n",
       "      <th>1</th>\n",
       "      <td>4</td>\n",
       "      <td>3</td>\n",
       "      <td>6</td>\n",
       "      <td>6</td>\n",
       "      <td>1</td>\n",
       "      <td>2</td>\n",
       "      <td>5</td>\n",
       "      <td>4</td>\n",
       "      <td>1</td>\n",
       "      <td>2</td>\n",
       "      <td>...</td>\n",
       "      <td>4</td>\n",
       "      <td>4</td>\n",
       "      <td>1</td>\n",
       "      <td>0</td>\n",
       "      <td>0</td>\n",
       "      <td>3</td>\n",
       "      <td>3</td>\n",
       "      <td>0</td>\n",
       "      <td>1994</td>\n",
       "      <td>1</td>\n",
       "    </tr>\n",
       "    <tr>\n",
       "      <th>2</th>\n",
       "      <td>10</td>\n",
       "      <td>5</td>\n",
       "      <td>0</td>\n",
       "      <td>6</td>\n",
       "      <td>1</td>\n",
       "      <td>5</td>\n",
       "      <td>10</td>\n",
       "      <td>2</td>\n",
       "      <td>1</td>\n",
       "      <td>1</td>\n",
       "      <td>...</td>\n",
       "      <td>5</td>\n",
       "      <td>6</td>\n",
       "      <td>0</td>\n",
       "      <td>0</td>\n",
       "      <td>0</td>\n",
       "      <td>3</td>\n",
       "      <td>3</td>\n",
       "      <td>0</td>\n",
       "      <td>1994</td>\n",
       "      <td>1</td>\n",
       "    </tr>\n",
       "    <tr>\n",
       "      <th>3</th>\n",
       "      <td>6</td>\n",
       "      <td>2</td>\n",
       "      <td>2</td>\n",
       "      <td>17</td>\n",
       "      <td>0</td>\n",
       "      <td>1</td>\n",
       "      <td>6</td>\n",
       "      <td>1</td>\n",
       "      <td>1</td>\n",
       "      <td>1</td>\n",
       "      <td>...</td>\n",
       "      <td>6</td>\n",
       "      <td>7</td>\n",
       "      <td>1</td>\n",
       "      <td>0</td>\n",
       "      <td>0</td>\n",
       "      <td>2</td>\n",
       "      <td>3</td>\n",
       "      <td>0</td>\n",
       "      <td>1994</td>\n",
       "      <td>2</td>\n",
       "    </tr>\n",
       "    <tr>\n",
       "      <th>4</th>\n",
       "      <td>4</td>\n",
       "      <td>5</td>\n",
       "      <td>1</td>\n",
       "      <td>6</td>\n",
       "      <td>1</td>\n",
       "      <td>6</td>\n",
       "      <td>4</td>\n",
       "      <td>2</td>\n",
       "      <td>0</td>\n",
       "      <td>2</td>\n",
       "      <td>...</td>\n",
       "      <td>3</td>\n",
       "      <td>4</td>\n",
       "      <td>0</td>\n",
       "      <td>0</td>\n",
       "      <td>0</td>\n",
       "      <td>3</td>\n",
       "      <td>3</td>\n",
       "      <td>0</td>\n",
       "      <td>1994</td>\n",
       "      <td>1</td>\n",
       "    </tr>\n",
       "  </tbody>\n",
       "</table>\n",
       "<p>5 rows × 33 columns</p>\n",
       "</div>"
      ],
      "text/plain": [
       "   Month  WeekOfMonth  DayOfWeek  Make  AccidentArea  DayOfWeekClaimed  \\\n",
       "0      2            5          6     6             1                 6   \n",
       "1      4            3          6     6             1                 2   \n",
       "2     10            5          0     6             1                 5   \n",
       "3      6            2          2    17             0                 1   \n",
       "4      4            5          1     6             1                 6   \n",
       "\n",
       "   MonthClaimed  WeekOfMonthClaimed  Sex  MaritalStatus  ...  AgeOfVehicle  \\\n",
       "0             5                   1    0              2  ...             1   \n",
       "1             5                   4    1              2  ...             4   \n",
       "2            10                   2    1              1  ...             5   \n",
       "3             6                   1    1              1  ...             6   \n",
       "4             4                   2    0              2  ...             3   \n",
       "\n",
       "   AgeOfPolicyHolder  PoliceReportFiled  WitnessPresent  AgentType  \\\n",
       "0                  3                  0               0          0   \n",
       "1                  4                  1               0          0   \n",
       "2                  6                  0               0          0   \n",
       "3                  7                  1               0          0   \n",
       "4                  4                  0               0          0   \n",
       "\n",
       "   NumberOfSuppliments  AddressChange_Claim  NumberOfCars  Year  BasePolicy  \n",
       "0                    3                    0             2  1994           2  \n",
       "1                    3                    3             0  1994           1  \n",
       "2                    3                    3             0  1994           1  \n",
       "3                    2                    3             0  1994           2  \n",
       "4                    3                    3             0  1994           1  \n",
       "\n",
       "[5 rows x 33 columns]"
      ]
     },
     "execution_count": 33,
     "metadata": {},
     "output_type": "execute_result"
    }
   ],
   "source": [
    "df_temp.head()"
   ]
  },
  {
   "cell_type": "markdown",
   "id": "71f00b70",
   "metadata": {
    "papermill": {
     "duration": 0.076155,
     "end_time": "2022-06-06T22:03:44.466999",
     "exception": false,
     "start_time": "2022-06-06T22:03:44.390844",
     "status": "completed"
    },
    "tags": []
   },
   "source": [
    "This dataset is ready for the algorithms that we will use. "
   ]
  },
  {
   "cell_type": "code",
   "execution_count": 34,
   "id": "3b5ebedf",
   "metadata": {
    "execution": {
     "iopub.execute_input": "2022-06-06T22:03:44.623381Z",
     "iopub.status.busy": "2022-06-06T22:03:44.622730Z",
     "iopub.status.idle": "2022-06-06T22:03:44.636246Z",
     "shell.execute_reply": "2022-06-06T22:03:44.635666Z",
     "shell.execute_reply.started": "2022-06-06T20:17:29.603473Z"
    },
    "papermill": {
     "duration": 0.092663,
     "end_time": "2022-06-06T22:03:44.636407",
     "exception": false,
     "start_time": "2022-06-06T22:03:44.543744",
     "status": "completed"
    },
    "tags": []
   },
   "outputs": [],
   "source": [
    "from sklearn.model_selection import train_test_split\n",
    "\n",
    "y = df_temp.FraudFound_P\n",
    "X = df_temp.drop(['FraudFound_P'], axis=1)\n",
    "\n",
    "X_train, X_test, y_train, y_test = train_test_split(X, y, test_size=0.33, random_state=42)"
   ]
  },
  {
   "cell_type": "markdown",
   "id": "e9362747",
   "metadata": {
    "papermill": {
     "duration": 0.074961,
     "end_time": "2022-06-06T22:03:44.788049",
     "exception": false,
     "start_time": "2022-06-06T22:03:44.713088",
     "status": "completed"
    },
    "tags": []
   },
   "source": [
    "We will now check the distribution of the train and test groups for the target (0 or 1)."
   ]
  },
  {
   "cell_type": "code",
   "execution_count": 35,
   "id": "f1e1b871",
   "metadata": {
    "execution": {
     "iopub.execute_input": "2022-06-06T22:03:44.952081Z",
     "iopub.status.busy": "2022-06-06T22:03:44.944722Z",
     "iopub.status.idle": "2022-06-06T22:03:44.955684Z",
     "shell.execute_reply": "2022-06-06T22:03:44.956532Z",
     "shell.execute_reply.started": "2022-06-06T20:17:30.461175Z"
    },
    "papermill": {
     "duration": 0.091938,
     "end_time": "2022-06-06T22:03:44.956755",
     "exception": false,
     "start_time": "2022-06-06T22:03:44.864817",
     "status": "completed"
    },
    "tags": []
   },
   "outputs": [
    {
     "name": "stdout",
     "output_type": "stream",
     "text": [
      "Training target statistics: Counter({0: 9715, 1: 616})\n",
      "Testing target statistics: Counter({0: 4782, 1: 307})\n"
     ]
    },
    {
     "data": {
      "text/plain": [
       "((10331, 32), (5089, 32), (10331,), (5089,))"
      ]
     },
     "execution_count": 35,
     "metadata": {},
     "output_type": "execute_result"
    }
   ],
   "source": [
    "from collections import Counter\n",
    "\n",
    "print(f\"Training target statistics: {Counter(y_train)}\")\n",
    "\n",
    "print(f\"Testing target statistics: {Counter(y_test)}\")\n",
    "\n",
    "X_train.shape, X_test.shape, y_train.shape, y_test.shape"
   ]
  },
  {
   "cell_type": "markdown",
   "id": "2471af70",
   "metadata": {
    "papermill": {
     "duration": 0.076764,
     "end_time": "2022-06-06T22:03:45.111171",
     "exception": false,
     "start_time": "2022-06-06T22:03:45.034407",
     "status": "completed"
    },
    "tags": []
   },
   "source": [
    "The data appears to be very unbalanced, so we will balance the weight of the classes."
   ]
  },
  {
   "cell_type": "code",
   "execution_count": 36,
   "id": "3cf26941",
   "metadata": {
    "execution": {
     "iopub.execute_input": "2022-06-06T22:03:45.267058Z",
     "iopub.status.busy": "2022-06-06T22:03:45.266366Z",
     "iopub.status.idle": "2022-06-06T22:03:45.276462Z",
     "shell.execute_reply": "2022-06-06T22:03:45.275779Z",
     "shell.execute_reply.started": "2022-06-06T20:17:31.950284Z"
    },
    "papermill": {
     "duration": 0.089334,
     "end_time": "2022-06-06T22:03:45.276615",
     "exception": false,
     "start_time": "2022-06-06T22:03:45.187281",
     "status": "completed"
    },
    "tags": []
   },
   "outputs": [
    {
     "name": "stdout",
     "output_type": "stream",
     "text": [
      "{0: 0.5317035512094699, 1: 8.385551948051948}\n"
     ]
    }
   ],
   "source": [
    "from sklearn.utils import class_weight\n",
    "class_weights = dict(zip(np.unique(y_train), class_weight.compute_class_weight(class_weight='balanced', classes= np.unique(y_train), y = y_train)))\n",
    "print(class_weights)"
   ]
  },
  {
   "cell_type": "code",
   "execution_count": 37,
   "id": "f7fe8cef",
   "metadata": {
    "execution": {
     "iopub.execute_input": "2022-06-06T22:03:45.438246Z",
     "iopub.status.busy": "2022-06-06T22:03:45.437367Z",
     "iopub.status.idle": "2022-06-06T22:03:45.440421Z",
     "shell.execute_reply": "2022-06-06T22:03:45.439882Z",
     "shell.execute_reply.started": "2022-06-06T20:17:32.674429Z"
    },
    "papermill": {
     "duration": 0.086787,
     "end_time": "2022-06-06T22:03:45.440629",
     "exception": false,
     "start_time": "2022-06-06T22:03:45.353842",
     "status": "completed"
    },
    "tags": []
   },
   "outputs": [],
   "source": [
    "models = {\"Logistic Regression\": LogisticRegression(class_weight=class_weights,solver = 'liblinear'),\n",
    "          \"KNN\": KNeighborsClassifier(),\n",
    "          \"Random Forest Classifier\": RandomForestClassifier(class_weight=class_weights)}"
   ]
  },
  {
   "cell_type": "code",
   "execution_count": 38,
   "id": "b101151f",
   "metadata": {
    "execution": {
     "iopub.execute_input": "2022-06-06T22:03:45.601471Z",
     "iopub.status.busy": "2022-06-06T22:03:45.600766Z",
     "iopub.status.idle": "2022-06-06T22:03:45.603350Z",
     "shell.execute_reply": "2022-06-06T22:03:45.603815Z",
     "shell.execute_reply.started": "2022-06-06T20:17:34.365959Z"
    },
    "papermill": {
     "duration": 0.086027,
     "end_time": "2022-06-06T22:03:45.604034",
     "exception": false,
     "start_time": "2022-06-06T22:03:45.518007",
     "status": "completed"
    },
    "tags": []
   },
   "outputs": [],
   "source": [
    "def score_models(models, X_train, X_test, y_train, y_test):\n",
    "    np.random.seed(1)\n",
    "    \n",
    "    model_score = {}\n",
    "    for name, model in models.items():\n",
    "        model.fit(X_train, y_train)\n",
    "        model_score[name] = model.score(X_test, y_test)\n",
    "    return model_score"
   ]
  },
  {
   "cell_type": "code",
   "execution_count": 39,
   "id": "e2c68c59",
   "metadata": {
    "execution": {
     "iopub.execute_input": "2022-06-06T22:03:45.763677Z",
     "iopub.status.busy": "2022-06-06T22:03:45.762996Z",
     "iopub.status.idle": "2022-06-06T22:03:47.673470Z",
     "shell.execute_reply": "2022-06-06T22:03:47.674040Z",
     "shell.execute_reply.started": "2022-06-06T20:17:35.485326Z"
    },
    "papermill": {
     "duration": 1.993489,
     "end_time": "2022-06-06T22:03:47.674237",
     "exception": false,
     "start_time": "2022-06-06T22:03:45.680748",
     "status": "completed"
    },
    "tags": []
   },
   "outputs": [
    {
     "data": {
      "text/plain": [
       "{'Logistic Regression': 0.6217331499312242,\n",
       " 'KNN': 0.9355472587934761,\n",
       " 'Random Forest Classifier': 0.9396738062487718}"
      ]
     },
     "execution_count": 39,
     "metadata": {},
     "output_type": "execute_result"
    }
   ],
   "source": [
    "model_score = score_models(models, X_train, X_test, y_train, y_test)\n",
    "model_score"
   ]
  },
  {
   "cell_type": "markdown",
   "id": "79c924e2",
   "metadata": {
    "papermill": {
     "duration": 0.077353,
     "end_time": "2022-06-06T22:03:47.828651",
     "exception": false,
     "start_time": "2022-06-06T22:03:47.751298",
     "status": "completed"
    },
    "tags": []
   },
   "source": [
    "These models performed at or worse than the level of making all negative predictions. Maybe we can tune one of the models to get better predictions."
   ]
  },
  {
   "cell_type": "code",
   "execution_count": 40,
   "id": "c29ed16e",
   "metadata": {
    "execution": {
     "iopub.execute_input": "2022-06-06T22:03:47.991784Z",
     "iopub.status.busy": "2022-06-06T22:03:47.991063Z",
     "iopub.status.idle": "2022-06-06T22:04:00.133462Z",
     "shell.execute_reply": "2022-06-06T22:04:00.132671Z",
     "shell.execute_reply.started": "2022-06-06T20:23:34.000799Z"
    },
    "papermill": {
     "duration": 12.228201,
     "end_time": "2022-06-06T22:04:00.133637",
     "exception": false,
     "start_time": "2022-06-06T22:03:47.905436",
     "status": "completed"
    },
    "tags": []
   },
   "outputs": [],
   "source": [
    "#in this cell we will tune the n_neighbors parameter in the knn model\n",
    "train_score = []\n",
    "test_score = []\n",
    "\n",
    "neighbors = range(1,15)\n",
    "knn = KNeighborsClassifier()\n",
    "\n",
    "for i in neighbors:\n",
    "    knn.set_params(n_neighbors = i)\n",
    "    knn.fit(X_train, y_train)\n",
    "    \n",
    "    # Update the training score list\n",
    "    train_score.append(knn.score(X_train, y_train))\n",
    "    \n",
    "    # Update the test score list\n",
    "    test_score.append(knn.score(X_test, y_test))"
   ]
  },
  {
   "cell_type": "code",
   "execution_count": 41,
   "id": "d443034f",
   "metadata": {
    "execution": {
     "iopub.execute_input": "2022-06-06T22:04:00.321689Z",
     "iopub.status.busy": "2022-06-06T22:04:00.320632Z",
     "iopub.status.idle": "2022-06-06T22:04:00.512229Z",
     "shell.execute_reply": "2022-06-06T22:04:00.512819Z",
     "shell.execute_reply.started": "2022-06-06T20:25:12.647642Z"
    },
    "papermill": {
     "duration": 0.297181,
     "end_time": "2022-06-06T22:04:00.513053",
     "exception": false,
     "start_time": "2022-06-06T22:04:00.215872",
     "status": "completed"
    },
    "tags": []
   },
   "outputs": [
    {
     "name": "stdout",
     "output_type": "stream",
     "text": [
      "Maximum KNN score on Test data: 93.97\n"
     ]
    },
    {
     "data": {
      "image/png": "[encoded data removed]",
      "text/plain": [
       "<Figure size 432x288 with 1 Axes>"
      ]
     },
     "metadata": {
      "needs_background": "light"
     },
     "output_type": "display_data"
    }
   ],
   "source": [
    "# Let's Plot And Viusalize The KNN Tunned Model\n",
    "plt.plot(neighbors, train_score, label= \"Train score\")\n",
    "plt.plot(neighbors, test_score, label= \"Test score\")\n",
    "plt.xlabel(\"Neighbors\")\n",
    "plt.ylabel(\"Model Accuracy\")\n",
    "plt.legend()\n",
    "\n",
    "print(\"Maximum KNN score on Test data: {:.2f}\".format(max(test_score)*100))"
   ]
  },
  {
   "cell_type": "markdown",
   "id": "e587cfcb",
   "metadata": {
    "papermill": {
     "duration": 0.077911,
     "end_time": "2022-06-06T22:04:00.670861",
     "exception": false,
     "start_time": "2022-06-06T22:04:00.592950",
     "status": "completed"
    },
    "tags": []
   },
   "source": [
    "This is not an improvement on the best model, which is the RFC, so we will focus on tuning the parameters for that model instead."
   ]
  },
  {
   "cell_type": "code",
   "execution_count": 42,
   "id": "bc8af975",
   "metadata": {
    "execution": {
     "iopub.execute_input": "2022-06-06T22:04:00.831422Z",
     "iopub.status.busy": "2022-06-06T22:04:00.830370Z",
     "iopub.status.idle": "2022-06-06T22:07:18.095048Z",
     "shell.execute_reply": "2022-06-06T22:07:18.095640Z",
     "shell.execute_reply.started": "2022-06-06T20:42:15.493310Z"
    },
    "papermill": {
     "duration": 197.346995,
     "end_time": "2022-06-06T22:07:18.095826",
     "exception": false,
     "start_time": "2022-06-06T22:04:00.748831",
     "status": "completed"
    },
    "tags": []
   },
   "outputs": [
    {
     "name": "stdout",
     "output_type": "stream",
     "text": [
      "Fitting 5 folds for each of 10 candidates, totalling 50 fits\n"
     ]
    },
    {
     "name": "stderr",
     "output_type": "stream",
     "text": [
      "[Parallel(n_jobs=1)]: Using backend SequentialBackend with 1 concurrent workers.\n",
      "[Parallel(n_jobs=1)]: Done  50 out of  50 | elapsed:  3.3min finished\n"
     ]
    },
    {
     "data": {
      "text/plain": [
       "RandomizedSearchCV(cv=5,\n",
       "                   estimator=RandomForestClassifier(class_weight={0: 0.5317035512094699,\n",
       "                                                                  1: 8.385551948051948}),\n",
       "                   param_distributions={'max_depth': [None, 3, 5, 10],\n",
       "                                        'min_samples_leaf': array([ 1,  3,  5,  7,  9, 11, 13, 15, 17, 19]),\n",
       "                                        'min_samples_split': array([ 2,  4,  6,  8, 10, 12, 14, 16, 18]),\n",
       "                                        'n_estimators': array([ 10,  60, 110, 160, 210, 260, 310, 360, 410, 460, 510, 560, 610,\n",
       "       660, 710, 760, 810, 860, 910, 960])},\n",
       "                   verbose=True)"
      ]
     },
     "execution_count": 42,
     "metadata": {},
     "output_type": "execute_result"
    }
   ],
   "source": [
    "#hyperparameterGrid for RandomForestClassifier\n",
    "rf_random_grid = {\"n_estimators\": np.arange(10,1000,50),\n",
    "                  \"max_depth\": [None, 3, 5, 10],\n",
    "                  \"min_samples_split\": np.arange(2, 20, 2),\n",
    "                  \"min_samples_leaf\": np.arange(1, 20, 2)} \n",
    "\n",
    "# Setup random hyperparameter search for RandomForestClassifer\n",
    "rf_rs = RandomizedSearchCV(RandomForestClassifier(class_weight=class_weights),\n",
    "                           param_distributions=rf_random_grid,\n",
    "                           cv=5,\n",
    "                           verbose=True,\n",
    "                           n_iter=10)\n",
    "\n",
    "# Fitting random hyperparamter search\n",
    "rf_rs.fit(X_train, y_train)"
   ]
  },
  {
   "cell_type": "code",
   "execution_count": 43,
   "id": "86fa3430",
   "metadata": {
    "execution": {
     "iopub.execute_input": "2022-06-06T22:07:18.264305Z",
     "iopub.status.busy": "2022-06-06T22:07:18.263296Z",
     "iopub.status.idle": "2022-06-06T22:07:18.267254Z",
     "shell.execute_reply": "2022-06-06T22:07:18.266627Z",
     "shell.execute_reply.started": "2022-06-06T20:46:36.456512Z"
    },
    "papermill": {
     "duration": 0.090083,
     "end_time": "2022-06-06T22:07:18.267395",
     "exception": false,
     "start_time": "2022-06-06T22:07:18.177312",
     "status": "completed"
    },
    "tags": []
   },
   "outputs": [
    {
     "data": {
      "text/plain": [
       "{'n_estimators': 160,\n",
       " 'min_samples_split': 8,\n",
       " 'min_samples_leaf': 3,\n",
       " 'max_depth': None}"
      ]
     },
     "execution_count": 43,
     "metadata": {},
     "output_type": "execute_result"
    }
   ],
   "source": [
    "#this will return the best parameters for the rfc\n",
    "rf_rs.best_params_"
   ]
  },
  {
   "cell_type": "code",
   "execution_count": 44,
   "id": "fa072fd4",
   "metadata": {
    "execution": {
     "iopub.execute_input": "2022-06-06T22:07:18.439315Z",
     "iopub.status.busy": "2022-06-06T22:07:18.438613Z",
     "iopub.status.idle": "2022-06-06T22:07:18.577088Z",
     "shell.execute_reply": "2022-06-06T22:07:18.576479Z",
     "shell.execute_reply.started": "2022-06-06T20:47:05.228545Z"
    },
    "papermill": {
     "duration": 0.227779,
     "end_time": "2022-06-06T22:07:18.577254",
     "exception": false,
     "start_time": "2022-06-06T22:07:18.349475",
     "status": "completed"
    },
    "tags": []
   },
   "outputs": [
    {
     "data": {
      "text/plain": [
       "0.9390842994694439"
      ]
     },
     "execution_count": 44,
     "metadata": {},
     "output_type": "execute_result"
    }
   ],
   "source": [
    "rf_rs.score(X_test, y_test)"
   ]
  },
  {
   "cell_type": "markdown",
   "id": "0cfeebfa",
   "metadata": {
    "papermill": {
     "duration": 0.084459,
     "end_time": "2022-06-06T22:07:18.745691",
     "exception": false,
     "start_time": "2022-06-06T22:07:18.661232",
     "status": "completed"
    },
    "tags": []
   },
   "source": [
    "This does not improve the model much above the default parameters. "
   ]
  },
  {
   "cell_type": "markdown",
   "id": "cfd1c4ae",
   "metadata": {
    "papermill": {
     "duration": 0.082506,
     "end_time": "2022-06-06T22:07:18.909063",
     "exception": false,
     "start_time": "2022-06-06T22:07:18.826557",
     "status": "completed"
    },
    "tags": []
   },
   "source": [
    "## Evaluating the tuned Random Forest Model"
   ]
  },
  {
   "cell_type": "code",
   "execution_count": 45,
   "id": "0c41b8a4",
   "metadata": {
    "execution": {
     "iopub.execute_input": "2022-06-06T22:07:19.080009Z",
     "iopub.status.busy": "2022-06-06T22:07:19.079157Z",
     "iopub.status.idle": "2022-06-06T22:07:19.380528Z",
     "shell.execute_reply": "2022-06-06T22:07:19.379840Z",
     "shell.execute_reply.started": "2022-06-06T20:52:49.371847Z"
    },
    "papermill": {
     "duration": 0.389271,
     "end_time": "2022-06-06T22:07:19.380675",
     "exception": false,
     "start_time": "2022-06-06T22:07:18.991404",
     "status": "completed"
    },
    "tags": []
   },
   "outputs": [
    {
     "data": {
      "text/plain": [
       "<sklearn.metrics._plot.roc_curve.RocCurveDisplay at 0x7f53da467c10>"
      ]
     },
     "execution_count": 45,
     "metadata": {},
     "output_type": "execute_result"
    },
    {
     "data": {
      "image/png": "[encoded data removed]",
      "text/plain": [
       "<Figure size 432x288 with 1 Axes>"
      ]
     },
     "metadata": {
      "needs_background": "light"
     },
     "output_type": "display_data"
    }
   ],
   "source": [
    "# Let's plot ROC Curve and calculate the AUC metric\n",
    "plot_roc_curve(rf_rs, X_test,y_test)"
   ]
  },
  {
   "cell_type": "code",
   "execution_count": 46,
   "id": "3d28496e",
   "metadata": {
    "execution": {
     "iopub.execute_input": "2022-06-06T22:07:19.555341Z",
     "iopub.status.busy": "2022-06-06T22:07:19.554256Z",
     "iopub.status.idle": "2022-06-06T22:07:19.683528Z",
     "shell.execute_reply": "2022-06-06T22:07:19.684083Z",
     "shell.execute_reply.started": "2022-06-06T20:56:07.883678Z"
    },
    "papermill": {
     "duration": 0.221293,
     "end_time": "2022-06-06T22:07:19.684271",
     "exception": false,
     "start_time": "2022-06-06T22:07:19.462978",
     "status": "completed"
    },
    "tags": []
   },
   "outputs": [],
   "source": [
    "y_preds = rf_rs.predict(X_test)"
   ]
  },
  {
   "cell_type": "code",
   "execution_count": 47,
   "id": "2b8ab4a3",
   "metadata": {
    "execution": {
     "iopub.execute_input": "2022-06-06T22:07:19.851706Z",
     "iopub.status.busy": "2022-06-06T22:07:19.850642Z",
     "iopub.status.idle": "2022-06-06T22:07:19.863408Z",
     "shell.execute_reply": "2022-06-06T22:07:19.864088Z",
     "shell.execute_reply.started": "2022-06-06T20:56:10.147412Z"
    },
    "papermill": {
     "duration": 0.099721,
     "end_time": "2022-06-06T22:07:19.864272",
     "exception": false,
     "start_time": "2022-06-06T22:07:19.764551",
     "status": "completed"
    },
    "tags": []
   },
   "outputs": [
    {
     "name": "stdout",
     "output_type": "stream",
     "text": [
      "[[4764   18]\n",
      " [ 292   15]]\n"
     ]
    }
   ],
   "source": [
    "print(confusion_matrix(y_test,y_preds))"
   ]
  },
  {
   "cell_type": "code",
   "execution_count": 48,
   "id": "93c2f8e1",
   "metadata": {
    "execution": {
     "iopub.execute_input": "2022-06-06T22:07:20.034794Z",
     "iopub.status.busy": "2022-06-06T22:07:20.033748Z",
     "iopub.status.idle": "2022-06-06T22:07:20.048305Z",
     "shell.execute_reply": "2022-06-06T22:07:20.048844Z",
     "shell.execute_reply.started": "2022-06-06T21:01:50.647357Z"
    },
    "papermill": {
     "duration": 0.102856,
     "end_time": "2022-06-06T22:07:20.049040",
     "exception": false,
     "start_time": "2022-06-06T22:07:19.946184",
     "status": "completed"
    },
    "tags": []
   },
   "outputs": [
    {
     "name": "stdout",
     "output_type": "stream",
     "text": [
      "              precision    recall  f1-score   support\n",
      "\n",
      "           0       0.94      1.00      0.97      4782\n",
      "           1       0.45      0.05      0.09       307\n",
      "\n",
      "    accuracy                           0.94      5089\n",
      "   macro avg       0.70      0.52      0.53      5089\n",
      "weighted avg       0.91      0.94      0.92      5089\n",
      "\n"
     ]
    }
   ],
   "source": [
    "print(classification_report(y_test,y_preds))"
   ]
  },
  {
   "cell_type": "markdown",
   "id": "c79c18e6",
   "metadata": {
    "papermill": {
     "duration": 0.098274,
     "end_time": "2022-06-06T22:07:20.231322",
     "exception": false,
     "start_time": "2022-06-06T22:07:20.133048",
     "status": "completed"
    },
    "tags": []
   },
   "source": [
    "To get another measure of our model's performance, we will find the cross validation scores. "
   ]
  },
  {
   "cell_type": "code",
   "execution_count": 49,
   "id": "0a48eb4a",
   "metadata": {
    "execution": {
     "iopub.execute_input": "2022-06-06T22:07:20.402127Z",
     "iopub.status.busy": "2022-06-06T22:07:20.401172Z",
     "iopub.status.idle": "2022-06-06T22:40:37.981409Z",
     "shell.execute_reply": "2022-06-06T22:40:37.980824Z",
     "shell.execute_reply.started": "2022-06-06T21:24:14.050337Z"
    },
    "papermill": {
     "duration": 1997.667694,
     "end_time": "2022-06-06T22:40:37.981577",
     "exception": false,
     "start_time": "2022-06-06T22:07:20.313883",
     "status": "completed"
    },
    "tags": []
   },
   "outputs": [
    {
     "name": "stdout",
     "output_type": "stream",
     "text": [
      "Fitting 5 folds for each of 10 candidates, totalling 50 fits\n"
     ]
    },
    {
     "name": "stderr",
     "output_type": "stream",
     "text": [
      "[Parallel(n_jobs=1)]: Using backend SequentialBackend with 1 concurrent workers.\n",
      "[Parallel(n_jobs=1)]: Done  50 out of  50 | elapsed:  2.9min finished\n"
     ]
    },
    {
     "name": "stdout",
     "output_type": "stream",
     "text": [
      "Fitting 5 folds for each of 10 candidates, totalling 50 fits\n"
     ]
    },
    {
     "name": "stderr",
     "output_type": "stream",
     "text": [
      "[Parallel(n_jobs=1)]: Using backend SequentialBackend with 1 concurrent workers.\n",
      "[Parallel(n_jobs=1)]: Done  50 out of  50 | elapsed:  2.5min finished\n"
     ]
    },
    {
     "name": "stdout",
     "output_type": "stream",
     "text": [
      "Fitting 5 folds for each of 10 candidates, totalling 50 fits\n"
     ]
    },
    {
     "name": "stderr",
     "output_type": "stream",
     "text": [
      "[Parallel(n_jobs=1)]: Using backend SequentialBackend with 1 concurrent workers.\n",
      "[Parallel(n_jobs=1)]: Done  50 out of  50 | elapsed:  2.9min finished\n"
     ]
    },
    {
     "name": "stdout",
     "output_type": "stream",
     "text": [
      "Fitting 5 folds for each of 10 candidates, totalling 50 fits\n"
     ]
    },
    {
     "name": "stderr",
     "output_type": "stream",
     "text": [
      "[Parallel(n_jobs=1)]: Using backend SequentialBackend with 1 concurrent workers.\n",
      "[Parallel(n_jobs=1)]: Done  50 out of  50 | elapsed:  4.7min finished\n"
     ]
    },
    {
     "name": "stdout",
     "output_type": "stream",
     "text": [
      "Fitting 5 folds for each of 10 candidates, totalling 50 fits\n"
     ]
    },
    {
     "name": "stderr",
     "output_type": "stream",
     "text": [
      "[Parallel(n_jobs=1)]: Using backend SequentialBackend with 1 concurrent workers.\n",
      "[Parallel(n_jobs=1)]: Done  50 out of  50 | elapsed:  3.8min finished\n"
     ]
    },
    {
     "name": "stdout",
     "output_type": "stream",
     "text": [
      "Fitting 5 folds for each of 10 candidates, totalling 50 fits\n"
     ]
    },
    {
     "name": "stderr",
     "output_type": "stream",
     "text": [
      "[Parallel(n_jobs=1)]: Using backend SequentialBackend with 1 concurrent workers.\n",
      "[Parallel(n_jobs=1)]: Done  50 out of  50 | elapsed:  3.4min finished\n"
     ]
    },
    {
     "name": "stdout",
     "output_type": "stream",
     "text": [
      "Fitting 5 folds for each of 10 candidates, totalling 50 fits\n"
     ]
    },
    {
     "name": "stderr",
     "output_type": "stream",
     "text": [
      "[Parallel(n_jobs=1)]: Using backend SequentialBackend with 1 concurrent workers.\n",
      "[Parallel(n_jobs=1)]: Done  50 out of  50 | elapsed:  2.6min finished\n"
     ]
    },
    {
     "name": "stdout",
     "output_type": "stream",
     "text": [
      "Fitting 5 folds for each of 10 candidates, totalling 50 fits\n"
     ]
    },
    {
     "name": "stderr",
     "output_type": "stream",
     "text": [
      "[Parallel(n_jobs=1)]: Using backend SequentialBackend with 1 concurrent workers.\n",
      "[Parallel(n_jobs=1)]: Done  50 out of  50 | elapsed:  2.8min finished\n"
     ]
    },
    {
     "name": "stdout",
     "output_type": "stream",
     "text": [
      "Fitting 5 folds for each of 10 candidates, totalling 50 fits\n"
     ]
    },
    {
     "name": "stderr",
     "output_type": "stream",
     "text": [
      "[Parallel(n_jobs=1)]: Using backend SequentialBackend with 1 concurrent workers.\n",
      "[Parallel(n_jobs=1)]: Done  50 out of  50 | elapsed:  3.5min finished\n"
     ]
    },
    {
     "name": "stdout",
     "output_type": "stream",
     "text": [
      "Fitting 5 folds for each of 10 candidates, totalling 50 fits\n"
     ]
    },
    {
     "name": "stderr",
     "output_type": "stream",
     "text": [
      "[Parallel(n_jobs=1)]: Using backend SequentialBackend with 1 concurrent workers.\n",
      "[Parallel(n_jobs=1)]: Done  50 out of  50 | elapsed:  2.9min finished\n"
     ]
    }
   ],
   "source": [
    "import warnings\n",
    "warnings.filterwarnings(\"ignore\")\n",
    "# Cross-validated Precision\n",
    "cv_precision = cross_val_score(rf_rs,\n",
    "                         X,\n",
    "                         y,\n",
    "                         cv = 10,\n",
    "                         scoring=\"precision\")"
   ]
  },
  {
   "cell_type": "code",
   "execution_count": 50,
   "id": "2c270b98",
   "metadata": {
    "execution": {
     "iopub.execute_input": "2022-06-06T22:40:38.172079Z",
     "iopub.status.busy": "2022-06-06T22:40:38.171331Z",
     "iopub.status.idle": "2022-06-06T22:40:38.176455Z",
     "shell.execute_reply": "2022-06-06T22:40:38.177180Z",
     "shell.execute_reply.started": "2022-06-06T21:56:21.098310Z"
    },
    "papermill": {
     "duration": 0.100833,
     "end_time": "2022-06-06T22:40:38.177357",
     "exception": false,
     "start_time": "2022-06-06T22:40:38.076524",
     "status": "completed"
    },
    "tags": []
   },
   "outputs": [
    {
     "name": "stdout",
     "output_type": "stream",
     "text": [
      "The Precision for our Random Forest Classifier is: 0.25\n"
     ]
    }
   ],
   "source": [
    "cv_precision = np.mean(cv_precision)\n",
    "print(\"The Precision for our Random Forest Classifier is: {:.2f}\".format(cv_precision))"
   ]
  },
  {
   "cell_type": "markdown",
   "id": "9775657f",
   "metadata": {
    "papermill": {
     "duration": 0.091842,
     "end_time": "2022-06-06T22:40:38.360983",
     "exception": false,
     "start_time": "2022-06-06T22:40:38.269141",
     "status": "completed"
    },
    "tags": []
   },
   "source": [
    "The interpretation of the precision metric is: If given a fraudulent claim, the model will give a correct prediction 25% of the time."
   ]
  },
  {
   "cell_type": "markdown",
   "id": "f50c74ca",
   "metadata": {
    "papermill": {
     "duration": 0.091897,
     "end_time": "2022-06-06T22:40:38.545366",
     "exception": false,
     "start_time": "2022-06-06T22:40:38.453469",
     "status": "completed"
    },
    "tags": []
   },
   "source": [
    "## Improvements:\n",
    "\n",
    "To improve the performance on this dataset, we can look to minimize the number of attributes that we use in the model. This dimensionality reduction can help the model focus on more important features to make predictions with. We can also create new features from the existing features to help our models gain additional insight.\n",
    "\n",
    "In addition, we can use more complex models such as XGBoost and Neural Networks, which may be better at finding patteres in this dataset. "
   ]
  }
 ],
 "metadata": {
  "kernelspec": {
   "display_name": "Python 3",
   "language": "python",
   "name": "python3"
  },
  "language_info": {
   "codemirror_mode": {
    "name": "ipython",
    "version": 3
   },
   "file_extension": ".py",
   "mimetype": "text/x-python",
   "name": "python",
   "nbconvert_exporter": "python",
   "pygments_lexer": "ipython3",
   "version": "3.7.12"
  },
  "papermill": {
   "default_parameters": {},
   "duration": 2241.497191,
   "end_time": "2022-06-06T22:40:39.453663",
   "environment_variables": {},
   "exception": null,
   "input_path": "__notebook__.ipynb",
   "output_path": "__notebook__.ipynb",
   "parameters": {},
   "start_time": "2022-06-06T22:03:17.956472",
   "version": "2.3.3"
  }
 },
 "nbformat": 4,
 "nbformat_minor": 5
}
