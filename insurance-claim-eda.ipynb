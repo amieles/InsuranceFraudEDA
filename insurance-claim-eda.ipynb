{
 "cells": [
  {
   "cell_type": "markdown",
   "id": "e3f5e484",
   "metadata": {
    "papermill": {
     "duration": 0.029537,
     "end_time": "2022-01-28T22:07:43.107058",
     "exception": false,
     "start_time": "2022-01-28T22:07:43.077521",
     "status": "completed"
    },
    "tags": []
   },
   "source": [
    "# Vehicle Insurance Claim EDA\n",
    "This is an exploratory analysis of vehicle insurance claim data. Each row in this dataset represents an individual insurace claim.\n",
    "In this analysis, I will look for interesting patterns and insights in the data set. Ultimately, the goal is to predict whether a claim is fraud (FraudFound_P) or not based on other variables, but in this analysis, I will only be taking the beginning steps of data exploaration. Some questions that I would like to explore in this analysis are: \n",
    "* Who files vehicle insurance claims?\n",
    "* When are these claims most likely to be filed?\n",
    "<br /> The first step is to import the appropriate packages for this analysis."
   ]
  },
  {
   "cell_type": "code",
   "execution_count": 1,
   "id": "2900bc6c",
   "metadata": {
    "_cell_guid": "b1076dfc-b9ad-4769-8c92-a6c4dae69d19",
    "_uuid": "8f2839f25d086af736a60e9eeb907d3b93b6e0e5",
    "execution": {
     "iopub.execute_input": "2022-01-28T22:07:43.175652Z",
     "iopub.status.busy": "2022-01-28T22:07:43.174816Z",
     "iopub.status.idle": "2022-01-28T22:07:44.275416Z",
     "shell.execute_reply": "2022-01-28T22:07:44.274646Z",
     "shell.execute_reply.started": "2022-01-28T21:20:59.965208Z"
    },
    "papermill": {
     "duration": 1.141032,
     "end_time": "2022-01-28T22:07:44.275636",
     "exception": false,
     "start_time": "2022-01-28T22:07:43.134604",
     "status": "completed"
    },
    "tags": []
   },
   "outputs": [],
   "source": [
    "import pandas as pd #\n",
    "pd.plotting.register_matplotlib_converters()\n",
    "import numpy as np  #linear algebra and transformations\n",
    "import seaborn as sns  #visualization\n",
    "import matplotlib.pyplot as plt #visualization\n",
    "%matplotlib inline"
   ]
  },
  {
   "cell_type": "markdown",
   "id": "74a7b77b",
   "metadata": {
    "papermill": {
     "duration": 0.025194,
     "end_time": "2022-01-28T22:07:44.326725",
     "exception": false,
     "start_time": "2022-01-28T22:07:44.301531",
     "status": "completed"
    },
    "tags": []
   },
   "source": [
    "Read in the data using pandas."
   ]
  },
  {
   "cell_type": "code",
   "execution_count": 2,
   "id": "dac92d3a",
   "metadata": {
    "execution": {
     "iopub.execute_input": "2022-01-28T22:07:44.383766Z",
     "iopub.status.busy": "2022-01-28T22:07:44.382992Z",
     "iopub.status.idle": "2022-01-28T22:07:44.541237Z",
     "shell.execute_reply": "2022-01-28T22:07:44.540664Z",
     "shell.execute_reply.started": "2022-01-28T21:21:00.922406Z"
    },
    "papermill": {
     "duration": 0.188536,
     "end_time": "2022-01-28T22:07:44.541390",
     "exception": false,
     "start_time": "2022-01-28T22:07:44.352854",
     "status": "completed"
    },
    "tags": []
   },
   "outputs": [],
   "source": [
    "file_path = \"../input/vehicle-claim-fraud-detection/fraud_oracle.csv\"\n",
    "ICD = pd.read_csv(file_path)"
   ]
  },
  {
   "cell_type": "markdown",
   "id": "96784cab",
   "metadata": {
    "papermill": {
     "duration": 0.025513,
     "end_time": "2022-01-28T22:07:44.593661",
     "exception": false,
     "start_time": "2022-01-28T22:07:44.568148",
     "status": "completed"
    },
    "tags": []
   },
   "source": [
    "Get an idea of the size of the dataset. In this case it has 15420 rows and 33 columns."
   ]
  },
  {
   "cell_type": "code",
   "execution_count": 3,
   "id": "7ce408b7",
   "metadata": {
    "execution": {
     "iopub.execute_input": "2022-01-28T22:07:44.655197Z",
     "iopub.status.busy": "2022-01-28T22:07:44.654512Z",
     "iopub.status.idle": "2022-01-28T22:07:44.658643Z",
     "shell.execute_reply": "2022-01-28T22:07:44.658096Z",
     "shell.execute_reply.started": "2022-01-28T21:21:01.070976Z"
    },
    "papermill": {
     "duration": 0.039146,
     "end_time": "2022-01-28T22:07:44.658783",
     "exception": false,
     "start_time": "2022-01-28T22:07:44.619637",
     "status": "completed"
    },
    "tags": []
   },
   "outputs": [
    {
     "data": {
      "text/plain": [
       "(15420, 33)"
      ]
     },
     "execution_count": 3,
     "metadata": {},
     "output_type": "execute_result"
    }
   ],
   "source": [
    "ICD.shape"
   ]
  },
  {
   "cell_type": "markdown",
   "id": "7a0f6e55",
   "metadata": {
    "papermill": {
     "duration": 0.025637,
     "end_time": "2022-01-28T22:07:44.711882",
     "exception": false,
     "start_time": "2022-01-28T22:07:44.686245",
     "status": "completed"
    },
    "tags": []
   },
   "source": [
    "Take a look at the first 5 rows of the dataset. In this case, we can see that some columns are left out."
   ]
  },
  {
   "cell_type": "code",
   "execution_count": 4,
   "id": "c911a686",
   "metadata": {
    "execution": {
     "iopub.execute_input": "2022-01-28T22:07:44.776129Z",
     "iopub.status.busy": "2022-01-28T22:07:44.773009Z",
     "iopub.status.idle": "2022-01-28T22:07:44.804007Z",
     "shell.execute_reply": "2022-01-28T22:07:44.803390Z",
     "shell.execute_reply.started": "2022-01-28T21:21:01.079680Z"
    },
    "papermill": {
     "duration": 0.066265,
     "end_time": "2022-01-28T22:07:44.804161",
     "exception": false,
     "start_time": "2022-01-28T22:07:44.737896",
     "status": "completed"
    },
    "tags": []
   },
   "outputs": [
    {
     "data": {
      "text/html": [
       "<div>\n",
       "<style scoped>\n",
       "    .dataframe tbody tr th:only-of-type {\n",
       "        vertical-align: middle;\n",
       "    }\n",
       "\n",
       "    .dataframe tbody tr th {\n",
       "        vertical-align: top;\n",
       "    }\n",
       "\n",
       "    .dataframe thead th {\n",
       "        text-align: right;\n",
       "    }\n",
       "</style>\n",
       "<table border=\"1\" class=\"dataframe\">\n",
       "  <thead>\n",
       "    <tr style=\"text-align: right;\">\n",
       "      <th></th>\n",
       "      <th>Month</th>\n",
       "      <th>WeekOfMonth</th>\n",
       "      <th>DayOfWeek</th>\n",
       "      <th>Make</th>\n",
       "      <th>AccidentArea</th>\n",
       "      <th>DayOfWeekClaimed</th>\n",
       "      <th>MonthClaimed</th>\n",
       "      <th>WeekOfMonthClaimed</th>\n",
       "      <th>Sex</th>\n",
       "      <th>MaritalStatus</th>\n",
       "      <th>...</th>\n",
       "      <th>AgeOfVehicle</th>\n",
       "      <th>AgeOfPolicyHolder</th>\n",
       "      <th>PoliceReportFiled</th>\n",
       "      <th>WitnessPresent</th>\n",
       "      <th>AgentType</th>\n",
       "      <th>NumberOfSuppliments</th>\n",
       "      <th>AddressChange_Claim</th>\n",
       "      <th>NumberOfCars</th>\n",
       "      <th>Year</th>\n",
       "      <th>BasePolicy</th>\n",
       "    </tr>\n",
       "  </thead>\n",
       "  <tbody>\n",
       "    <tr>\n",
       "      <th>0</th>\n",
       "      <td>Dec</td>\n",
       "      <td>5</td>\n",
       "      <td>Wednesday</td>\n",
       "      <td>Honda</td>\n",
       "      <td>Urban</td>\n",
       "      <td>Tuesday</td>\n",
       "      <td>Jan</td>\n",
       "      <td>1</td>\n",
       "      <td>Female</td>\n",
       "      <td>Single</td>\n",
       "      <td>...</td>\n",
       "      <td>3 years</td>\n",
       "      <td>26 to 30</td>\n",
       "      <td>No</td>\n",
       "      <td>No</td>\n",
       "      <td>External</td>\n",
       "      <td>none</td>\n",
       "      <td>1 year</td>\n",
       "      <td>3 to 4</td>\n",
       "      <td>1994</td>\n",
       "      <td>Liability</td>\n",
       "    </tr>\n",
       "    <tr>\n",
       "      <th>1</th>\n",
       "      <td>Jan</td>\n",
       "      <td>3</td>\n",
       "      <td>Wednesday</td>\n",
       "      <td>Honda</td>\n",
       "      <td>Urban</td>\n",
       "      <td>Monday</td>\n",
       "      <td>Jan</td>\n",
       "      <td>4</td>\n",
       "      <td>Male</td>\n",
       "      <td>Single</td>\n",
       "      <td>...</td>\n",
       "      <td>6 years</td>\n",
       "      <td>31 to 35</td>\n",
       "      <td>Yes</td>\n",
       "      <td>No</td>\n",
       "      <td>External</td>\n",
       "      <td>none</td>\n",
       "      <td>no change</td>\n",
       "      <td>1 vehicle</td>\n",
       "      <td>1994</td>\n",
       "      <td>Collision</td>\n",
       "    </tr>\n",
       "    <tr>\n",
       "      <th>2</th>\n",
       "      <td>Oct</td>\n",
       "      <td>5</td>\n",
       "      <td>Friday</td>\n",
       "      <td>Honda</td>\n",
       "      <td>Urban</td>\n",
       "      <td>Thursday</td>\n",
       "      <td>Nov</td>\n",
       "      <td>2</td>\n",
       "      <td>Male</td>\n",
       "      <td>Married</td>\n",
       "      <td>...</td>\n",
       "      <td>7 years</td>\n",
       "      <td>41 to 50</td>\n",
       "      <td>No</td>\n",
       "      <td>No</td>\n",
       "      <td>External</td>\n",
       "      <td>none</td>\n",
       "      <td>no change</td>\n",
       "      <td>1 vehicle</td>\n",
       "      <td>1994</td>\n",
       "      <td>Collision</td>\n",
       "    </tr>\n",
       "    <tr>\n",
       "      <th>3</th>\n",
       "      <td>Jun</td>\n",
       "      <td>2</td>\n",
       "      <td>Saturday</td>\n",
       "      <td>Toyota</td>\n",
       "      <td>Rural</td>\n",
       "      <td>Friday</td>\n",
       "      <td>Jul</td>\n",
       "      <td>1</td>\n",
       "      <td>Male</td>\n",
       "      <td>Married</td>\n",
       "      <td>...</td>\n",
       "      <td>more than 7</td>\n",
       "      <td>51 to 65</td>\n",
       "      <td>Yes</td>\n",
       "      <td>No</td>\n",
       "      <td>External</td>\n",
       "      <td>more than 5</td>\n",
       "      <td>no change</td>\n",
       "      <td>1 vehicle</td>\n",
       "      <td>1994</td>\n",
       "      <td>Liability</td>\n",
       "    </tr>\n",
       "    <tr>\n",
       "      <th>4</th>\n",
       "      <td>Jan</td>\n",
       "      <td>5</td>\n",
       "      <td>Monday</td>\n",
       "      <td>Honda</td>\n",
       "      <td>Urban</td>\n",
       "      <td>Tuesday</td>\n",
       "      <td>Feb</td>\n",
       "      <td>2</td>\n",
       "      <td>Female</td>\n",
       "      <td>Single</td>\n",
       "      <td>...</td>\n",
       "      <td>5 years</td>\n",
       "      <td>31 to 35</td>\n",
       "      <td>No</td>\n",
       "      <td>No</td>\n",
       "      <td>External</td>\n",
       "      <td>none</td>\n",
       "      <td>no change</td>\n",
       "      <td>1 vehicle</td>\n",
       "      <td>1994</td>\n",
       "      <td>Collision</td>\n",
       "    </tr>\n",
       "  </tbody>\n",
       "</table>\n",
       "<p>5 rows × 33 columns</p>\n",
       "</div>"
      ],
      "text/plain": [
       "  Month  WeekOfMonth  DayOfWeek    Make AccidentArea DayOfWeekClaimed  \\\n",
       "0   Dec            5  Wednesday   Honda        Urban          Tuesday   \n",
       "1   Jan            3  Wednesday   Honda        Urban           Monday   \n",
       "2   Oct            5     Friday   Honda        Urban         Thursday   \n",
       "3   Jun            2   Saturday  Toyota        Rural           Friday   \n",
       "4   Jan            5     Monday   Honda        Urban          Tuesday   \n",
       "\n",
       "  MonthClaimed  WeekOfMonthClaimed     Sex MaritalStatus  ...  AgeOfVehicle  \\\n",
       "0          Jan                   1  Female        Single  ...       3 years   \n",
       "1          Jan                   4    Male        Single  ...       6 years   \n",
       "2          Nov                   2    Male       Married  ...       7 years   \n",
       "3          Jul                   1    Male       Married  ...   more than 7   \n",
       "4          Feb                   2  Female        Single  ...       5 years   \n",
       "\n",
       "  AgeOfPolicyHolder PoliceReportFiled WitnessPresent AgentType  \\\n",
       "0          26 to 30                No             No  External   \n",
       "1          31 to 35               Yes             No  External   \n",
       "2          41 to 50                No             No  External   \n",
       "3          51 to 65               Yes             No  External   \n",
       "4          31 to 35                No             No  External   \n",
       "\n",
       "   NumberOfSuppliments  AddressChange_Claim  NumberOfCars  Year  BasePolicy  \n",
       "0                 none               1 year        3 to 4  1994   Liability  \n",
       "1                 none            no change     1 vehicle  1994   Collision  \n",
       "2                 none            no change     1 vehicle  1994   Collision  \n",
       "3          more than 5            no change     1 vehicle  1994   Liability  \n",
       "4                 none            no change     1 vehicle  1994   Collision  \n",
       "\n",
       "[5 rows x 33 columns]"
      ]
     },
     "execution_count": 4,
     "metadata": {},
     "output_type": "execute_result"
    }
   ],
   "source": [
    "ICD.head()"
   ]
  },
  {
   "cell_type": "markdown",
   "id": "e2c6288c",
   "metadata": {
    "papermill": {
     "duration": 0.026364,
     "end_time": "2022-01-28T22:07:44.857368",
     "exception": false,
     "start_time": "2022-01-28T22:07:44.831004",
     "status": "completed"
    },
    "tags": []
   },
   "source": [
    "List the names of all columns and see what types they are."
   ]
  },
  {
   "cell_type": "code",
   "execution_count": 5,
   "id": "171b545a",
   "metadata": {
    "execution": {
     "iopub.execute_input": "2022-01-28T22:07:44.918702Z",
     "iopub.status.busy": "2022-01-28T22:07:44.918009Z",
     "iopub.status.idle": "2022-01-28T22:07:44.980502Z",
     "shell.execute_reply": "2022-01-28T22:07:44.981013Z",
     "shell.execute_reply.started": "2022-01-28T21:21:01.117804Z"
    },
    "papermill": {
     "duration": 0.097168,
     "end_time": "2022-01-28T22:07:44.981184",
     "exception": false,
     "start_time": "2022-01-28T22:07:44.884016",
     "status": "completed"
    },
    "tags": []
   },
   "outputs": [
    {
     "name": "stdout",
     "output_type": "stream",
     "text": [
      "<class 'pandas.core.frame.DataFrame'>\n",
      "RangeIndex: 15420 entries, 0 to 15419\n",
      "Data columns (total 33 columns):\n",
      " #   Column                Non-Null Count  Dtype \n",
      "---  ------                --------------  ----- \n",
      " 0   Month                 15420 non-null  object\n",
      " 1   WeekOfMonth           15420 non-null  int64 \n",
      " 2   DayOfWeek             15420 non-null  object\n",
      " 3   Make                  15420 non-null  object\n",
      " 4   AccidentArea          15420 non-null  object\n",
      " 5   DayOfWeekClaimed      15420 non-null  object\n",
      " 6   MonthClaimed          15420 non-null  object\n",
      " 7   WeekOfMonthClaimed    15420 non-null  int64 \n",
      " 8   Sex                   15420 non-null  object\n",
      " 9   MaritalStatus         15420 non-null  object\n",
      " 10  Age                   15420 non-null  int64 \n",
      " 11  Fault                 15420 non-null  object\n",
      " 12  PolicyType            15420 non-null  object\n",
      " 13  VehicleCategory       15420 non-null  object\n",
      " 14  VehiclePrice          15420 non-null  object\n",
      " 15  FraudFound_P          15420 non-null  int64 \n",
      " 16  PolicyNumber          15420 non-null  int64 \n",
      " 17  RepNumber             15420 non-null  int64 \n",
      " 18  Deductible            15420 non-null  int64 \n",
      " 19  DriverRating          15420 non-null  int64 \n",
      " 20  Days_Policy_Accident  15420 non-null  object\n",
      " 21  Days_Policy_Claim     15420 non-null  object\n",
      " 22  PastNumberOfClaims    15420 non-null  object\n",
      " 23  AgeOfVehicle          15420 non-null  object\n",
      " 24  AgeOfPolicyHolder     15420 non-null  object\n",
      " 25  PoliceReportFiled     15420 non-null  object\n",
      " 26  WitnessPresent        15420 non-null  object\n",
      " 27  AgentType             15420 non-null  object\n",
      " 28  NumberOfSuppliments   15420 non-null  object\n",
      " 29  AddressChange_Claim   15420 non-null  object\n",
      " 30  NumberOfCars          15420 non-null  object\n",
      " 31  Year                  15420 non-null  int64 \n",
      " 32  BasePolicy            15420 non-null  object\n",
      "dtypes: int64(9), object(24)\n",
      "memory usage: 3.9+ MB\n"
     ]
    }
   ],
   "source": [
    "ICD.info()"
   ]
  },
  {
   "cell_type": "markdown",
   "id": "86d75082",
   "metadata": {
    "papermill": {
     "duration": 0.027759,
     "end_time": "2022-01-28T22:07:45.038187",
     "exception": false,
     "start_time": "2022-01-28T22:07:45.010428",
     "status": "completed"
    },
    "tags": []
   },
   "source": [
    "It is unlikely that I will use all of these columns to answer my questions, but it is good to have an idea of what information is available to use.\n",
    "<br /> I will begin by answering the question of who files insurance claims, which may also answer who is likely to get into accidents.\n",
    "For the numeric variables, we can get some quick summary statistics."
   ]
  },
  {
   "cell_type": "code",
   "execution_count": 6,
   "id": "7c70a309",
   "metadata": {
    "execution": {
     "iopub.execute_input": "2022-01-28T22:07:45.096103Z",
     "iopub.status.busy": "2022-01-28T22:07:45.095349Z",
     "iopub.status.idle": "2022-01-28T22:07:45.111052Z",
     "shell.execute_reply": "2022-01-28T22:07:45.111627Z",
     "shell.execute_reply.started": "2022-01-28T21:21:01.181492Z"
    },
    "papermill": {
     "duration": 0.046416,
     "end_time": "2022-01-28T22:07:45.111813",
     "exception": false,
     "start_time": "2022-01-28T22:07:45.065397",
     "status": "completed"
    },
    "tags": []
   },
   "outputs": [
    {
     "data": {
      "text/html": [
       "<div>\n",
       "<style scoped>\n",
       "    .dataframe tbody tr th:only-of-type {\n",
       "        vertical-align: middle;\n",
       "    }\n",
       "\n",
       "    .dataframe tbody tr th {\n",
       "        vertical-align: top;\n",
       "    }\n",
       "\n",
       "    .dataframe thead th {\n",
       "        text-align: right;\n",
       "    }\n",
       "</style>\n",
       "<table border=\"1\" class=\"dataframe\">\n",
       "  <thead>\n",
       "    <tr style=\"text-align: right;\">\n",
       "      <th></th>\n",
       "      <th>Age</th>\n",
       "      <th>Deductible</th>\n",
       "      <th>DriverRating</th>\n",
       "    </tr>\n",
       "  </thead>\n",
       "  <tbody>\n",
       "    <tr>\n",
       "      <th>min</th>\n",
       "      <td>0.000000</td>\n",
       "      <td>300.00000</td>\n",
       "      <td>1.000000</td>\n",
       "    </tr>\n",
       "    <tr>\n",
       "      <th>max</th>\n",
       "      <td>80.000000</td>\n",
       "      <td>700.00000</td>\n",
       "      <td>4.000000</td>\n",
       "    </tr>\n",
       "    <tr>\n",
       "      <th>median</th>\n",
       "      <td>38.000000</td>\n",
       "      <td>400.00000</td>\n",
       "      <td>2.000000</td>\n",
       "    </tr>\n",
       "    <tr>\n",
       "      <th>mean</th>\n",
       "      <td>39.855707</td>\n",
       "      <td>407.70428</td>\n",
       "      <td>2.487808</td>\n",
       "    </tr>\n",
       "  </tbody>\n",
       "</table>\n",
       "</div>"
      ],
      "text/plain": [
       "              Age  Deductible  DriverRating\n",
       "min      0.000000   300.00000      1.000000\n",
       "max     80.000000   700.00000      4.000000\n",
       "median  38.000000   400.00000      2.000000\n",
       "mean    39.855707   407.70428      2.487808"
      ]
     },
     "execution_count": 6,
     "metadata": {},
     "output_type": "execute_result"
    }
   ],
   "source": [
    "ICD.agg(\n",
    "    {\n",
    "        'Age': [\"min\", \"max\", \"median\", \"mean\"],\n",
    "        'Deductible': [\"min\", \"max\", \"median\", \"mean\"],\n",
    "        'DriverRating': [\"min\", \"max\", \"median\", \"mean\"],\n",
    "    }\n",
    ")\n"
   ]
  },
  {
   "cell_type": "markdown",
   "id": "4061a5bf",
   "metadata": {
    "papermill": {
     "duration": 0.028816,
     "end_time": "2022-01-28T22:07:45.168266",
     "exception": false,
     "start_time": "2022-01-28T22:07:45.139450",
     "status": "completed"
    },
    "tags": []
   },
   "source": [
    "This table gives a good quick glance at the averages and range of these three variables. At first glance, seeing a recorded age of 0 seems like an error. I am going to check how many records have an age of 0."
   ]
  },
  {
   "cell_type": "code",
   "execution_count": 7,
   "id": "febc6696",
   "metadata": {
    "execution": {
     "iopub.execute_input": "2022-01-28T22:07:45.227303Z",
     "iopub.status.busy": "2022-01-28T22:07:45.226653Z",
     "iopub.status.idle": "2022-01-28T22:07:45.232270Z",
     "shell.execute_reply": "2022-01-28T22:07:45.232787Z",
     "shell.execute_reply.started": "2022-01-28T21:52:20.443857Z"
    },
    "papermill": {
     "duration": 0.03668,
     "end_time": "2022-01-28T22:07:45.232987",
     "exception": false,
     "start_time": "2022-01-28T22:07:45.196307",
     "status": "completed"
    },
    "tags": []
   },
   "outputs": [
    {
     "data": {
      "text/plain": [
       "320"
      ]
     },
     "execution_count": 7,
     "metadata": {},
     "output_type": "execute_result"
    }
   ],
   "source": [
    "(ICD[\"Age\"] == 0).sum()"
   ]
  },
  {
   "cell_type": "markdown",
   "id": "545efd50",
   "metadata": {
    "papermill": {
     "duration": 0.027786,
     "end_time": "2022-01-28T22:07:45.288948",
     "exception": false,
     "start_time": "2022-01-28T22:07:45.261162",
     "status": "completed"
    },
    "tags": []
   },
   "source": [
    "For predictive modeling, it would make sense to deal with these cases (maybe imputation). However, in this case we will remove them so they don't affect graphs."
   ]
  },
  {
   "cell_type": "code",
   "execution_count": 8,
   "id": "b5c91537",
   "metadata": {
    "execution": {
     "iopub.execute_input": "2022-01-28T22:07:45.350192Z",
     "iopub.status.busy": "2022-01-28T22:07:45.347744Z",
     "iopub.status.idle": "2022-01-28T22:07:45.357162Z",
     "shell.execute_reply": "2022-01-28T22:07:45.356496Z",
     "shell.execute_reply.started": "2022-01-28T22:06:05.067101Z"
    },
    "papermill": {
     "duration": 0.04036,
     "end_time": "2022-01-28T22:07:45.357304",
     "exception": false,
     "start_time": "2022-01-28T22:07:45.316944",
     "status": "completed"
    },
    "tags": []
   },
   "outputs": [],
   "source": [
    "ICD_filtered = ICD[ICD['Age'] != 0]"
   ]
  },
  {
   "cell_type": "code",
   "execution_count": 9,
   "id": "74433aec",
   "metadata": {
    "execution": {
     "iopub.execute_input": "2022-01-28T22:07:45.417876Z",
     "iopub.status.busy": "2022-01-28T22:07:45.417177Z",
     "iopub.status.idle": "2022-01-28T22:07:45.963232Z",
     "shell.execute_reply": "2022-01-28T22:07:45.963904Z",
     "shell.execute_reply.started": "2022-01-28T22:06:12.830493Z"
    },
    "papermill": {
     "duration": 0.578436,
     "end_time": "2022-01-28T22:07:45.964118",
     "exception": false,
     "start_time": "2022-01-28T22:07:45.385682",
     "status": "completed"
    },
    "tags": []
   },
   "outputs": [
    {
     "data": {
      "text/plain": [
       "Text(0.5, 1.0, 'Age Distribution')"
      ]
     },
     "execution_count": 9,
     "metadata": {},
     "output_type": "execute_result"
    },
    {
     "data": {
      "image/png": "[encoded data removed]",
      "text/plain": [
       "<Figure size 360x360 with 1 Axes>"
      ]
     },
     "metadata": {
      "needs_background": "light"
     },
     "output_type": "display_data"
    }
   ],
   "source": [
    "sns.displot(ICD_filtered['Age'], kde = True)\n",
    "plt.title(\"Age Distribution\")"
   ]
  },
  {
   "cell_type": "markdown",
   "id": "c5e9654f",
   "metadata": {
    "papermill": {
     "duration": 0.028962,
     "end_time": "2022-01-28T22:07:46.023343",
     "exception": false,
     "start_time": "2022-01-28T22:07:45.994381",
     "status": "completed"
    },
    "tags": []
   },
   "source": [
    "The age distribution appears to be slightly skewed to the right."
   ]
  },
  {
   "cell_type": "code",
   "execution_count": 10,
   "id": "ea2afa06",
   "metadata": {
    "execution": {
     "iopub.execute_input": "2022-01-28T22:07:46.117445Z",
     "iopub.status.busy": "2022-01-28T22:07:46.100637Z",
     "iopub.status.idle": "2022-01-28T22:07:46.469568Z",
     "shell.execute_reply": "2022-01-28T22:07:46.468485Z",
     "shell.execute_reply.started": "2022-01-28T21:21:01.759137Z"
    },
    "papermill": {
     "duration": 0.416466,
     "end_time": "2022-01-28T22:07:46.469727",
     "exception": false,
     "start_time": "2022-01-28T22:07:46.053261",
     "status": "completed"
    },
    "tags": []
   },
   "outputs": [
    {
     "data": {
      "text/plain": [
       "Text(0.5, 1.0, 'Deductible Distribution')"
      ]
     },
     "execution_count": 10,
     "metadata": {},
     "output_type": "execute_result"
    },
    {
     "data": {
      "image/png": "[encoded data removed]",
      "text/plain": [
       "<Figure size 360x360 with 1 Axes>"
      ]
     },
     "metadata": {
      "needs_background": "light"
     },
     "output_type": "display_data"
    }
   ],
   "source": [
    "sns.displot(ICD['Deductible'], kde = False)\n",
    "plt.title(\"Deductible Distribution\")"
   ]
  },
  {
   "cell_type": "markdown",
   "id": "8a1888e2",
   "metadata": {
    "papermill": {
     "duration": 0.03045,
     "end_time": "2022-01-28T22:07:46.530531",
     "exception": false,
     "start_time": "2022-01-28T22:07:46.500081",
     "status": "completed"
    },
    "tags": []
   },
   "source": [
    "Note: The vast majority of deductibles are 400 with more rare cases of 500 and 675."
   ]
  },
  {
   "cell_type": "code",
   "execution_count": 11,
   "id": "fa8f1f93",
   "metadata": {
    "execution": {
     "iopub.execute_input": "2022-01-28T22:07:46.627834Z",
     "iopub.status.busy": "2022-01-28T22:07:46.608956Z",
     "iopub.status.idle": "2022-01-28T22:07:46.978364Z",
     "shell.execute_reply": "2022-01-28T22:07:46.977817Z",
     "shell.execute_reply.started": "2022-01-28T21:21:02.115704Z"
    },
    "papermill": {
     "duration": 0.416181,
     "end_time": "2022-01-28T22:07:46.978549",
     "exception": false,
     "start_time": "2022-01-28T22:07:46.562368",
     "status": "completed"
    },
    "tags": []
   },
   "outputs": [
    {
     "data": {
      "text/plain": [
       "Text(0.5, 1.0, 'DriverRating Distribution')"
      ]
     },
     "execution_count": 11,
     "metadata": {},
     "output_type": "execute_result"
    },
    {
     "data": {
      "image/png": "[encoded data removed]",
      "text/plain": [
       "<Figure size 360x360 with 1 Axes>"
      ]
     },
     "metadata": {
      "needs_background": "light"
     },
     "output_type": "display_data"
    }
   ],
   "source": [
    "sns.displot(ICD['DriverRating'], kde = False)\n",
    "plt.title(\"DriverRating Distribution\")\n"
   ]
  },
  {
   "cell_type": "markdown",
   "id": "6f730fb8",
   "metadata": {
    "papermill": {
     "duration": 0.032424,
     "end_time": "2022-01-28T22:07:47.042992",
     "exception": false,
     "start_time": "2022-01-28T22:07:47.010568",
     "status": "completed"
    },
    "tags": []
   },
   "source": [
    "It appears that driver ratings follow a fairly uniform distribution. This is interesting, as you would think that drivers with a higher rating would be in less accidents and file less claims, which is only the case by a close margin. Below are the exact counts for each rating."
   ]
  },
  {
   "cell_type": "code",
   "execution_count": 12,
   "id": "e695fa49",
   "metadata": {
    "execution": {
     "iopub.execute_input": "2022-01-28T22:07:47.114033Z",
     "iopub.status.busy": "2022-01-28T22:07:47.111912Z",
     "iopub.status.idle": "2022-01-28T22:07:47.117576Z",
     "shell.execute_reply": "2022-01-28T22:07:47.118131Z",
     "shell.execute_reply.started": "2022-01-28T21:21:02.474938Z"
    },
    "papermill": {
     "duration": 0.043207,
     "end_time": "2022-01-28T22:07:47.118302",
     "exception": false,
     "start_time": "2022-01-28T22:07:47.075095",
     "status": "completed"
    },
    "tags": []
   },
   "outputs": [
    {
     "data": {
      "text/plain": [
       "DriverRating\n",
       "1    3944\n",
       "2    3801\n",
       "3    3884\n",
       "4    3791\n",
       "Name: DriverRating, dtype: int64"
      ]
     },
     "execution_count": 12,
     "metadata": {},
     "output_type": "execute_result"
    }
   ],
   "source": [
    "ICD.groupby(\"DriverRating\").DriverRating.count()"
   ]
  },
  {
   "cell_type": "code",
   "execution_count": 13,
   "id": "66dbbadb",
   "metadata": {
    "execution": {
     "iopub.execute_input": "2022-01-28T22:07:47.186992Z",
     "iopub.status.busy": "2022-01-28T22:07:47.185938Z",
     "iopub.status.idle": "2022-01-28T22:07:47.570614Z",
     "shell.execute_reply": "2022-01-28T22:07:47.569908Z",
     "shell.execute_reply.started": "2022-01-28T21:21:02.486042Z"
    },
    "papermill": {
     "duration": 0.420375,
     "end_time": "2022-01-28T22:07:47.570782",
     "exception": false,
     "start_time": "2022-01-28T22:07:47.150407",
     "status": "completed"
    },
    "tags": []
   },
   "outputs": [
    {
     "data": {
      "text/plain": [
       "<seaborn.axisgrid.FacetGrid at 0x7f6caa920e10>"
      ]
     },
     "execution_count": 13,
     "metadata": {},
     "output_type": "execute_result"
    },
    {
     "data": {
      "image/png": "[encoded data removed]",
      "text/plain": [
       "<Figure size 360x360 with 1 Axes>"
      ]
     },
     "metadata": {
      "needs_background": "light"
     },
     "output_type": "display_data"
    }
   ],
   "source": [
    "sns.displot(data = ICD['Month'])"
   ]
  },
  {
   "cell_type": "markdown",
   "id": "3f7a5386",
   "metadata": {
    "papermill": {
     "duration": 0.032342,
     "end_time": "2022-01-28T22:07:47.636902",
     "exception": false,
     "start_time": "2022-01-28T22:07:47.604560",
     "status": "completed"
    },
    "tags": []
   },
   "source": [
    "The most accidents occur in January, May, and March, respectively. This distribution is almost uniform."
   ]
  },
  {
   "cell_type": "code",
   "execution_count": 14,
   "id": "d3321c02",
   "metadata": {
    "execution": {
     "iopub.execute_input": "2022-01-28T22:07:47.718059Z",
     "iopub.status.busy": "2022-01-28T22:07:47.717343Z",
     "iopub.status.idle": "2022-01-28T22:07:48.060512Z",
     "shell.execute_reply": "2022-01-28T22:07:48.061202Z",
     "shell.execute_reply.started": "2022-01-28T21:21:02.849211Z"
    },
    "papermill": {
     "duration": 0.392016,
     "end_time": "2022-01-28T22:07:48.061393",
     "exception": false,
     "start_time": "2022-01-28T22:07:47.669377",
     "status": "completed"
    },
    "tags": []
   },
   "outputs": [
    {
     "data": {
      "text/plain": [
       "<seaborn.axisgrid.FacetGrid at 0x7f6caa9a36d0>"
      ]
     },
     "execution_count": 14,
     "metadata": {},
     "output_type": "execute_result"
    },
    {
     "data": {
      "image/png": "[encoded data removed]",
      "text/plain": [
       "<Figure size 360x360 with 1 Axes>"
      ]
     },
     "metadata": {
      "needs_background": "light"
     },
     "output_type": "display_data"
    }
   ],
   "source": [
    "sns.displot(y = ICD['DayOfWeekClaimed'])"
   ]
  },
  {
   "cell_type": "markdown",
   "id": "3d6816fe",
   "metadata": {
    "papermill": {
     "duration": 0.034037,
     "end_time": "2022-01-28T22:07:48.129848",
     "exception": false,
     "start_time": "2022-01-28T22:07:48.095811",
     "status": "completed"
    },
    "tags": []
   },
   "source": [
    "Most claims are made on Monday, followed by Tuesday."
   ]
  },
  {
   "cell_type": "code",
   "execution_count": 15,
   "id": "a64ee245",
   "metadata": {
    "execution": {
     "iopub.execute_input": "2022-01-28T22:07:48.207386Z",
     "iopub.status.busy": "2022-01-28T22:07:48.206692Z",
     "iopub.status.idle": "2022-01-28T22:07:48.209258Z",
     "shell.execute_reply": "2022-01-28T22:07:48.209764Z",
     "shell.execute_reply.started": "2022-01-28T21:21:03.185196Z"
    },
    "papermill": {
     "duration": 0.04609,
     "end_time": "2022-01-28T22:07:48.209943",
     "exception": false,
     "start_time": "2022-01-28T22:07:48.163853",
     "status": "completed"
    },
    "tags": []
   },
   "outputs": [
    {
     "data": {
      "text/plain": [
       "Pontiac      3837\n",
       "Toyota       3121\n",
       "Honda        2801\n",
       "Mazda        2354\n",
       "Chevrolet    1681\n",
       "Accura        472\n",
       "Ford          450\n",
       "VW            283\n",
       "Dodge         109\n",
       "Saab          108\n",
       "Name: Make, dtype: int64"
      ]
     },
     "execution_count": 15,
     "metadata": {},
     "output_type": "execute_result"
    }
   ],
   "source": [
    "n = 10\n",
    "ICD[\"Make\"].value_counts()[:n]"
   ]
  },
  {
   "cell_type": "markdown",
   "id": "4c038603",
   "metadata": {
    "papermill": {
     "duration": 0.033875,
     "end_time": "2022-01-28T22:07:48.278076",
     "exception": false,
     "start_time": "2022-01-28T22:07:48.244201",
     "status": "completed"
    },
    "tags": []
   },
   "source": [
    "The above list shows the 10 most common car makes that are listed on a claim. There appears to be 5 main makes that are in significantly more accidents than other makes. It may be possible to classify these as high risk makes. However, since these makes are very common they may just be more likely to be involved in accidents. "
   ]
  },
  {
   "cell_type": "code",
   "execution_count": 16,
   "id": "1ccb2e54",
   "metadata": {
    "execution": {
     "iopub.execute_input": "2022-01-28T22:07:48.356958Z",
     "iopub.status.busy": "2022-01-28T22:07:48.356026Z",
     "iopub.status.idle": "2022-01-28T22:07:48.359402Z",
     "shell.execute_reply": "2022-01-28T22:07:48.359922Z",
     "shell.execute_reply.started": "2022-01-28T21:21:03.197920Z"
    },
    "papermill": {
     "duration": 0.046937,
     "end_time": "2022-01-28T22:07:48.360096",
     "exception": false,
     "start_time": "2022-01-28T22:07:48.313159",
     "status": "completed"
    },
    "tags": []
   },
   "outputs": [
    {
     "data": {
      "text/plain": [
       "array(['3 years', '6 years', '7 years', 'more than 7', '5 years', 'new',\n",
       "       '4 years', '2 years'], dtype=object)"
      ]
     },
     "execution_count": 16,
     "metadata": {},
     "output_type": "execute_result"
    }
   ],
   "source": [
    "ICD.AgeOfVehicle.unique()"
   ]
  },
  {
   "cell_type": "code",
   "execution_count": 17,
   "id": "a899e26f",
   "metadata": {
    "execution": {
     "iopub.execute_input": "2022-01-28T22:07:48.435377Z",
     "iopub.status.busy": "2022-01-28T22:07:48.434399Z",
     "iopub.status.idle": "2022-01-28T22:07:48.779335Z",
     "shell.execute_reply": "2022-01-28T22:07:48.778749Z",
     "shell.execute_reply.started": "2022-01-28T21:21:03.209706Z"
    },
    "papermill": {
     "duration": 0.382831,
     "end_time": "2022-01-28T22:07:48.779496",
     "exception": false,
     "start_time": "2022-01-28T22:07:48.396665",
     "status": "completed"
    },
    "tags": []
   },
   "outputs": [
    {
     "data": {
      "text/plain": [
       "<seaborn.axisgrid.FacetGrid at 0x7f6caa6f0f90>"
      ]
     },
     "execution_count": 17,
     "metadata": {},
     "output_type": "execute_result"
    },
    {
     "data": {
      "image/png": "[encoded data removed]",
      "text/plain": [
       "<Figure size 360x360 with 1 Axes>"
      ]
     },
     "metadata": {
      "needs_background": "light"
     },
     "output_type": "display_data"
    }
   ],
   "source": [
    "sns.displot(y = ICD[\"AgeOfVehicle\"])"
   ]
  },
  {
   "cell_type": "markdown",
   "id": "5accbea9",
   "metadata": {
    "papermill": {
     "duration": 0.035515,
     "end_time": "2022-01-28T22:07:48.851619",
     "exception": false,
     "start_time": "2022-01-28T22:07:48.816104",
     "status": "completed"
    },
    "tags": []
   },
   "source": [
    "Here we see that most vehicles are 6 years or older."
   ]
  },
  {
   "cell_type": "code",
   "execution_count": 18,
   "id": "4aaff0b5",
   "metadata": {
    "execution": {
     "iopub.execute_input": "2022-01-28T22:07:48.957082Z",
     "iopub.status.busy": "2022-01-28T22:07:48.939229Z",
     "iopub.status.idle": "2022-01-28T22:07:49.249184Z",
     "shell.execute_reply": "2022-01-28T22:07:49.248547Z",
     "shell.execute_reply.started": "2022-01-28T21:21:03.527853Z"
    },
    "papermill": {
     "duration": 0.361087,
     "end_time": "2022-01-28T22:07:49.249325",
     "exception": false,
     "start_time": "2022-01-28T22:07:48.888238",
     "status": "completed"
    },
    "tags": []
   },
   "outputs": [
    {
     "data": {
      "text/plain": [
       "<seaborn.axisgrid.FacetGrid at 0x7f6caa643390>"
      ]
     },
     "execution_count": 18,
     "metadata": {},
     "output_type": "execute_result"
    },
    {
     "data": {
      "image/png": "[encoded data removed]",
      "text/plain": [
       "<Figure size 360x360 with 1 Axes>"
      ]
     },
     "metadata": {
      "needs_background": "light"
     },
     "output_type": "display_data"
    }
   ],
   "source": [
    "sns.displot(y = ICD[\"VehiclePrice\"])"
   ]
  },
  {
   "cell_type": "code",
   "execution_count": 19,
   "id": "28a34995",
   "metadata": {
    "execution": {
     "iopub.execute_input": "2022-01-28T22:07:49.329363Z",
     "iopub.status.busy": "2022-01-28T22:07:49.328448Z",
     "iopub.status.idle": "2022-01-28T22:07:49.332390Z",
     "shell.execute_reply": "2022-01-28T22:07:49.331860Z",
     "shell.execute_reply.started": "2022-01-28T21:21:03.828533Z"
    },
    "papermill": {
     "duration": 0.046297,
     "end_time": "2022-01-28T22:07:49.332558",
     "exception": false,
     "start_time": "2022-01-28T22:07:49.286261",
     "status": "completed"
    },
    "tags": []
   },
   "outputs": [
    {
     "data": {
      "text/plain": [
       "0.05985732814526589"
      ]
     },
     "execution_count": 19,
     "metadata": {},
     "output_type": "execute_result"
    }
   ],
   "source": [
    "ICD['FraudFound_P'].mean()"
   ]
  },
  {
   "cell_type": "markdown",
   "id": "0cddcf59",
   "metadata": {
    "papermill": {
     "duration": 0.038403,
     "end_time": "2022-01-28T22:07:49.409633",
     "exception": false,
     "start_time": "2022-01-28T22:07:49.371230",
     "status": "completed"
    },
    "tags": []
   },
   "source": [
    "In this dataset, about 6% of rows are classified as fraudulent claims."
   ]
  },
  {
   "cell_type": "code",
   "execution_count": 20,
   "id": "393e7782",
   "metadata": {
    "execution": {
     "iopub.execute_input": "2022-01-28T22:07:49.488872Z",
     "iopub.status.busy": "2022-01-28T22:07:49.487735Z",
     "iopub.status.idle": "2022-01-28T22:07:49.493745Z",
     "shell.execute_reply": "2022-01-28T22:07:49.494230Z",
     "shell.execute_reply.started": "2022-01-28T21:21:03.835607Z"
    },
    "papermill": {
     "duration": 0.047243,
     "end_time": "2022-01-28T22:07:49.494414",
     "exception": false,
     "start_time": "2022-01-28T22:07:49.447171",
     "status": "completed"
    },
    "tags": []
   },
   "outputs": [],
   "source": [
    "ICD['FraudFound_P'] = pd.Categorical(ICD.FraudFound_P)"
   ]
  },
  {
   "cell_type": "code",
   "execution_count": 21,
   "id": "dcdebb43",
   "metadata": {
    "execution": {
     "iopub.execute_input": "2022-01-28T22:07:49.575721Z",
     "iopub.status.busy": "2022-01-28T22:07:49.574660Z",
     "iopub.status.idle": "2022-01-28T22:07:50.914025Z",
     "shell.execute_reply": "2022-01-28T22:07:50.914551Z",
     "shell.execute_reply.started": "2022-01-28T22:06:48.350311Z"
    },
    "papermill": {
     "duration": 1.381633,
     "end_time": "2022-01-28T22:07:50.914724",
     "exception": false,
     "start_time": "2022-01-28T22:07:49.533091",
     "status": "completed"
    },
    "tags": []
   },
   "outputs": [
    {
     "data": {
      "text/plain": [
       "<AxesSubplot:xlabel='DriverRating', ylabel='Age'>"
      ]
     },
     "execution_count": 21,
     "metadata": {},
     "output_type": "execute_result"
    },
    {
     "data": {
      "image/png": "[encoded data removed]",
      "text/plain": [
       "<Figure size 432x288 with 1 Axes>"
      ]
     },
     "metadata": {
      "needs_background": "light"
     },
     "output_type": "display_data"
    }
   ],
   "source": [
    "sns.stripplot(x='DriverRating', y= 'Age', hue = 'FraudFound_P', data = ICD_filtered)"
   ]
  },
  {
   "cell_type": "markdown",
   "id": "1b2e3462",
   "metadata": {
    "papermill": {
     "duration": 0.038938,
     "end_time": "2022-01-28T22:07:50.994112",
     "exception": false,
     "start_time": "2022-01-28T22:07:50.955174",
     "status": "completed"
    },
    "tags": []
   },
   "source": [
    "This plot shows that fraud appears to be spread throughout all ages and driver ratings."
   ]
  },
  {
   "cell_type": "code",
   "execution_count": null,
   "id": "ecb0c53d",
   "metadata": {
    "papermill": {
     "duration": 0.039922,
     "end_time": "2022-01-28T22:07:51.075127",
     "exception": false,
     "start_time": "2022-01-28T22:07:51.035205",
     "status": "completed"
    },
    "tags": []
   },
   "outputs": [],
   "source": []
  }
 ],
 "metadata": {
  "kernelspec": {
   "display_name": "Python 3",
   "language": "python",
   "name": "python3"
  },
  "language_info": {
   "codemirror_mode": {
    "name": "ipython",
    "version": 3
   },
   "file_extension": ".py",
   "mimetype": "text/x-python",
   "name": "python",
   "nbconvert_exporter": "python",
   "pygments_lexer": "ipython3",
   "version": "3.7.12"
  },
  "papermill": {
   "default_parameters": {},
   "duration": 19.818159,
   "end_time": "2022-01-28T22:07:51.826143",
   "environment_variables": {},
   "exception": null,
   "input_path": "__notebook__.ipynb",
   "output_path": "__notebook__.ipynb",
   "parameters": {},
   "start_time": "2022-01-28T22:07:32.007984",
   "version": "2.3.3"
  }
 },
 "nbformat": 4,
 "nbformat_minor": 5
}
