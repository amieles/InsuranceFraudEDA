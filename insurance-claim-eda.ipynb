{
 "cells": [
  {
   "cell_type": "markdown",
   "id": "8a47347c",
   "metadata": {
    "papermill": {
     "duration": 0.023475,
     "end_time": "2022-01-14T01:35:19.972428",
     "exception": false,
     "start_time": "2022-01-14T01:35:19.948953",
     "status": "completed"
    },
    "tags": []
   },
   "source": [
    "# Vehicle Insurance Claim EDA\n",
    "This is an exploratory analysis of vehicle insurance claim data. Each row in this dataset represents an individual insurace claim.\n",
    "In this analysis, I will look for interesting patterns and insights in the data set. Ultimately, the goal is to predict whether a claim is fraud (FraudFound_P)or not based on other variables, but in this analysis, I will only be taking the beginning steps of data exploaration. Some questions that I would like to explore in this analysis are: \n",
    "* Who files vehicle insurance claims?\n",
    "* When are these claims most likely to be filed?\n",
    "\n",
    "<br /> The first step is to import the appropriate packages for this analysis."
   ]
  },
  {
   "cell_type": "code",
   "execution_count": 1,
   "id": "bdf083c1",
   "metadata": {
    "_cell_guid": "b1076dfc-b9ad-4769-8c92-a6c4dae69d19",
    "_uuid": "8f2839f25d086af736a60e9eeb907d3b93b6e0e5",
    "execution": {
     "iopub.execute_input": "2022-01-14T01:35:20.024921Z",
     "iopub.status.busy": "2022-01-14T01:35:20.023045Z",
     "iopub.status.idle": "2022-01-14T01:35:21.173106Z",
     "shell.execute_reply": "2022-01-14T01:35:21.172329Z",
     "shell.execute_reply.started": "2022-01-13T23:10:16.705866Z"
    },
    "papermill": {
     "duration": 1.177471,
     "end_time": "2022-01-14T01:35:21.173290",
     "exception": false,
     "start_time": "2022-01-14T01:35:19.995819",
     "status": "completed"
    },
    "tags": []
   },
   "outputs": [],
   "source": [
    "import pandas as pd #\n",
    "pd.plotting.register_matplotlib_converters()\n",
    "import numpy as np  #linear algebra and transformations\n",
    "import seaborn as sns  #visualization\n",
    "import matplotlib.pyplot as plt\n",
    "%matplotlib inline"
   ]
  },
  {
   "cell_type": "markdown",
   "id": "535808f5",
   "metadata": {
    "papermill": {
     "duration": 0.021649,
     "end_time": "2022-01-14T01:35:21.217621",
     "exception": false,
     "start_time": "2022-01-14T01:35:21.195972",
     "status": "completed"
    },
    "tags": []
   },
   "source": [
    "Read in the data using pandas."
   ]
  },
  {
   "cell_type": "code",
   "execution_count": 2,
   "id": "61a503d3",
   "metadata": {
    "execution": {
     "iopub.execute_input": "2022-01-14T01:35:21.268411Z",
     "iopub.status.busy": "2022-01-14T01:35:21.267711Z",
     "iopub.status.idle": "2022-01-14T01:35:21.432008Z",
     "shell.execute_reply": "2022-01-14T01:35:21.431259Z",
     "shell.execute_reply.started": "2022-01-13T23:10:17.7892Z"
    },
    "papermill": {
     "duration": 0.191977,
     "end_time": "2022-01-14T01:35:21.432164",
     "exception": false,
     "start_time": "2022-01-14T01:35:21.240187",
     "status": "completed"
    },
    "tags": []
   },
   "outputs": [],
   "source": [
    "file_path = \"../input/vehicle-claim-fraud-detection/fraud_oracle.csv\"\n",
    "ICD = pd.read_csv(file_path)"
   ]
  },
  {
   "cell_type": "markdown",
   "id": "b7c478ee",
   "metadata": {
    "papermill": {
     "duration": 0.023879,
     "end_time": "2022-01-14T01:35:21.479477",
     "exception": false,
     "start_time": "2022-01-14T01:35:21.455598",
     "status": "completed"
    },
    "tags": []
   },
   "source": [
    "Get an idea of the size of the dataset. In this case it has 15420 rows and 33 columns."
   ]
  },
  {
   "cell_type": "code",
   "execution_count": 3,
   "id": "40aaf351",
   "metadata": {
    "execution": {
     "iopub.execute_input": "2022-01-14T01:35:21.532615Z",
     "iopub.status.busy": "2022-01-14T01:35:21.531795Z",
     "iopub.status.idle": "2022-01-14T01:35:21.535694Z",
     "shell.execute_reply": "2022-01-14T01:35:21.536216Z",
     "shell.execute_reply.started": "2022-01-13T23:10:17.943534Z"
    },
    "papermill": {
     "duration": 0.034875,
     "end_time": "2022-01-14T01:35:21.536415",
     "exception": false,
     "start_time": "2022-01-14T01:35:21.501540",
     "status": "completed"
    },
    "tags": []
   },
   "outputs": [
    {
     "data": {
      "text/plain": [
       "(15420, 33)"
      ]
     },
     "execution_count": 3,
     "metadata": {},
     "output_type": "execute_result"
    }
   ],
   "source": [
    "ICD.shape"
   ]
  },
  {
   "cell_type": "markdown",
   "id": "eee0b6ac",
   "metadata": {
    "papermill": {
     "duration": 0.022009,
     "end_time": "2022-01-14T01:35:21.581498",
     "exception": false,
     "start_time": "2022-01-14T01:35:21.559489",
     "status": "completed"
    },
    "tags": []
   },
   "source": [
    "Take a look at the first 5 rows of the dataset. In this case, we can see that some columns are left out."
   ]
  },
  {
   "cell_type": "code",
   "execution_count": 4,
   "id": "7df6aee5",
   "metadata": {
    "execution": {
     "iopub.execute_input": "2022-01-14T01:35:21.636662Z",
     "iopub.status.busy": "2022-01-14T01:35:21.635809Z",
     "iopub.status.idle": "2022-01-14T01:35:21.664930Z",
     "shell.execute_reply": "2022-01-14T01:35:21.665392Z",
     "shell.execute_reply.started": "2022-01-13T23:10:17.954448Z"
    },
    "papermill": {
     "duration": 0.061161,
     "end_time": "2022-01-14T01:35:21.665573",
     "exception": false,
     "start_time": "2022-01-14T01:35:21.604412",
     "status": "completed"
    },
    "tags": []
   },
   "outputs": [
    {
     "data": {
      "text/html": [
       "<div>\n",
       "<style scoped>\n",
       "    .dataframe tbody tr th:only-of-type {\n",
       "        vertical-align: middle;\n",
       "    }\n",
       "\n",
       "    .dataframe tbody tr th {\n",
       "        vertical-align: top;\n",
       "    }\n",
       "\n",
       "    .dataframe thead th {\n",
       "        text-align: right;\n",
       "    }\n",
       "</style>\n",
       "<table border=\"1\" class=\"dataframe\">\n",
       "  <thead>\n",
       "    <tr style=\"text-align: right;\">\n",
       "      <th></th>\n",
       "      <th>Month</th>\n",
       "      <th>WeekOfMonth</th>\n",
       "      <th>DayOfWeek</th>\n",
       "      <th>Make</th>\n",
       "      <th>AccidentArea</th>\n",
       "      <th>DayOfWeekClaimed</th>\n",
       "      <th>MonthClaimed</th>\n",
       "      <th>WeekOfMonthClaimed</th>\n",
       "      <th>Sex</th>\n",
       "      <th>MaritalStatus</th>\n",
       "      <th>...</th>\n",
       "      <th>AgeOfVehicle</th>\n",
       "      <th>AgeOfPolicyHolder</th>\n",
       "      <th>PoliceReportFiled</th>\n",
       "      <th>WitnessPresent</th>\n",
       "      <th>AgentType</th>\n",
       "      <th>NumberOfSuppliments</th>\n",
       "      <th>AddressChange_Claim</th>\n",
       "      <th>NumberOfCars</th>\n",
       "      <th>Year</th>\n",
       "      <th>BasePolicy</th>\n",
       "    </tr>\n",
       "  </thead>\n",
       "  <tbody>\n",
       "    <tr>\n",
       "      <th>0</th>\n",
       "      <td>Dec</td>\n",
       "      <td>5</td>\n",
       "      <td>Wednesday</td>\n",
       "      <td>Honda</td>\n",
       "      <td>Urban</td>\n",
       "      <td>Tuesday</td>\n",
       "      <td>Jan</td>\n",
       "      <td>1</td>\n",
       "      <td>Female</td>\n",
       "      <td>Single</td>\n",
       "      <td>...</td>\n",
       "      <td>3 years</td>\n",
       "      <td>26 to 30</td>\n",
       "      <td>No</td>\n",
       "      <td>No</td>\n",
       "      <td>External</td>\n",
       "      <td>none</td>\n",
       "      <td>1 year</td>\n",
       "      <td>3 to 4</td>\n",
       "      <td>1994</td>\n",
       "      <td>Liability</td>\n",
       "    </tr>\n",
       "    <tr>\n",
       "      <th>1</th>\n",
       "      <td>Jan</td>\n",
       "      <td>3</td>\n",
       "      <td>Wednesday</td>\n",
       "      <td>Honda</td>\n",
       "      <td>Urban</td>\n",
       "      <td>Monday</td>\n",
       "      <td>Jan</td>\n",
       "      <td>4</td>\n",
       "      <td>Male</td>\n",
       "      <td>Single</td>\n",
       "      <td>...</td>\n",
       "      <td>6 years</td>\n",
       "      <td>31 to 35</td>\n",
       "      <td>Yes</td>\n",
       "      <td>No</td>\n",
       "      <td>External</td>\n",
       "      <td>none</td>\n",
       "      <td>no change</td>\n",
       "      <td>1 vehicle</td>\n",
       "      <td>1994</td>\n",
       "      <td>Collision</td>\n",
       "    </tr>\n",
       "    <tr>\n",
       "      <th>2</th>\n",
       "      <td>Oct</td>\n",
       "      <td>5</td>\n",
       "      <td>Friday</td>\n",
       "      <td>Honda</td>\n",
       "      <td>Urban</td>\n",
       "      <td>Thursday</td>\n",
       "      <td>Nov</td>\n",
       "      <td>2</td>\n",
       "      <td>Male</td>\n",
       "      <td>Married</td>\n",
       "      <td>...</td>\n",
       "      <td>7 years</td>\n",
       "      <td>41 to 50</td>\n",
       "      <td>No</td>\n",
       "      <td>No</td>\n",
       "      <td>External</td>\n",
       "      <td>none</td>\n",
       "      <td>no change</td>\n",
       "      <td>1 vehicle</td>\n",
       "      <td>1994</td>\n",
       "      <td>Collision</td>\n",
       "    </tr>\n",
       "    <tr>\n",
       "      <th>3</th>\n",
       "      <td>Jun</td>\n",
       "      <td>2</td>\n",
       "      <td>Saturday</td>\n",
       "      <td>Toyota</td>\n",
       "      <td>Rural</td>\n",
       "      <td>Friday</td>\n",
       "      <td>Jul</td>\n",
       "      <td>1</td>\n",
       "      <td>Male</td>\n",
       "      <td>Married</td>\n",
       "      <td>...</td>\n",
       "      <td>more than 7</td>\n",
       "      <td>51 to 65</td>\n",
       "      <td>Yes</td>\n",
       "      <td>No</td>\n",
       "      <td>External</td>\n",
       "      <td>more than 5</td>\n",
       "      <td>no change</td>\n",
       "      <td>1 vehicle</td>\n",
       "      <td>1994</td>\n",
       "      <td>Liability</td>\n",
       "    </tr>\n",
       "    <tr>\n",
       "      <th>4</th>\n",
       "      <td>Jan</td>\n",
       "      <td>5</td>\n",
       "      <td>Monday</td>\n",
       "      <td>Honda</td>\n",
       "      <td>Urban</td>\n",
       "      <td>Tuesday</td>\n",
       "      <td>Feb</td>\n",
       "      <td>2</td>\n",
       "      <td>Female</td>\n",
       "      <td>Single</td>\n",
       "      <td>...</td>\n",
       "      <td>5 years</td>\n",
       "      <td>31 to 35</td>\n",
       "      <td>No</td>\n",
       "      <td>No</td>\n",
       "      <td>External</td>\n",
       "      <td>none</td>\n",
       "      <td>no change</td>\n",
       "      <td>1 vehicle</td>\n",
       "      <td>1994</td>\n",
       "      <td>Collision</td>\n",
       "    </tr>\n",
       "  </tbody>\n",
       "</table>\n",
       "<p>5 rows × 33 columns</p>\n",
       "</div>"
      ],
      "text/plain": [
       "  Month  WeekOfMonth  DayOfWeek    Make AccidentArea DayOfWeekClaimed  \\\n",
       "0   Dec            5  Wednesday   Honda        Urban          Tuesday   \n",
       "1   Jan            3  Wednesday   Honda        Urban           Monday   \n",
       "2   Oct            5     Friday   Honda        Urban         Thursday   \n",
       "3   Jun            2   Saturday  Toyota        Rural           Friday   \n",
       "4   Jan            5     Monday   Honda        Urban          Tuesday   \n",
       "\n",
       "  MonthClaimed  WeekOfMonthClaimed     Sex MaritalStatus  ...  AgeOfVehicle  \\\n",
       "0          Jan                   1  Female        Single  ...       3 years   \n",
       "1          Jan                   4    Male        Single  ...       6 years   \n",
       "2          Nov                   2    Male       Married  ...       7 years   \n",
       "3          Jul                   1    Male       Married  ...   more than 7   \n",
       "4          Feb                   2  Female        Single  ...       5 years   \n",
       "\n",
       "  AgeOfPolicyHolder PoliceReportFiled WitnessPresent AgentType  \\\n",
       "0          26 to 30                No             No  External   \n",
       "1          31 to 35               Yes             No  External   \n",
       "2          41 to 50                No             No  External   \n",
       "3          51 to 65               Yes             No  External   \n",
       "4          31 to 35                No             No  External   \n",
       "\n",
       "   NumberOfSuppliments  AddressChange_Claim  NumberOfCars  Year  BasePolicy  \n",
       "0                 none               1 year        3 to 4  1994   Liability  \n",
       "1                 none            no change     1 vehicle  1994   Collision  \n",
       "2                 none            no change     1 vehicle  1994   Collision  \n",
       "3          more than 5            no change     1 vehicle  1994   Liability  \n",
       "4                 none            no change     1 vehicle  1994   Collision  \n",
       "\n",
       "[5 rows x 33 columns]"
      ]
     },
     "execution_count": 4,
     "metadata": {},
     "output_type": "execute_result"
    }
   ],
   "source": [
    "ICD.head()"
   ]
  },
  {
   "cell_type": "markdown",
   "id": "e13d58c3",
   "metadata": {
    "papermill": {
     "duration": 0.022862,
     "end_time": "2022-01-14T01:35:21.713738",
     "exception": false,
     "start_time": "2022-01-14T01:35:21.690876",
     "status": "completed"
    },
    "tags": []
   },
   "source": [
    "List the names of all columns and see what types they are."
   ]
  },
  {
   "cell_type": "code",
   "execution_count": 5,
   "id": "11d2455f",
   "metadata": {
    "execution": {
     "iopub.execute_input": "2022-01-14T01:35:21.763804Z",
     "iopub.status.busy": "2022-01-14T01:35:21.763143Z",
     "iopub.status.idle": "2022-01-14T01:35:21.830961Z",
     "shell.execute_reply": "2022-01-14T01:35:21.831546Z",
     "shell.execute_reply.started": "2022-01-13T23:10:18.000945Z"
    },
    "papermill": {
     "duration": 0.094575,
     "end_time": "2022-01-14T01:35:21.831723",
     "exception": false,
     "start_time": "2022-01-14T01:35:21.737148",
     "status": "completed"
    },
    "tags": []
   },
   "outputs": [
    {
     "name": "stdout",
     "output_type": "stream",
     "text": [
      "<class 'pandas.core.frame.DataFrame'>\n",
      "RangeIndex: 15420 entries, 0 to 15419\n",
      "Data columns (total 33 columns):\n",
      " #   Column                Non-Null Count  Dtype \n",
      "---  ------                --------------  ----- \n",
      " 0   Month                 15420 non-null  object\n",
      " 1   WeekOfMonth           15420 non-null  int64 \n",
      " 2   DayOfWeek             15420 non-null  object\n",
      " 3   Make                  15420 non-null  object\n",
      " 4   AccidentArea          15420 non-null  object\n",
      " 5   DayOfWeekClaimed      15420 non-null  object\n",
      " 6   MonthClaimed          15420 non-null  object\n",
      " 7   WeekOfMonthClaimed    15420 non-null  int64 \n",
      " 8   Sex                   15420 non-null  object\n",
      " 9   MaritalStatus         15420 non-null  object\n",
      " 10  Age                   15420 non-null  int64 \n",
      " 11  Fault                 15420 non-null  object\n",
      " 12  PolicyType            15420 non-null  object\n",
      " 13  VehicleCategory       15420 non-null  object\n",
      " 14  VehiclePrice          15420 non-null  object\n",
      " 15  FraudFound_P          15420 non-null  int64 \n",
      " 16  PolicyNumber          15420 non-null  int64 \n",
      " 17  RepNumber             15420 non-null  int64 \n",
      " 18  Deductible            15420 non-null  int64 \n",
      " 19  DriverRating          15420 non-null  int64 \n",
      " 20  Days_Policy_Accident  15420 non-null  object\n",
      " 21  Days_Policy_Claim     15420 non-null  object\n",
      " 22  PastNumberOfClaims    15420 non-null  object\n",
      " 23  AgeOfVehicle          15420 non-null  object\n",
      " 24  AgeOfPolicyHolder     15420 non-null  object\n",
      " 25  PoliceReportFiled     15420 non-null  object\n",
      " 26  WitnessPresent        15420 non-null  object\n",
      " 27  AgentType             15420 non-null  object\n",
      " 28  NumberOfSuppliments   15420 non-null  object\n",
      " 29  AddressChange_Claim   15420 non-null  object\n",
      " 30  NumberOfCars          15420 non-null  object\n",
      " 31  Year                  15420 non-null  int64 \n",
      " 32  BasePolicy            15420 non-null  object\n",
      "dtypes: int64(9), object(24)\n",
      "memory usage: 3.9+ MB\n"
     ]
    }
   ],
   "source": [
    "ICD.info()"
   ]
  },
  {
   "cell_type": "markdown",
   "id": "e5440c1a",
   "metadata": {
    "papermill": {
     "duration": 0.023076,
     "end_time": "2022-01-14T01:35:21.878439",
     "exception": false,
     "start_time": "2022-01-14T01:35:21.855363",
     "status": "completed"
    },
    "tags": []
   },
   "source": [
    "It is unlikely that I will use all of these columns to answer my questions, but it is good to have an idea of what information is available to use.\n",
    "<br /> I will begin by answering the question of who files insurance claims, which may also answer who is likely to get into acidents.\n",
    "For the numeric variables, we can get some quick summary statistics."
   ]
  },
  {
   "cell_type": "code",
   "execution_count": 6,
   "id": "694f19e4",
   "metadata": {
    "execution": {
     "iopub.execute_input": "2022-01-14T01:35:21.929710Z",
     "iopub.status.busy": "2022-01-14T01:35:21.929059Z",
     "iopub.status.idle": "2022-01-14T01:35:21.944800Z",
     "shell.execute_reply": "2022-01-14T01:35:21.945419Z",
     "shell.execute_reply.started": "2022-01-13T23:10:18.06992Z"
    },
    "papermill": {
     "duration": 0.043512,
     "end_time": "2022-01-14T01:35:21.945595",
     "exception": false,
     "start_time": "2022-01-14T01:35:21.902083",
     "status": "completed"
    },
    "tags": []
   },
   "outputs": [
    {
     "data": {
      "text/html": [
       "<div>\n",
       "<style scoped>\n",
       "    .dataframe tbody tr th:only-of-type {\n",
       "        vertical-align: middle;\n",
       "    }\n",
       "\n",
       "    .dataframe tbody tr th {\n",
       "        vertical-align: top;\n",
       "    }\n",
       "\n",
       "    .dataframe thead th {\n",
       "        text-align: right;\n",
       "    }\n",
       "</style>\n",
       "<table border=\"1\" class=\"dataframe\">\n",
       "  <thead>\n",
       "    <tr style=\"text-align: right;\">\n",
       "      <th></th>\n",
       "      <th>Age</th>\n",
       "      <th>Deductible</th>\n",
       "      <th>DriverRating</th>\n",
       "    </tr>\n",
       "  </thead>\n",
       "  <tbody>\n",
       "    <tr>\n",
       "      <th>min</th>\n",
       "      <td>0.000000</td>\n",
       "      <td>300.00000</td>\n",
       "      <td>1.000000</td>\n",
       "    </tr>\n",
       "    <tr>\n",
       "      <th>max</th>\n",
       "      <td>80.000000</td>\n",
       "      <td>700.00000</td>\n",
       "      <td>4.000000</td>\n",
       "    </tr>\n",
       "    <tr>\n",
       "      <th>median</th>\n",
       "      <td>38.000000</td>\n",
       "      <td>400.00000</td>\n",
       "      <td>2.000000</td>\n",
       "    </tr>\n",
       "    <tr>\n",
       "      <th>mean</th>\n",
       "      <td>39.855707</td>\n",
       "      <td>407.70428</td>\n",
       "      <td>2.487808</td>\n",
       "    </tr>\n",
       "  </tbody>\n",
       "</table>\n",
       "</div>"
      ],
      "text/plain": [
       "              Age  Deductible  DriverRating\n",
       "min      0.000000   300.00000      1.000000\n",
       "max     80.000000   700.00000      4.000000\n",
       "median  38.000000   400.00000      2.000000\n",
       "mean    39.855707   407.70428      2.487808"
      ]
     },
     "execution_count": 6,
     "metadata": {},
     "output_type": "execute_result"
    }
   ],
   "source": [
    "ICD.agg(\n",
    "    {\n",
    "        'Age': [\"min\", \"max\", \"median\", \"mean\"],\n",
    "        'Deductible': [\"min\", \"max\", \"median\", \"mean\"],\n",
    "        'DriverRating': [\"min\", \"max\", \"median\", \"mean\"],\n",
    "    }\n",
    ")\n"
   ]
  },
  {
   "cell_type": "markdown",
   "id": "8fdd0b7f",
   "metadata": {
    "papermill": {
     "duration": 0.028806,
     "end_time": "2022-01-14T01:35:21.999870",
     "exception": false,
     "start_time": "2022-01-14T01:35:21.971064",
     "status": "completed"
    },
    "tags": []
   },
   "source": [
    "This table gives a good quick glance at the averages and range of these three variables. "
   ]
  },
  {
   "cell_type": "code",
   "execution_count": 7,
   "id": "913449e1",
   "metadata": {
    "execution": {
     "iopub.execute_input": "2022-01-14T01:35:22.072679Z",
     "iopub.status.busy": "2022-01-14T01:35:22.070354Z",
     "iopub.status.idle": "2022-01-14T01:35:22.737697Z",
     "shell.execute_reply": "2022-01-14T01:35:22.738615Z",
     "shell.execute_reply.started": "2022-01-13T23:14:13.180586Z"
    },
    "papermill": {
     "duration": 0.708276,
     "end_time": "2022-01-14T01:35:22.738883",
     "exception": false,
     "start_time": "2022-01-14T01:35:22.030607",
     "status": "completed"
    },
    "tags": []
   },
   "outputs": [
    {
     "data": {
      "text/plain": [
       "Text(0.5, 1.0, 'Age Distribution')"
      ]
     },
     "execution_count": 7,
     "metadata": {},
     "output_type": "execute_result"
    },
    {
     "data": {
      "image/png": "[encoded data removed]",
      "text/plain": [
       "<Figure size 360x360 with 1 Axes>"
      ]
     },
     "metadata": {
      "needs_background": "light"
     },
     "output_type": "display_data"
    }
   ],
   "source": [
    "sns.displot(ICD['Age'], kde = True)\n",
    "plt.title(\"Age Distribution\")"
   ]
  },
  {
   "cell_type": "markdown",
   "id": "e6932a84",
   "metadata": {
    "papermill": {
     "duration": 0.025317,
     "end_time": "2022-01-14T01:35:22.797541",
     "exception": false,
     "start_time": "2022-01-14T01:35:22.772224",
     "status": "completed"
    },
    "tags": []
   },
   "source": [
    "The age distribution appears to be slightly skewed to the right. There are also around 300 cases where the age is listed as 0, which is surely an error."
   ]
  },
  {
   "cell_type": "code",
   "execution_count": 8,
   "id": "c193b2dc",
   "metadata": {
    "execution": {
     "iopub.execute_input": "2022-01-14T01:35:22.858574Z",
     "iopub.status.busy": "2022-01-14T01:35:22.857617Z",
     "iopub.status.idle": "2022-01-14T01:35:23.172617Z",
     "shell.execute_reply": "2022-01-14T01:35:23.173302Z",
     "shell.execute_reply.started": "2022-01-13T23:16:25.2379Z"
    },
    "papermill": {
     "duration": 0.350152,
     "end_time": "2022-01-14T01:35:23.173479",
     "exception": false,
     "start_time": "2022-01-14T01:35:22.823327",
     "status": "completed"
    },
    "tags": []
   },
   "outputs": [
    {
     "data": {
      "text/plain": [
       "Text(0.5, 1.0, 'Deductible Distribution')"
      ]
     },
     "execution_count": 8,
     "metadata": {},
     "output_type": "execute_result"
    },
    {
     "data": {
      "image/png": "[encoded data removed]",
      "text/plain": [
       "<Figure size 360x360 with 1 Axes>"
      ]
     },
     "metadata": {
      "needs_background": "light"
     },
     "output_type": "display_data"
    }
   ],
   "source": [
    "sns.displot(ICD['Deductible'], kde = False)\n",
    "plt.title(\"Deductible Distribution\")"
   ]
  },
  {
   "cell_type": "markdown",
   "id": "39f8f58a",
   "metadata": {
    "papermill": {
     "duration": 0.02649,
     "end_time": "2022-01-14T01:35:23.226110",
     "exception": false,
     "start_time": "2022-01-14T01:35:23.199620",
     "status": "completed"
    },
    "tags": []
   },
   "source": [
    "Note: The vast majority of deductibles are 400 with more rare cases of 500 and 675."
   ]
  },
  {
   "cell_type": "code",
   "execution_count": 9,
   "id": "6f93ed10",
   "metadata": {
    "execution": {
     "iopub.execute_input": "2022-01-14T01:35:23.294326Z",
     "iopub.status.busy": "2022-01-14T01:35:23.289499Z",
     "iopub.status.idle": "2022-01-14T01:35:23.674072Z",
     "shell.execute_reply": "2022-01-14T01:35:23.673405Z",
     "shell.execute_reply.started": "2022-01-13T23:55:33.286912Z"
    },
    "papermill": {
     "duration": 0.421267,
     "end_time": "2022-01-14T01:35:23.674227",
     "exception": false,
     "start_time": "2022-01-14T01:35:23.252960",
     "status": "completed"
    },
    "tags": []
   },
   "outputs": [
    {
     "data": {
      "text/plain": [
       "Text(0.5, 1.0, 'DriverRating Distribution')"
      ]
     },
     "execution_count": 9,
     "metadata": {},
     "output_type": "execute_result"
    },
    {
     "data": {
      "image/png": "[encoded data removed]",
      "text/plain": [
       "<Figure size 360x360 with 1 Axes>"
      ]
     },
     "metadata": {
      "needs_background": "light"
     },
     "output_type": "display_data"
    }
   ],
   "source": [
    "sns.displot(ICD['DriverRating'], kde = False)\n",
    "plt.title(\"DriverRating Distribution\")\n"
   ]
  },
  {
   "cell_type": "markdown",
   "id": "8d262ff9",
   "metadata": {
    "papermill": {
     "duration": 0.027918,
     "end_time": "2022-01-14T01:35:23.730245",
     "exception": false,
     "start_time": "2022-01-14T01:35:23.702327",
     "status": "completed"
    },
    "tags": []
   },
   "source": [
    "It appears that driver ratings follow a fairly uniform distribution. This is interesting, as you would think that drivers with a higher rating would be in less accidents and file less claims, which is only the case by a close margin. Below are the exact counts for each rating."
   ]
  },
  {
   "cell_type": "code",
   "execution_count": 10,
   "id": "1a3b268e",
   "metadata": {
    "execution": {
     "iopub.execute_input": "2022-01-14T01:35:23.796490Z",
     "iopub.status.busy": "2022-01-14T01:35:23.795314Z",
     "iopub.status.idle": "2022-01-14T01:35:23.801417Z",
     "shell.execute_reply": "2022-01-14T01:35:23.801934Z",
     "shell.execute_reply.started": "2022-01-13T23:50:56.167783Z"
    },
    "papermill": {
     "duration": 0.041746,
     "end_time": "2022-01-14T01:35:23.802126",
     "exception": false,
     "start_time": "2022-01-14T01:35:23.760380",
     "status": "completed"
    },
    "tags": []
   },
   "outputs": [
    {
     "data": {
      "text/plain": [
       "DriverRating\n",
       "1    3944\n",
       "2    3801\n",
       "3    3884\n",
       "4    3791\n",
       "Name: DriverRating, dtype: int64"
      ]
     },
     "execution_count": 10,
     "metadata": {},
     "output_type": "execute_result"
    }
   ],
   "source": [
    "ICD.groupby(\"DriverRating\").DriverRating.count()"
   ]
  },
  {
   "cell_type": "code",
   "execution_count": 11,
   "id": "6bd1c595",
   "metadata": {
    "execution": {
     "iopub.execute_input": "2022-01-14T01:35:23.863962Z",
     "iopub.status.busy": "2022-01-14T01:35:23.862834Z",
     "iopub.status.idle": "2022-01-14T01:35:24.261495Z",
     "shell.execute_reply": "2022-01-14T01:35:24.260987Z",
     "shell.execute_reply.started": "2022-01-13T23:28:03.207949Z"
    },
    "papermill": {
     "duration": 0.430553,
     "end_time": "2022-01-14T01:35:24.261637",
     "exception": false,
     "start_time": "2022-01-14T01:35:23.831084",
     "status": "completed"
    },
    "tags": []
   },
   "outputs": [
    {
     "data": {
      "text/plain": [
       "<seaborn.axisgrid.FacetGrid at 0x7f1f906b4890>"
      ]
     },
     "execution_count": 11,
     "metadata": {},
     "output_type": "execute_result"
    },
    {
     "data": {
      "image/png": "[encoded data removed]",
      "text/plain": [
       "<Figure size 360x360 with 1 Axes>"
      ]
     },
     "metadata": {
      "needs_background": "light"
     },
     "output_type": "display_data"
    }
   ],
   "source": [
    "sns.displot(data = ICD['Month'])"
   ]
  },
  {
   "cell_type": "markdown",
   "id": "8246fdac",
   "metadata": {
    "papermill": {
     "duration": 0.028511,
     "end_time": "2022-01-14T01:35:24.319022",
     "exception": false,
     "start_time": "2022-01-14T01:35:24.290511",
     "status": "completed"
    },
    "tags": []
   },
   "source": [
    "The most accidents occur in January, May, and March, respectively. This distribution is almost uniform."
   ]
  },
  {
   "cell_type": "code",
   "execution_count": 12,
   "id": "93d6d38f",
   "metadata": {
    "execution": {
     "iopub.execute_input": "2022-01-14T01:35:24.390448Z",
     "iopub.status.busy": "2022-01-14T01:35:24.389351Z",
     "iopub.status.idle": "2022-01-14T01:35:24.731714Z",
     "shell.execute_reply": "2022-01-14T01:35:24.731033Z",
     "shell.execute_reply.started": "2022-01-13T23:39:15.425741Z"
    },
    "papermill": {
     "duration": 0.383967,
     "end_time": "2022-01-14T01:35:24.731903",
     "exception": false,
     "start_time": "2022-01-14T01:35:24.347936",
     "status": "completed"
    },
    "tags": []
   },
   "outputs": [
    {
     "data": {
      "text/plain": [
       "<seaborn.axisgrid.FacetGrid at 0x7f1f83e91390>"
      ]
     },
     "execution_count": 12,
     "metadata": {},
     "output_type": "execute_result"
    },
    {
     "data": {
      "image/png": "[encoded data removed]",
      "text/plain": [
       "<Figure size 360x360 with 1 Axes>"
      ]
     },
     "metadata": {
      "needs_background": "light"
     },
     "output_type": "display_data"
    }
   ],
   "source": [
    "sns.displot(y = ICD['DayOfWeekClaimed'])"
   ]
  },
  {
   "cell_type": "markdown",
   "id": "f79400d7",
   "metadata": {
    "papermill": {
     "duration": 0.029621,
     "end_time": "2022-01-14T01:35:24.791648",
     "exception": false,
     "start_time": "2022-01-14T01:35:24.762027",
     "status": "completed"
    },
    "tags": []
   },
   "source": [
    "Most claims are made on Monday, followed by Tuesday."
   ]
  },
  {
   "cell_type": "code",
   "execution_count": 13,
   "id": "e9e51b2a",
   "metadata": {
    "execution": {
     "iopub.execute_input": "2022-01-14T01:35:24.856538Z",
     "iopub.status.busy": "2022-01-14T01:35:24.855862Z",
     "iopub.status.idle": "2022-01-14T01:35:24.865287Z",
     "shell.execute_reply": "2022-01-14T01:35:24.865854Z",
     "shell.execute_reply.started": "2022-01-14T00:02:59.401551Z"
    },
    "papermill": {
     "duration": 0.044025,
     "end_time": "2022-01-14T01:35:24.866035",
     "exception": false,
     "start_time": "2022-01-14T01:35:24.822010",
     "status": "completed"
    },
    "tags": []
   },
   "outputs": [
    {
     "data": {
      "text/plain": [
       "Pontiac      3837\n",
       "Toyota       3121\n",
       "Honda        2801\n",
       "Mazda        2354\n",
       "Chevrolet    1681\n",
       "Accura        472\n",
       "Ford          450\n",
       "VW            283\n",
       "Dodge         109\n",
       "Saab          108\n",
       "Name: Make, dtype: int64"
      ]
     },
     "execution_count": 13,
     "metadata": {},
     "output_type": "execute_result"
    }
   ],
   "source": [
    "n = 10\n",
    "ICD[\"Make\"].value_counts()[:n]"
   ]
  },
  {
   "cell_type": "markdown",
   "id": "2129fc0b",
   "metadata": {
    "papermill": {
     "duration": 0.030155,
     "end_time": "2022-01-14T01:35:24.926354",
     "exception": false,
     "start_time": "2022-01-14T01:35:24.896199",
     "status": "completed"
    },
    "tags": []
   },
   "source": [
    "The above list shows the 10 most common car makes that are listed on a claim. There appear to be 5 main makes that are in significantly more accidents than other makes. It may be possible to classify these as high risk makes. However, since these makes are very common they may just be more likely to be involved in accidents. "
   ]
  },
  {
   "cell_type": "code",
   "execution_count": 14,
   "id": "b71c86d6",
   "metadata": {
    "execution": {
     "iopub.execute_input": "2022-01-14T01:35:24.991946Z",
     "iopub.status.busy": "2022-01-14T01:35:24.991189Z",
     "iopub.status.idle": "2022-01-14T01:35:24.999001Z",
     "shell.execute_reply": "2022-01-14T01:35:24.999679Z",
     "shell.execute_reply.started": "2022-01-14T00:59:06.615055Z"
    },
    "papermill": {
     "duration": 0.042548,
     "end_time": "2022-01-14T01:35:24.999888",
     "exception": false,
     "start_time": "2022-01-14T01:35:24.957340",
     "status": "completed"
    },
    "tags": []
   },
   "outputs": [
    {
     "data": {
      "text/plain": [
       "array(['3 years', '6 years', '7 years', 'more than 7', '5 years', 'new',\n",
       "       '4 years', '2 years'], dtype=object)"
      ]
     },
     "execution_count": 14,
     "metadata": {},
     "output_type": "execute_result"
    }
   ],
   "source": [
    "ICD.AgeOfVehicle.unique()"
   ]
  },
  {
   "cell_type": "code",
   "execution_count": 15,
   "id": "1c8c960e",
   "metadata": {
    "execution": {
     "iopub.execute_input": "2022-01-14T01:35:25.070999Z",
     "iopub.status.busy": "2022-01-14T01:35:25.070212Z",
     "iopub.status.idle": "2022-01-14T01:35:25.414122Z",
     "shell.execute_reply": "2022-01-14T01:35:25.413538Z",
     "shell.execute_reply.started": "2022-01-14T01:05:08.290485Z"
    },
    "papermill": {
     "duration": 0.379238,
     "end_time": "2022-01-14T01:35:25.414282",
     "exception": false,
     "start_time": "2022-01-14T01:35:25.035044",
     "status": "completed"
    },
    "tags": []
   },
   "outputs": [
    {
     "data": {
      "text/plain": [
       "<seaborn.axisgrid.FacetGrid at 0x7f1f83c680d0>"
      ]
     },
     "execution_count": 15,
     "metadata": {},
     "output_type": "execute_result"
    },
    {
     "data": {
      "image/png": "[encoded data removed]",
      "text/plain": [
       "<Figure size 360x360 with 1 Axes>"
      ]
     },
     "metadata": {
      "needs_background": "light"
     },
     "output_type": "display_data"
    }
   ],
   "source": [
    "sns.displot(y = ICD[\"AgeOfVehicle\"])"
   ]
  },
  {
   "cell_type": "markdown",
   "id": "9d0737fb",
   "metadata": {
    "papermill": {
     "duration": 0.031318,
     "end_time": "2022-01-14T01:35:25.477038",
     "exception": false,
     "start_time": "2022-01-14T01:35:25.445720",
     "status": "completed"
    },
    "tags": []
   },
   "source": [
    "Here we see that most vehicles are 6 years or older."
   ]
  },
  {
   "cell_type": "code",
   "execution_count": 16,
   "id": "527bdde5",
   "metadata": {
    "execution": {
     "iopub.execute_input": "2022-01-14T01:35:25.545732Z",
     "iopub.status.busy": "2022-01-14T01:35:25.545083Z",
     "iopub.status.idle": "2022-01-14T01:35:25.860217Z",
     "shell.execute_reply": "2022-01-14T01:35:25.860712Z",
     "shell.execute_reply.started": "2022-01-14T01:11:07.759111Z"
    },
    "papermill": {
     "duration": 0.352394,
     "end_time": "2022-01-14T01:35:25.860949",
     "exception": false,
     "start_time": "2022-01-14T01:35:25.508555",
     "status": "completed"
    },
    "tags": []
   },
   "outputs": [
    {
     "data": {
      "text/plain": [
       "<seaborn.axisgrid.FacetGrid at 0x7f1f83dfc390>"
      ]
     },
     "execution_count": 16,
     "metadata": {},
     "output_type": "execute_result"
    },
    {
     "data": {
      "image/png": "[encoded data removed]",
      "text/plain": [
       "<Figure size 360x360 with 1 Axes>"
      ]
     },
     "metadata": {
      "needs_background": "light"
     },
     "output_type": "display_data"
    }
   ],
   "source": [
    "sns.displot(y = ICD[\"VehiclePrice\"])"
   ]
  },
  {
   "cell_type": "code",
   "execution_count": 17,
   "id": "c616bc5a",
   "metadata": {
    "execution": {
     "iopub.execute_input": "2022-01-14T01:35:25.933681Z",
     "iopub.status.busy": "2022-01-14T01:35:25.933030Z",
     "iopub.status.idle": "2022-01-14T01:35:25.936604Z",
     "shell.execute_reply": "2022-01-14T01:35:25.937118Z",
     "shell.execute_reply.started": "2022-01-14T01:15:54.71602Z"
    },
    "papermill": {
     "duration": 0.043043,
     "end_time": "2022-01-14T01:35:25.937322",
     "exception": false,
     "start_time": "2022-01-14T01:35:25.894279",
     "status": "completed"
    },
    "tags": []
   },
   "outputs": [
    {
     "data": {
      "text/plain": [
       "0.05985732814526589"
      ]
     },
     "execution_count": 17,
     "metadata": {},
     "output_type": "execute_result"
    }
   ],
   "source": [
    "ICD['FraudFound_P'].mean()"
   ]
  },
  {
   "cell_type": "markdown",
   "id": "81f0d17c",
   "metadata": {
    "papermill": {
     "duration": 0.033167,
     "end_time": "2022-01-14T01:35:26.003546",
     "exception": false,
     "start_time": "2022-01-14T01:35:25.970379",
     "status": "completed"
    },
    "tags": []
   },
   "source": [
    "In this dataset, about 6% of rows are classified as fraudulent claims."
   ]
  },
  {
   "cell_type": "code",
   "execution_count": null,
   "id": "a029c87d",
   "metadata": {
    "papermill": {
     "duration": 0.034239,
     "end_time": "2022-01-14T01:35:26.074448",
     "exception": false,
     "start_time": "2022-01-14T01:35:26.040209",
     "status": "completed"
    },
    "tags": []
   },
   "outputs": [],
   "source": []
  }
 ],
 "metadata": {
  "kernelspec": {
   "display_name": "Python 3",
   "language": "python",
   "name": "python3"
  },
  "language_info": {
   "codemirror_mode": {
    "name": "ipython",
    "version": 3
   },
   "file_extension": ".py",
   "mimetype": "text/x-python",
   "name": "python",
   "nbconvert_exporter": "python",
   "pygments_lexer": "ipython3",
   "version": "3.7.12"
  },
  "papermill": {
   "default_parameters": {},
   "duration": 17.687625,
   "end_time": "2022-01-14T01:35:26.919144",
   "environment_variables": {},
   "exception": null,
   "input_path": "__notebook__.ipynb",
   "output_path": "__notebook__.ipynb",
   "parameters": {},
   "start_time": "2022-01-14T01:35:09.231519",
   "version": "2.3.3"
  }
 },
 "nbformat": 4,
 "nbformat_minor": 5
}
